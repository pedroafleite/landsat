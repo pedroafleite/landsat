{
  "nbformat": 4,
  "nbformat_minor": 0,
  "metadata": {
    "colab": {
      "name": "landsat.ipynb",
      "provenance": [],
      "collapsed_sections": [],
      "authorship_tag": "ABX9TyOxhWQF20zEAPpAhEueEUyC",
      "include_colab_link": true
    },
    "kernelspec": {
      "display_name": "Python 3",
      "name": "python3"
    }
  },
  "cells": [
    {
      "cell_type": "markdown",
      "metadata": {
        "id": "view-in-github",
        "colab_type": "text"
      },
      "source": [
        "<a href=\"https://colab.research.google.com/github/pedroafleite/landsat/blob/main/landsat.ipynb\" target=\"_parent\"><img src=\"https://colab.research.google.com/assets/colab-badge.svg\" alt=\"Open In Colab\"/></a>"
      ]
    },
    {
      "cell_type": "code",
      "metadata": {
        "colab": {
          "base_uri": "https://localhost:8080/"
        },
        "id": "Ybh5aTsYihz5",
        "outputId": "9d38de22-169c-4f58-f566-dc3b1b4c79cc"
      },
      "source": [
        "import numpy as np\r\n",
        "import pandas as pd\r\n",
        "import matplotlib.pyplot as plt\r\n",
        "%matplotlib inline\r\n",
        "\r\n",
        "from google.colab import drive\r\n",
        "drive.mount('/content/drive')"
      ],
      "execution_count": null,
      "outputs": [
        {
          "output_type": "stream",
          "text": [
            "Mounted at /content/drive\n"
          ],
          "name": "stdout"
        }
      ]
    },
    {
      "cell_type": "code",
      "metadata": {
        "colab": {
          "base_uri": "https://localhost:8080/"
        },
        "id": "kLtzHDdKvLCP",
        "outputId": "6e7bf5fa-910e-4af7-ec5f-f70bf828388f"
      },
      "source": [
        "sat = pd.read_csv(\"/content/drive/MyDrive/Colab Notebooks/landsat/sat.trn\", sep=' ', header=None)\r\n",
        "print(sat.shape)\r\n",
        "sat_test = pd.read_csv(\"/content/drive/MyDrive/Colab Notebooks/landsat/sat.tst\", sep=' ', header=None)\r\n",
        "print(sat_test.shape)"
      ],
      "execution_count": null,
      "outputs": [
        {
          "output_type": "stream",
          "text": [
            "(4435, 37)\n",
            "(2000, 37)\n"
          ],
          "name": "stdout"
        }
      ]
    },
    {
      "cell_type": "code",
      "metadata": {
        "id": "IaPaV3-TxUvT"
      },
      "source": [
        "sat.rename(columns={36: 'Class'}, inplace=True)"
      ],
      "execution_count": null,
      "outputs": []
    },
    {
      "cell_type": "code",
      "metadata": {
        "colab": {
          "base_uri": "https://localhost:8080/",
          "height": 224
        },
        "id": "PrqLfUYd_wtc",
        "outputId": "70cceb53-3c7b-4f2c-e481-e735c3f1164e"
      },
      "source": [
        "sat.head()"
      ],
      "execution_count": null,
      "outputs": [
        {
          "output_type": "execute_result",
          "data": {
            "text/html": [
              "<div>\n",
              "<style scoped>\n",
              "    .dataframe tbody tr th:only-of-type {\n",
              "        vertical-align: middle;\n",
              "    }\n",
              "\n",
              "    .dataframe tbody tr th {\n",
              "        vertical-align: top;\n",
              "    }\n",
              "\n",
              "    .dataframe thead th {\n",
              "        text-align: right;\n",
              "    }\n",
              "</style>\n",
              "<table border=\"1\" class=\"dataframe\">\n",
              "  <thead>\n",
              "    <tr style=\"text-align: right;\">\n",
              "      <th></th>\n",
              "      <th>0</th>\n",
              "      <th>1</th>\n",
              "      <th>2</th>\n",
              "      <th>3</th>\n",
              "      <th>4</th>\n",
              "      <th>5</th>\n",
              "      <th>6</th>\n",
              "      <th>7</th>\n",
              "      <th>8</th>\n",
              "      <th>9</th>\n",
              "      <th>10</th>\n",
              "      <th>11</th>\n",
              "      <th>12</th>\n",
              "      <th>13</th>\n",
              "      <th>14</th>\n",
              "      <th>15</th>\n",
              "      <th>16</th>\n",
              "      <th>17</th>\n",
              "      <th>18</th>\n",
              "      <th>19</th>\n",
              "      <th>20</th>\n",
              "      <th>21</th>\n",
              "      <th>22</th>\n",
              "      <th>23</th>\n",
              "      <th>24</th>\n",
              "      <th>25</th>\n",
              "      <th>26</th>\n",
              "      <th>27</th>\n",
              "      <th>28</th>\n",
              "      <th>29</th>\n",
              "      <th>30</th>\n",
              "      <th>31</th>\n",
              "      <th>32</th>\n",
              "      <th>33</th>\n",
              "      <th>34</th>\n",
              "      <th>35</th>\n",
              "      <th>Class</th>\n",
              "    </tr>\n",
              "  </thead>\n",
              "  <tbody>\n",
              "    <tr>\n",
              "      <th>0</th>\n",
              "      <td>92</td>\n",
              "      <td>115</td>\n",
              "      <td>120</td>\n",
              "      <td>94</td>\n",
              "      <td>84</td>\n",
              "      <td>102</td>\n",
              "      <td>106</td>\n",
              "      <td>79</td>\n",
              "      <td>84</td>\n",
              "      <td>102</td>\n",
              "      <td>102</td>\n",
              "      <td>83</td>\n",
              "      <td>101</td>\n",
              "      <td>126</td>\n",
              "      <td>133</td>\n",
              "      <td>103</td>\n",
              "      <td>92</td>\n",
              "      <td>112</td>\n",
              "      <td>118</td>\n",
              "      <td>85</td>\n",
              "      <td>84</td>\n",
              "      <td>103</td>\n",
              "      <td>104</td>\n",
              "      <td>81</td>\n",
              "      <td>102</td>\n",
              "      <td>126</td>\n",
              "      <td>134</td>\n",
              "      <td>104</td>\n",
              "      <td>88</td>\n",
              "      <td>121</td>\n",
              "      <td>128</td>\n",
              "      <td>100</td>\n",
              "      <td>84</td>\n",
              "      <td>107</td>\n",
              "      <td>113</td>\n",
              "      <td>87</td>\n",
              "      <td>3</td>\n",
              "    </tr>\n",
              "    <tr>\n",
              "      <th>1</th>\n",
              "      <td>84</td>\n",
              "      <td>102</td>\n",
              "      <td>106</td>\n",
              "      <td>79</td>\n",
              "      <td>84</td>\n",
              "      <td>102</td>\n",
              "      <td>102</td>\n",
              "      <td>83</td>\n",
              "      <td>80</td>\n",
              "      <td>102</td>\n",
              "      <td>102</td>\n",
              "      <td>79</td>\n",
              "      <td>92</td>\n",
              "      <td>112</td>\n",
              "      <td>118</td>\n",
              "      <td>85</td>\n",
              "      <td>84</td>\n",
              "      <td>103</td>\n",
              "      <td>104</td>\n",
              "      <td>81</td>\n",
              "      <td>84</td>\n",
              "      <td>99</td>\n",
              "      <td>104</td>\n",
              "      <td>78</td>\n",
              "      <td>88</td>\n",
              "      <td>121</td>\n",
              "      <td>128</td>\n",
              "      <td>100</td>\n",
              "      <td>84</td>\n",
              "      <td>107</td>\n",
              "      <td>113</td>\n",
              "      <td>87</td>\n",
              "      <td>84</td>\n",
              "      <td>99</td>\n",
              "      <td>104</td>\n",
              "      <td>79</td>\n",
              "      <td>3</td>\n",
              "    </tr>\n",
              "    <tr>\n",
              "      <th>2</th>\n",
              "      <td>84</td>\n",
              "      <td>102</td>\n",
              "      <td>102</td>\n",
              "      <td>83</td>\n",
              "      <td>80</td>\n",
              "      <td>102</td>\n",
              "      <td>102</td>\n",
              "      <td>79</td>\n",
              "      <td>84</td>\n",
              "      <td>94</td>\n",
              "      <td>102</td>\n",
              "      <td>79</td>\n",
              "      <td>84</td>\n",
              "      <td>103</td>\n",
              "      <td>104</td>\n",
              "      <td>81</td>\n",
              "      <td>84</td>\n",
              "      <td>99</td>\n",
              "      <td>104</td>\n",
              "      <td>78</td>\n",
              "      <td>84</td>\n",
              "      <td>99</td>\n",
              "      <td>104</td>\n",
              "      <td>81</td>\n",
              "      <td>84</td>\n",
              "      <td>107</td>\n",
              "      <td>113</td>\n",
              "      <td>87</td>\n",
              "      <td>84</td>\n",
              "      <td>99</td>\n",
              "      <td>104</td>\n",
              "      <td>79</td>\n",
              "      <td>84</td>\n",
              "      <td>99</td>\n",
              "      <td>104</td>\n",
              "      <td>79</td>\n",
              "      <td>3</td>\n",
              "    </tr>\n",
              "    <tr>\n",
              "      <th>3</th>\n",
              "      <td>80</td>\n",
              "      <td>102</td>\n",
              "      <td>102</td>\n",
              "      <td>79</td>\n",
              "      <td>84</td>\n",
              "      <td>94</td>\n",
              "      <td>102</td>\n",
              "      <td>79</td>\n",
              "      <td>80</td>\n",
              "      <td>94</td>\n",
              "      <td>98</td>\n",
              "      <td>76</td>\n",
              "      <td>84</td>\n",
              "      <td>99</td>\n",
              "      <td>104</td>\n",
              "      <td>78</td>\n",
              "      <td>84</td>\n",
              "      <td>99</td>\n",
              "      <td>104</td>\n",
              "      <td>81</td>\n",
              "      <td>76</td>\n",
              "      <td>99</td>\n",
              "      <td>104</td>\n",
              "      <td>81</td>\n",
              "      <td>84</td>\n",
              "      <td>99</td>\n",
              "      <td>104</td>\n",
              "      <td>79</td>\n",
              "      <td>84</td>\n",
              "      <td>99</td>\n",
              "      <td>104</td>\n",
              "      <td>79</td>\n",
              "      <td>84</td>\n",
              "      <td>103</td>\n",
              "      <td>104</td>\n",
              "      <td>79</td>\n",
              "      <td>3</td>\n",
              "    </tr>\n",
              "    <tr>\n",
              "      <th>4</th>\n",
              "      <td>84</td>\n",
              "      <td>94</td>\n",
              "      <td>102</td>\n",
              "      <td>79</td>\n",
              "      <td>80</td>\n",
              "      <td>94</td>\n",
              "      <td>98</td>\n",
              "      <td>76</td>\n",
              "      <td>80</td>\n",
              "      <td>102</td>\n",
              "      <td>102</td>\n",
              "      <td>79</td>\n",
              "      <td>84</td>\n",
              "      <td>99</td>\n",
              "      <td>104</td>\n",
              "      <td>81</td>\n",
              "      <td>76</td>\n",
              "      <td>99</td>\n",
              "      <td>104</td>\n",
              "      <td>81</td>\n",
              "      <td>76</td>\n",
              "      <td>99</td>\n",
              "      <td>108</td>\n",
              "      <td>85</td>\n",
              "      <td>84</td>\n",
              "      <td>99</td>\n",
              "      <td>104</td>\n",
              "      <td>79</td>\n",
              "      <td>84</td>\n",
              "      <td>103</td>\n",
              "      <td>104</td>\n",
              "      <td>79</td>\n",
              "      <td>79</td>\n",
              "      <td>107</td>\n",
              "      <td>109</td>\n",
              "      <td>87</td>\n",
              "      <td>3</td>\n",
              "    </tr>\n",
              "  </tbody>\n",
              "</table>\n",
              "</div>"
            ],
            "text/plain": [
              "    0    1    2   3   4    5    6   7  ...   29   30   31  32   33   34  35  Class\n",
              "0  92  115  120  94  84  102  106  79  ...  121  128  100  84  107  113  87      3\n",
              "1  84  102  106  79  84  102  102  83  ...  107  113   87  84   99  104  79      3\n",
              "2  84  102  102  83  80  102  102  79  ...   99  104   79  84   99  104  79      3\n",
              "3  80  102  102  79  84   94  102  79  ...   99  104   79  84  103  104  79      3\n",
              "4  84   94  102  79  80   94   98  76  ...  103  104   79  79  107  109  87      3\n",
              "\n",
              "[5 rows x 37 columns]"
            ]
          },
          "metadata": {
            "tags": []
          },
          "execution_count": 4
        }
      ]
    },
    {
      "cell_type": "code",
      "metadata": {
        "colab": {
          "base_uri": "https://localhost:8080/"
        },
        "id": "pLcsVWRuCBQg",
        "outputId": "73c1859b-227b-4177-af82-5fda277277f5"
      },
      "source": [
        "sat['Class'].value_counts()"
      ],
      "execution_count": null,
      "outputs": [
        {
          "output_type": "execute_result",
          "data": {
            "text/plain": [
              "1    1072\n",
              "7    1038\n",
              "3     961\n",
              "2     479\n",
              "5     470\n",
              "4     415\n",
              "Name: Class, dtype: int64"
            ]
          },
          "metadata": {
            "tags": []
          },
          "execution_count": 5
        }
      ]
    },
    {
      "cell_type": "markdown",
      "metadata": {
        "id": "miaVk1OnE7WR"
      },
      "source": [
        "## Binary Classification\r\n",
        "\r\n",
        "One frame of Landsat MSS imagery consists of four digital images of the same scene in different spectral bands. Two of these are in the visible region (corresponding approximately to green and red regions of the visible spectrum) and two are in the (near) infra-red. Each pixel is a 8-bit binary word, with 0 corresponding to black and 255 to white. The spatial resolution of a pixel is about 80m x 80m. Each image contains 2340 x 3380 such pixels.\r\n",
        "\r\n",
        "The database is a (tiny) sub-area of a scene, consisting of 82 x 100 pixels. Each line of data corresponds to a 3x3 square neighbourhood of pixels completely contained within the 82x100 sub-area. Each line contains the pixel values in the four spectral bands (converted to ASCII) of each of the 9 pixels in the 3x3 neighbourhood and a number indicating the classification label of the central pixel. The number is a code for the following classes:\r\n",
        "\r\n",
        "\r\n",
        "Remember that Number Class:\r\n",
        "\r\n",
        "1 red soil\r\n",
        "\r\n",
        "2 cotton crop\r\n",
        "\r\n",
        "3 grey soil\r\n",
        "\r\n",
        "4 damp grey soil\r\n",
        "\r\n",
        "5 soil with vegetation stubble\r\n",
        "\r\n",
        "6 mixture class (all types present)\r\n",
        "\r\n",
        "7 very damp grey soil"
      ]
    },
    {
      "cell_type": "code",
      "metadata": {
        "colab": {
          "base_uri": "https://localhost:8080/",
          "height": 439
        },
        "id": "NYj6foskm-ls",
        "outputId": "2e157db2-7c04-449e-f5e7-cfde93754f0f"
      },
      "source": [
        "txt = ['top_left1', 'top_left2', 'top_left3', 'top_left4', \r\n",
        "       'top_center1', 'top_center2', 'top_center3', 'top_center4',\r\n",
        "       'top_right1', 'top_right2', 'top_right3', 'top_right4',\r\n",
        "       'middle_left1', 'middle_left2', 'middle_left3', 'middle_left4', \r\n",
        "       'middle_center1', 'middle_center2', 'middle_center3', 'middle_center4',\r\n",
        "       'middle_right1', 'middle_right2', 'middle_right3', 'middle_right4',\r\n",
        "       'bottom_left1', 'bottom_left2', 'bottom_left3', 'bottom_left4', \r\n",
        "       'bottom_center1', 'bottom_center2', 'bottom_center3', 'bottom_center4',\r\n",
        "       'bottom_right1', 'bottom_right2', 'bottom_right3', 'bottom_right4', 'Class']\r\n",
        "sat = pd.read_csv(\"/content/drive/MyDrive/Colab Notebooks/landsat/sat.trn\", sep=' ', dtype=str, names=txt)\r\n",
        "sat"
      ],
      "execution_count": null,
      "outputs": [
        {
          "output_type": "execute_result",
          "data": {
            "text/html": [
              "<div>\n",
              "<style scoped>\n",
              "    .dataframe tbody tr th:only-of-type {\n",
              "        vertical-align: middle;\n",
              "    }\n",
              "\n",
              "    .dataframe tbody tr th {\n",
              "        vertical-align: top;\n",
              "    }\n",
              "\n",
              "    .dataframe thead th {\n",
              "        text-align: right;\n",
              "    }\n",
              "</style>\n",
              "<table border=\"1\" class=\"dataframe\">\n",
              "  <thead>\n",
              "    <tr style=\"text-align: right;\">\n",
              "      <th></th>\n",
              "      <th>top_left1</th>\n",
              "      <th>top_left2</th>\n",
              "      <th>top_left3</th>\n",
              "      <th>top_left4</th>\n",
              "      <th>top_center1</th>\n",
              "      <th>top_center2</th>\n",
              "      <th>top_center3</th>\n",
              "      <th>top_center4</th>\n",
              "      <th>top_right1</th>\n",
              "      <th>top_right2</th>\n",
              "      <th>top_right3</th>\n",
              "      <th>top_right4</th>\n",
              "      <th>middle_left1</th>\n",
              "      <th>middle_left2</th>\n",
              "      <th>middle_left3</th>\n",
              "      <th>middle_left4</th>\n",
              "      <th>middle_center1</th>\n",
              "      <th>middle_center2</th>\n",
              "      <th>middle_center3</th>\n",
              "      <th>middle_center4</th>\n",
              "      <th>middle_right1</th>\n",
              "      <th>middle_right2</th>\n",
              "      <th>middle_right3</th>\n",
              "      <th>middle_right4</th>\n",
              "      <th>bottom_left1</th>\n",
              "      <th>bottom_left2</th>\n",
              "      <th>bottom_left3</th>\n",
              "      <th>bottom_left4</th>\n",
              "      <th>bottom_center1</th>\n",
              "      <th>bottom_center2</th>\n",
              "      <th>bottom_center3</th>\n",
              "      <th>bottom_center4</th>\n",
              "      <th>bottom_right1</th>\n",
              "      <th>bottom_right2</th>\n",
              "      <th>bottom_right3</th>\n",
              "      <th>bottom_right4</th>\n",
              "      <th>Class</th>\n",
              "    </tr>\n",
              "  </thead>\n",
              "  <tbody>\n",
              "    <tr>\n",
              "      <th>0</th>\n",
              "      <td>92</td>\n",
              "      <td>115</td>\n",
              "      <td>120</td>\n",
              "      <td>94</td>\n",
              "      <td>84</td>\n",
              "      <td>102</td>\n",
              "      <td>106</td>\n",
              "      <td>79</td>\n",
              "      <td>84</td>\n",
              "      <td>102</td>\n",
              "      <td>102</td>\n",
              "      <td>83</td>\n",
              "      <td>101</td>\n",
              "      <td>126</td>\n",
              "      <td>133</td>\n",
              "      <td>103</td>\n",
              "      <td>92</td>\n",
              "      <td>112</td>\n",
              "      <td>118</td>\n",
              "      <td>85</td>\n",
              "      <td>84</td>\n",
              "      <td>103</td>\n",
              "      <td>104</td>\n",
              "      <td>81</td>\n",
              "      <td>102</td>\n",
              "      <td>126</td>\n",
              "      <td>134</td>\n",
              "      <td>104</td>\n",
              "      <td>88</td>\n",
              "      <td>121</td>\n",
              "      <td>128</td>\n",
              "      <td>100</td>\n",
              "      <td>84</td>\n",
              "      <td>107</td>\n",
              "      <td>113</td>\n",
              "      <td>87</td>\n",
              "      <td>3</td>\n",
              "    </tr>\n",
              "    <tr>\n",
              "      <th>1</th>\n",
              "      <td>84</td>\n",
              "      <td>102</td>\n",
              "      <td>106</td>\n",
              "      <td>79</td>\n",
              "      <td>84</td>\n",
              "      <td>102</td>\n",
              "      <td>102</td>\n",
              "      <td>83</td>\n",
              "      <td>80</td>\n",
              "      <td>102</td>\n",
              "      <td>102</td>\n",
              "      <td>79</td>\n",
              "      <td>92</td>\n",
              "      <td>112</td>\n",
              "      <td>118</td>\n",
              "      <td>85</td>\n",
              "      <td>84</td>\n",
              "      <td>103</td>\n",
              "      <td>104</td>\n",
              "      <td>81</td>\n",
              "      <td>84</td>\n",
              "      <td>99</td>\n",
              "      <td>104</td>\n",
              "      <td>78</td>\n",
              "      <td>88</td>\n",
              "      <td>121</td>\n",
              "      <td>128</td>\n",
              "      <td>100</td>\n",
              "      <td>84</td>\n",
              "      <td>107</td>\n",
              "      <td>113</td>\n",
              "      <td>87</td>\n",
              "      <td>84</td>\n",
              "      <td>99</td>\n",
              "      <td>104</td>\n",
              "      <td>79</td>\n",
              "      <td>3</td>\n",
              "    </tr>\n",
              "    <tr>\n",
              "      <th>2</th>\n",
              "      <td>84</td>\n",
              "      <td>102</td>\n",
              "      <td>102</td>\n",
              "      <td>83</td>\n",
              "      <td>80</td>\n",
              "      <td>102</td>\n",
              "      <td>102</td>\n",
              "      <td>79</td>\n",
              "      <td>84</td>\n",
              "      <td>94</td>\n",
              "      <td>102</td>\n",
              "      <td>79</td>\n",
              "      <td>84</td>\n",
              "      <td>103</td>\n",
              "      <td>104</td>\n",
              "      <td>81</td>\n",
              "      <td>84</td>\n",
              "      <td>99</td>\n",
              "      <td>104</td>\n",
              "      <td>78</td>\n",
              "      <td>84</td>\n",
              "      <td>99</td>\n",
              "      <td>104</td>\n",
              "      <td>81</td>\n",
              "      <td>84</td>\n",
              "      <td>107</td>\n",
              "      <td>113</td>\n",
              "      <td>87</td>\n",
              "      <td>84</td>\n",
              "      <td>99</td>\n",
              "      <td>104</td>\n",
              "      <td>79</td>\n",
              "      <td>84</td>\n",
              "      <td>99</td>\n",
              "      <td>104</td>\n",
              "      <td>79</td>\n",
              "      <td>3</td>\n",
              "    </tr>\n",
              "    <tr>\n",
              "      <th>3</th>\n",
              "      <td>80</td>\n",
              "      <td>102</td>\n",
              "      <td>102</td>\n",
              "      <td>79</td>\n",
              "      <td>84</td>\n",
              "      <td>94</td>\n",
              "      <td>102</td>\n",
              "      <td>79</td>\n",
              "      <td>80</td>\n",
              "      <td>94</td>\n",
              "      <td>98</td>\n",
              "      <td>76</td>\n",
              "      <td>84</td>\n",
              "      <td>99</td>\n",
              "      <td>104</td>\n",
              "      <td>78</td>\n",
              "      <td>84</td>\n",
              "      <td>99</td>\n",
              "      <td>104</td>\n",
              "      <td>81</td>\n",
              "      <td>76</td>\n",
              "      <td>99</td>\n",
              "      <td>104</td>\n",
              "      <td>81</td>\n",
              "      <td>84</td>\n",
              "      <td>99</td>\n",
              "      <td>104</td>\n",
              "      <td>79</td>\n",
              "      <td>84</td>\n",
              "      <td>99</td>\n",
              "      <td>104</td>\n",
              "      <td>79</td>\n",
              "      <td>84</td>\n",
              "      <td>103</td>\n",
              "      <td>104</td>\n",
              "      <td>79</td>\n",
              "      <td>3</td>\n",
              "    </tr>\n",
              "    <tr>\n",
              "      <th>4</th>\n",
              "      <td>84</td>\n",
              "      <td>94</td>\n",
              "      <td>102</td>\n",
              "      <td>79</td>\n",
              "      <td>80</td>\n",
              "      <td>94</td>\n",
              "      <td>98</td>\n",
              "      <td>76</td>\n",
              "      <td>80</td>\n",
              "      <td>102</td>\n",
              "      <td>102</td>\n",
              "      <td>79</td>\n",
              "      <td>84</td>\n",
              "      <td>99</td>\n",
              "      <td>104</td>\n",
              "      <td>81</td>\n",
              "      <td>76</td>\n",
              "      <td>99</td>\n",
              "      <td>104</td>\n",
              "      <td>81</td>\n",
              "      <td>76</td>\n",
              "      <td>99</td>\n",
              "      <td>108</td>\n",
              "      <td>85</td>\n",
              "      <td>84</td>\n",
              "      <td>99</td>\n",
              "      <td>104</td>\n",
              "      <td>79</td>\n",
              "      <td>84</td>\n",
              "      <td>103</td>\n",
              "      <td>104</td>\n",
              "      <td>79</td>\n",
              "      <td>79</td>\n",
              "      <td>107</td>\n",
              "      <td>109</td>\n",
              "      <td>87</td>\n",
              "      <td>3</td>\n",
              "    </tr>\n",
              "    <tr>\n",
              "      <th>...</th>\n",
              "      <td>...</td>\n",
              "      <td>...</td>\n",
              "      <td>...</td>\n",
              "      <td>...</td>\n",
              "      <td>...</td>\n",
              "      <td>...</td>\n",
              "      <td>...</td>\n",
              "      <td>...</td>\n",
              "      <td>...</td>\n",
              "      <td>...</td>\n",
              "      <td>...</td>\n",
              "      <td>...</td>\n",
              "      <td>...</td>\n",
              "      <td>...</td>\n",
              "      <td>...</td>\n",
              "      <td>...</td>\n",
              "      <td>...</td>\n",
              "      <td>...</td>\n",
              "      <td>...</td>\n",
              "      <td>...</td>\n",
              "      <td>...</td>\n",
              "      <td>...</td>\n",
              "      <td>...</td>\n",
              "      <td>...</td>\n",
              "      <td>...</td>\n",
              "      <td>...</td>\n",
              "      <td>...</td>\n",
              "      <td>...</td>\n",
              "      <td>...</td>\n",
              "      <td>...</td>\n",
              "      <td>...</td>\n",
              "      <td>...</td>\n",
              "      <td>...</td>\n",
              "      <td>...</td>\n",
              "      <td>...</td>\n",
              "      <td>...</td>\n",
              "      <td>...</td>\n",
              "    </tr>\n",
              "    <tr>\n",
              "      <th>4430</th>\n",
              "      <td>56</td>\n",
              "      <td>64</td>\n",
              "      <td>108</td>\n",
              "      <td>96</td>\n",
              "      <td>64</td>\n",
              "      <td>71</td>\n",
              "      <td>108</td>\n",
              "      <td>96</td>\n",
              "      <td>68</td>\n",
              "      <td>75</td>\n",
              "      <td>108</td>\n",
              "      <td>96</td>\n",
              "      <td>59</td>\n",
              "      <td>75</td>\n",
              "      <td>109</td>\n",
              "      <td>96</td>\n",
              "      <td>67</td>\n",
              "      <td>87</td>\n",
              "      <td>113</td>\n",
              "      <td>96</td>\n",
              "      <td>67</td>\n",
              "      <td>95</td>\n",
              "      <td>109</td>\n",
              "      <td>92</td>\n",
              "      <td>63</td>\n",
              "      <td>79</td>\n",
              "      <td>108</td>\n",
              "      <td>92</td>\n",
              "      <td>66</td>\n",
              "      <td>83</td>\n",
              "      <td>108</td>\n",
              "      <td>96</td>\n",
              "      <td>66</td>\n",
              "      <td>87</td>\n",
              "      <td>104</td>\n",
              "      <td>89</td>\n",
              "      <td>5</td>\n",
              "    </tr>\n",
              "    <tr>\n",
              "      <th>4431</th>\n",
              "      <td>64</td>\n",
              "      <td>71</td>\n",
              "      <td>108</td>\n",
              "      <td>96</td>\n",
              "      <td>68</td>\n",
              "      <td>75</td>\n",
              "      <td>108</td>\n",
              "      <td>96</td>\n",
              "      <td>71</td>\n",
              "      <td>87</td>\n",
              "      <td>108</td>\n",
              "      <td>88</td>\n",
              "      <td>67</td>\n",
              "      <td>87</td>\n",
              "      <td>113</td>\n",
              "      <td>96</td>\n",
              "      <td>67</td>\n",
              "      <td>95</td>\n",
              "      <td>109</td>\n",
              "      <td>92</td>\n",
              "      <td>75</td>\n",
              "      <td>99</td>\n",
              "      <td>104</td>\n",
              "      <td>83</td>\n",
              "      <td>66</td>\n",
              "      <td>83</td>\n",
              "      <td>108</td>\n",
              "      <td>96</td>\n",
              "      <td>66</td>\n",
              "      <td>87</td>\n",
              "      <td>104</td>\n",
              "      <td>89</td>\n",
              "      <td>63</td>\n",
              "      <td>87</td>\n",
              "      <td>104</td>\n",
              "      <td>89</td>\n",
              "      <td>5</td>\n",
              "    </tr>\n",
              "    <tr>\n",
              "      <th>4432</th>\n",
              "      <td>68</td>\n",
              "      <td>75</td>\n",
              "      <td>108</td>\n",
              "      <td>96</td>\n",
              "      <td>71</td>\n",
              "      <td>87</td>\n",
              "      <td>108</td>\n",
              "      <td>88</td>\n",
              "      <td>71</td>\n",
              "      <td>91</td>\n",
              "      <td>100</td>\n",
              "      <td>81</td>\n",
              "      <td>67</td>\n",
              "      <td>95</td>\n",
              "      <td>109</td>\n",
              "      <td>92</td>\n",
              "      <td>75</td>\n",
              "      <td>99</td>\n",
              "      <td>104</td>\n",
              "      <td>83</td>\n",
              "      <td>75</td>\n",
              "      <td>95</td>\n",
              "      <td>100</td>\n",
              "      <td>79</td>\n",
              "      <td>66</td>\n",
              "      <td>87</td>\n",
              "      <td>104</td>\n",
              "      <td>89</td>\n",
              "      <td>63</td>\n",
              "      <td>87</td>\n",
              "      <td>104</td>\n",
              "      <td>89</td>\n",
              "      <td>70</td>\n",
              "      <td>100</td>\n",
              "      <td>104</td>\n",
              "      <td>85</td>\n",
              "      <td>4</td>\n",
              "    </tr>\n",
              "    <tr>\n",
              "      <th>4433</th>\n",
              "      <td>71</td>\n",
              "      <td>87</td>\n",
              "      <td>108</td>\n",
              "      <td>88</td>\n",
              "      <td>71</td>\n",
              "      <td>91</td>\n",
              "      <td>100</td>\n",
              "      <td>81</td>\n",
              "      <td>76</td>\n",
              "      <td>95</td>\n",
              "      <td>108</td>\n",
              "      <td>88</td>\n",
              "      <td>75</td>\n",
              "      <td>99</td>\n",
              "      <td>104</td>\n",
              "      <td>83</td>\n",
              "      <td>75</td>\n",
              "      <td>95</td>\n",
              "      <td>100</td>\n",
              "      <td>79</td>\n",
              "      <td>71</td>\n",
              "      <td>91</td>\n",
              "      <td>100</td>\n",
              "      <td>83</td>\n",
              "      <td>63</td>\n",
              "      <td>87</td>\n",
              "      <td>104</td>\n",
              "      <td>89</td>\n",
              "      <td>70</td>\n",
              "      <td>100</td>\n",
              "      <td>104</td>\n",
              "      <td>85</td>\n",
              "      <td>70</td>\n",
              "      <td>91</td>\n",
              "      <td>104</td>\n",
              "      <td>85</td>\n",
              "      <td>4</td>\n",
              "    </tr>\n",
              "    <tr>\n",
              "      <th>4434</th>\n",
              "      <td>71</td>\n",
              "      <td>91</td>\n",
              "      <td>100</td>\n",
              "      <td>81</td>\n",
              "      <td>76</td>\n",
              "      <td>95</td>\n",
              "      <td>108</td>\n",
              "      <td>88</td>\n",
              "      <td>80</td>\n",
              "      <td>95</td>\n",
              "      <td>104</td>\n",
              "      <td>85</td>\n",
              "      <td>75</td>\n",
              "      <td>95</td>\n",
              "      <td>100</td>\n",
              "      <td>79</td>\n",
              "      <td>71</td>\n",
              "      <td>91</td>\n",
              "      <td>100</td>\n",
              "      <td>83</td>\n",
              "      <td>71</td>\n",
              "      <td>95</td>\n",
              "      <td>104</td>\n",
              "      <td>87</td>\n",
              "      <td>70</td>\n",
              "      <td>100</td>\n",
              "      <td>104</td>\n",
              "      <td>85</td>\n",
              "      <td>70</td>\n",
              "      <td>91</td>\n",
              "      <td>104</td>\n",
              "      <td>85</td>\n",
              "      <td>63</td>\n",
              "      <td>91</td>\n",
              "      <td>100</td>\n",
              "      <td>81</td>\n",
              "      <td>4</td>\n",
              "    </tr>\n",
              "  </tbody>\n",
              "</table>\n",
              "<p>4435 rows × 37 columns</p>\n",
              "</div>"
            ],
            "text/plain": [
              "     top_left1 top_left2 top_left3  ... bottom_right3 bottom_right4 Class\n",
              "0           92       115       120  ...           113            87     3\n",
              "1           84       102       106  ...           104            79     3\n",
              "2           84       102       102  ...           104            79     3\n",
              "3           80       102       102  ...           104            79     3\n",
              "4           84        94       102  ...           109            87     3\n",
              "...        ...       ...       ...  ...           ...           ...   ...\n",
              "4430        56        64       108  ...           104            89     5\n",
              "4431        64        71       108  ...           104            89     5\n",
              "4432        68        75       108  ...           104            85     4\n",
              "4433        71        87       108  ...           104            85     4\n",
              "4434        71        91       100  ...           100            81     4\n",
              "\n",
              "[4435 rows x 37 columns]"
            ]
          },
          "metadata": {
            "tags": []
          },
          "execution_count": 6
        }
      ]
    },
    {
      "cell_type": "markdown",
      "metadata": {
        "id": "NB543PAUm_Yc"
      },
      "source": [
        "In each line of data the four spectral values for the top-left pixel are given first followed by the four spectral values for the top-middle pixel and then those for the top-right pixel, and so on with the pixels read out in sequence left-to-right and top-to-bottom. \r\n",
        "\r\n",
        " Thus, the four spectral values for the central pixel are given by attributes 17,18,19 and 20 (which would be 'middle_center1', 'middle_center2', 'middle_center3', 'middle_center4'). If you like you can use only these four attributes, while ignoring the others. This avoids the problem which arises when a 3x3 neighbourhood straddles a boundary."
      ]
    },
    {
      "cell_type": "code",
      "metadata": {
        "id": "MQwGgBX65akV"
      },
      "source": [
        "sat_band1 = sat[['top_left1', 'top_center1', 'top_right1', \r\n",
        "                 'middle_left1', 'middle_center1', 'middle_right1',\r\n",
        "                 'bottom_left1', 'bottom_center1', 'bottom_right1']].astype('int')\r\n",
        "sat_band2 = sat[['top_left2', 'top_center2', 'top_right2', \r\n",
        "                 'middle_left2', 'middle_center2', 'middle_right2', \r\n",
        "                 'bottom_left2', 'bottom_center2', 'bottom_right2']].astype('int')\r\n",
        "sat_band3 = sat[['top_left3', 'top_center3', 'top_right3', \r\n",
        "                 'middle_left3', 'middle_center3', 'middle_right3', \r\n",
        "                 'bottom_left3', 'bottom_center3', 'bottom_right3']].astype('int')\r\n",
        "sat_band4 = sat[['top_left4', 'top_center4', 'top_right4', \r\n",
        "                 'middle_left4', 'middle_center4', 'middle_right4', \r\n",
        "                 'bottom_left4', 'bottom_center4', 'bottom_right4']].astype('int')"
      ],
      "execution_count": null,
      "outputs": []
    },
    {
      "cell_type": "code",
      "metadata": {
        "colab": {
          "base_uri": "https://localhost:8080/"
        },
        "id": "_b3NX6YaAocy",
        "outputId": "fbde6e71-7751-476f-b9ce-d0df624d6438"
      },
      "source": [
        "sat_band1.values"
      ],
      "execution_count": null,
      "outputs": [
        {
          "output_type": "execute_result",
          "data": {
            "text/plain": [
              "array([[ 92,  84,  84, ..., 102,  88,  84],\n",
              "       [ 84,  84,  80, ...,  88,  84,  84],\n",
              "       [ 84,  80,  84, ...,  84,  84,  84],\n",
              "       ...,\n",
              "       [ 68,  71,  71, ...,  66,  63,  70],\n",
              "       [ 71,  71,  76, ...,  63,  70,  70],\n",
              "       [ 71,  76,  80, ...,  70,  70,  63]])"
            ]
          },
          "metadata": {
            "tags": []
          },
          "execution_count": 8
        }
      ]
    },
    {
      "cell_type": "code",
      "metadata": {
        "colab": {
          "base_uri": "https://localhost:8080/",
          "height": 80
        },
        "id": "mJOwvbCLTa2u",
        "outputId": "be6893ab-1926-4f28-ffc9-2c53392ab88c"
      },
      "source": [
        "sat_band1.iloc[3000:3001]"
      ],
      "execution_count": null,
      "outputs": [
        {
          "output_type": "execute_result",
          "data": {
            "text/html": [
              "<div>\n",
              "<style scoped>\n",
              "    .dataframe tbody tr th:only-of-type {\n",
              "        vertical-align: middle;\n",
              "    }\n",
              "\n",
              "    .dataframe tbody tr th {\n",
              "        vertical-align: top;\n",
              "    }\n",
              "\n",
              "    .dataframe thead th {\n",
              "        text-align: right;\n",
              "    }\n",
              "</style>\n",
              "<table border=\"1\" class=\"dataframe\">\n",
              "  <thead>\n",
              "    <tr style=\"text-align: right;\">\n",
              "      <th></th>\n",
              "      <th>top_left1</th>\n",
              "      <th>top_center1</th>\n",
              "      <th>top_right1</th>\n",
              "      <th>middle_left1</th>\n",
              "      <th>middle_center1</th>\n",
              "      <th>middle_right1</th>\n",
              "      <th>bottom_left1</th>\n",
              "      <th>bottom_center1</th>\n",
              "      <th>bottom_right1</th>\n",
              "    </tr>\n",
              "  </thead>\n",
              "  <tbody>\n",
              "    <tr>\n",
              "      <th>3000</th>\n",
              "      <td>60</td>\n",
              "      <td>53</td>\n",
              "      <td>64</td>\n",
              "      <td>64</td>\n",
              "      <td>60</td>\n",
              "      <td>71</td>\n",
              "      <td>63</td>\n",
              "      <td>59</td>\n",
              "      <td>71</td>\n",
              "    </tr>\n",
              "  </tbody>\n",
              "</table>\n",
              "</div>"
            ],
            "text/plain": [
              "      top_left1  top_center1  ...  bottom_center1  bottom_right1\n",
              "3000         60           53  ...              59             71\n",
              "\n",
              "[1 rows x 9 columns]"
            ]
          },
          "metadata": {
            "tags": []
          },
          "execution_count": 9
        }
      ]
    },
    {
      "cell_type": "code",
      "metadata": {
        "colab": {
          "base_uri": "https://localhost:8080/"
        },
        "id": "61UBoROqE3l3",
        "outputId": "03a4a2de-f583-4ba8-9924-c71860e5197c"
      },
      "source": [
        "# soil with vegetation stubble\r\n",
        "dfs = sat_band1.iloc[3000:3001].to_numpy()\r\n",
        "dfs"
      ],
      "execution_count": null,
      "outputs": [
        {
          "output_type": "execute_result",
          "data": {
            "text/plain": [
              "array([[60, 53, 64, 64, 60, 71, 63, 59, 71]])"
            ]
          },
          "metadata": {
            "tags": []
          },
          "execution_count": 10
        }
      ]
    },
    {
      "cell_type": "code",
      "metadata": {
        "colab": {
          "base_uri": "https://localhost:8080/"
        },
        "id": "j4aFMjoyRbOK",
        "outputId": "3255087d-d05f-4bcb-884c-537bf2f662d2"
      },
      "source": [
        "dfs = np.reshape(dfs, (3,3))\r\n",
        "dfs"
      ],
      "execution_count": null,
      "outputs": [
        {
          "output_type": "execute_result",
          "data": {
            "text/plain": [
              "array([[60, 53, 64],\n",
              "       [64, 60, 71],\n",
              "       [63, 59, 71]])"
            ]
          },
          "metadata": {
            "tags": []
          },
          "execution_count": 11
        }
      ]
    },
    {
      "cell_type": "code",
      "metadata": {
        "colab": {
          "base_uri": "https://localhost:8080/",
          "height": 286
        },
        "id": "HXetevJ5I6-v",
        "outputId": "1a27d0ef-f35c-4eb8-982e-edc3c8ed1c17"
      },
      "source": [
        "import matplotlib\r\n",
        "\r\n",
        "plt.imshow(dfs, cmap = matplotlib.cm.binary, interpolation='nearest')"
      ],
      "execution_count": null,
      "outputs": [
        {
          "output_type": "execute_result",
          "data": {
            "text/plain": [
              "<matplotlib.image.AxesImage at 0x7f68de08ce10>"
            ]
          },
          "metadata": {
            "tags": []
          },
          "execution_count": 12
        },
        {
          "output_type": "display_data",
          "data": {
            "image/png": "[encoded data removed]",
            "text/plain": [
              "<Figure size 432x288 with 1 Axes>"
            ]
          },
          "metadata": {
            "tags": []
          }
        }
      ]
    },
    {
      "cell_type": "markdown",
      "metadata": {
        "id": "v2xIAvsfTilO"
      },
      "source": [
        "However, that is somewhat fruitless, since as said in the documentation: \"the data is given in random order and certain lines of data have been removed so you cannot reconstruct the original image from this dataset.\" Therefore, the machine learning algorithm would have to work without the image, since we cannot arrange the whole image in any consistant way.\r\n",
        "\r\n",
        "# Binary Classification\r\n",
        "\r\n",
        "Let's make a Binary Classification in which we find class of 5 (soil with vegetation stubble) among classes of non-5 (non-soil with vegetation stubble).\r\n",
        "\r\n",
        "First thing, it might be interesting to divide the 4 Bands all through, instead of line by line."
      ]
    },
    {
      "cell_type": "code",
      "metadata": {
        "colab": {
          "base_uri": "https://localhost:8080/",
          "height": 204
        },
        "id": "1hnd91BeU38W",
        "outputId": "825fd947-041d-40e5-c79b-67785cb7f6d1"
      },
      "source": [
        "sat_band1.head()"
      ],
      "execution_count": null,
      "outputs": [
        {
          "output_type": "execute_result",
          "data": {
            "text/html": [
              "<div>\n",
              "<style scoped>\n",
              "    .dataframe tbody tr th:only-of-type {\n",
              "        vertical-align: middle;\n",
              "    }\n",
              "\n",
              "    .dataframe tbody tr th {\n",
              "        vertical-align: top;\n",
              "    }\n",
              "\n",
              "    .dataframe thead th {\n",
              "        text-align: right;\n",
              "    }\n",
              "</style>\n",
              "<table border=\"1\" class=\"dataframe\">\n",
              "  <thead>\n",
              "    <tr style=\"text-align: right;\">\n",
              "      <th></th>\n",
              "      <th>top_left1</th>\n",
              "      <th>top_center1</th>\n",
              "      <th>top_right1</th>\n",
              "      <th>middle_left1</th>\n",
              "      <th>middle_center1</th>\n",
              "      <th>middle_right1</th>\n",
              "      <th>bottom_left1</th>\n",
              "      <th>bottom_center1</th>\n",
              "      <th>bottom_right1</th>\n",
              "    </tr>\n",
              "  </thead>\n",
              "  <tbody>\n",
              "    <tr>\n",
              "      <th>0</th>\n",
              "      <td>92</td>\n",
              "      <td>84</td>\n",
              "      <td>84</td>\n",
              "      <td>101</td>\n",
              "      <td>92</td>\n",
              "      <td>84</td>\n",
              "      <td>102</td>\n",
              "      <td>88</td>\n",
              "      <td>84</td>\n",
              "    </tr>\n",
              "    <tr>\n",
              "      <th>1</th>\n",
              "      <td>84</td>\n",
              "      <td>84</td>\n",
              "      <td>80</td>\n",
              "      <td>92</td>\n",
              "      <td>84</td>\n",
              "      <td>84</td>\n",
              "      <td>88</td>\n",
              "      <td>84</td>\n",
              "      <td>84</td>\n",
              "    </tr>\n",
              "    <tr>\n",
              "      <th>2</th>\n",
              "      <td>84</td>\n",
              "      <td>80</td>\n",
              "      <td>84</td>\n",
              "      <td>84</td>\n",
              "      <td>84</td>\n",
              "      <td>84</td>\n",
              "      <td>84</td>\n",
              "      <td>84</td>\n",
              "      <td>84</td>\n",
              "    </tr>\n",
              "    <tr>\n",
              "      <th>3</th>\n",
              "      <td>80</td>\n",
              "      <td>84</td>\n",
              "      <td>80</td>\n",
              "      <td>84</td>\n",
              "      <td>84</td>\n",
              "      <td>76</td>\n",
              "      <td>84</td>\n",
              "      <td>84</td>\n",
              "      <td>84</td>\n",
              "    </tr>\n",
              "    <tr>\n",
              "      <th>4</th>\n",
              "      <td>84</td>\n",
              "      <td>80</td>\n",
              "      <td>80</td>\n",
              "      <td>84</td>\n",
              "      <td>76</td>\n",
              "      <td>76</td>\n",
              "      <td>84</td>\n",
              "      <td>84</td>\n",
              "      <td>79</td>\n",
              "    </tr>\n",
              "  </tbody>\n",
              "</table>\n",
              "</div>"
            ],
            "text/plain": [
              "   top_left1  top_center1  ...  bottom_center1  bottom_right1\n",
              "0         92           84  ...              88             84\n",
              "1         84           84  ...              84             84\n",
              "2         84           80  ...              84             84\n",
              "3         80           84  ...              84             84\n",
              "4         84           80  ...              84             79\n",
              "\n",
              "[5 rows x 9 columns]"
            ]
          },
          "metadata": {
            "tags": []
          },
          "execution_count": 13
        }
      ]
    },
    {
      "cell_type": "code",
      "metadata": {
        "id": "8NLr1f01VgSa"
      },
      "source": [
        "sat_band1 = sat_band1.to_numpy()\r\n",
        "sat_band2 = sat_band2.to_numpy()\r\n",
        "sat_band3 = sat_band3.to_numpy()\r\n",
        "sat_band4 = sat_band4.to_numpy()"
      ],
      "execution_count": null,
      "outputs": []
    },
    {
      "cell_type": "code",
      "metadata": {
        "colab": {
          "base_uri": "https://localhost:8080/"
        },
        "id": "ovx1X3WeZhfH",
        "outputId": "2c945b90-eb68-4b06-f30b-feb9a871968c"
      },
      "source": [
        "sat_band1[0]"
      ],
      "execution_count": null,
      "outputs": [
        {
          "output_type": "execute_result",
          "data": {
            "text/plain": [
              "array([ 92,  84,  84, 101,  92,  84, 102,  88,  84])"
            ]
          },
          "metadata": {
            "tags": []
          },
          "execution_count": 15
        }
      ]
    },
    {
      "cell_type": "code",
      "metadata": {
        "id": "lHFG55tgWF2g"
      },
      "source": [
        "band1, band2, band3, band4 = [], [], [], []\r\n",
        "\r\n",
        "for i in range(0,len(sat_band1)):\r\n",
        "  array = sat_band1[i]\r\n",
        "  array = np.reshape(array, (3,3))\r\n",
        "  band1.append(array)\r\n",
        "\r\n",
        "for i in range(0,len(sat_band2)):\r\n",
        "  array = sat_band2[i]\r\n",
        "  array = np.reshape(array, (3,3))\r\n",
        "  band2.append(array)\r\n",
        "\r\n",
        "for i in range(0,len(sat_band3)):\r\n",
        "  array = sat_band3[i]\r\n",
        "  array = np.reshape(array, (3,3))\r\n",
        "  band3.append(array)\r\n",
        "\r\n",
        "for i in range(0,len(sat_band4)):\r\n",
        "  array = sat_band4[i]\r\n",
        "  array = np.reshape(array, (3,3))\r\n",
        "  band4.append(array)"
      ],
      "execution_count": null,
      "outputs": []
    },
    {
      "cell_type": "code",
      "metadata": {
        "colab": {
          "base_uri": "https://localhost:8080/"
        },
        "id": "8uefghxZWtsk",
        "outputId": "5ef7b37d-4f87-4ccf-fb9d-122fbd8da4fa"
      },
      "source": [
        "band1[0]"
      ],
      "execution_count": null,
      "outputs": [
        {
          "output_type": "execute_result",
          "data": {
            "text/plain": [
              "array([[ 92,  84,  84],\n",
              "       [101,  92,  84],\n",
              "       [102,  88,  84]])"
            ]
          },
          "metadata": {
            "tags": []
          },
          "execution_count": 17
        }
      ]
    },
    {
      "cell_type": "code",
      "metadata": {
        "colab": {
          "base_uri": "https://localhost:8080/"
        },
        "id": "6-j_Z49Chs_t",
        "outputId": "37421cd2-3122-4555-9751-3a768824712d"
      },
      "source": [
        "len(band1)"
      ],
      "execution_count": null,
      "outputs": [
        {
          "output_type": "execute_result",
          "data": {
            "text/plain": [
              "4435"
            ]
          },
          "metadata": {
            "tags": []
          },
          "execution_count": 18
        }
      ]
    },
    {
      "cell_type": "code",
      "metadata": {
        "colab": {
          "base_uri": "https://localhost:8080/",
          "height": 286
        },
        "id": "L4k81S_8T1Td",
        "outputId": "9ac57cd3-5331-4b6d-c088-444f05d69e22"
      },
      "source": [
        "plt.imshow(band1[0], cmap = matplotlib.cm.binary, interpolation='nearest')"
      ],
      "execution_count": null,
      "outputs": [
        {
          "output_type": "execute_result",
          "data": {
            "text/plain": [
              "<matplotlib.image.AxesImage at 0x7f68dda438d0>"
            ]
          },
          "metadata": {
            "tags": []
          },
          "execution_count": 19
        },
        {
          "output_type": "display_data",
          "data": {
            "image/png": "[encoded data removed]",
            "text/plain": [
              "<Figure size 432x288 with 1 Axes>"
            ]
          },
          "metadata": {
            "tags": []
          }
        }
      ]
    },
    {
      "cell_type": "code",
      "metadata": {
        "colab": {
          "base_uri": "https://localhost:8080/"
        },
        "id": "P5D2jRzPrKra",
        "outputId": "2f9b351f-3b78-412a-bb07-6b362b457178"
      },
      "source": [
        "sat.columns"
      ],
      "execution_count": null,
      "outputs": [
        {
          "output_type": "execute_result",
          "data": {
            "text/plain": [
              "Index(['top_left1', 'top_left2', 'top_left3', 'top_left4', 'top_center1',\n",
              "       'top_center2', 'top_center3', 'top_center4', 'top_right1', 'top_right2',\n",
              "       'top_right3', 'top_right4', 'middle_left1', 'middle_left2',\n",
              "       'middle_left3', 'middle_left4', 'middle_center1', 'middle_center2',\n",
              "       'middle_center3', 'middle_center4', 'middle_right1', 'middle_right2',\n",
              "       'middle_right3', 'middle_right4', 'bottom_left1', 'bottom_left2',\n",
              "       'bottom_left3', 'bottom_left4', 'bottom_center1', 'bottom_center2',\n",
              "       'bottom_center3', 'bottom_center4', 'bottom_right1', 'bottom_right2',\n",
              "       'bottom_right3', 'bottom_right4', 'Class'],\n",
              "      dtype='object')"
            ]
          },
          "metadata": {
            "tags": []
          },
          "execution_count": 20
        }
      ]
    },
    {
      "cell_type": "code",
      "metadata": {
        "id": "pt24ek5GqwvD"
      },
      "source": [
        "sat_band1 = sat[['top_left1', 'top_center1', 'top_right1', \r\n",
        "                 'middle_left1', 'middle_center1', 'middle_right1',\r\n",
        "                 'bottom_left1', 'bottom_center1', 'bottom_right1', 'Class']].astype('int')\r\n",
        "sat_band2 = sat[['top_left2', 'top_center2', 'top_right2', \r\n",
        "                 'middle_left2', 'middle_center2', 'middle_right2', \r\n",
        "                 'bottom_left2', 'bottom_center2', 'bottom_right2', 'Class']].astype('int')\r\n",
        "sat_band3 = sat[['top_left3', 'top_center3', 'top_right3', \r\n",
        "                 'middle_left3', 'middle_center3', 'middle_right3', \r\n",
        "                 'bottom_left3', 'bottom_center3', 'bottom_right3', 'Class']].astype('int')\r\n",
        "sat_band4 = sat[['top_left4', 'top_center4', 'top_right4', \r\n",
        "                 'middle_left4', 'middle_center4', 'middle_right4', \r\n",
        "                 'bottom_left4', 'bottom_center4', 'bottom_right4', 'Class']].astype('int')"
      ],
      "execution_count": null,
      "outputs": []
    },
    {
      "cell_type": "code",
      "metadata": {
        "colab": {
          "base_uri": "https://localhost:8080/"
        },
        "id": "sxyc86fnx1Qi",
        "outputId": "5920251a-e3c6-487b-d6b9-ca437fd8017e"
      },
      "source": [
        "# Using only middle_center1\r\n",
        "#band_1 = sat[['middle_center1', 'Class']].astype('int')\r\n",
        "band_01 = sat_band1.to_numpy() #band_1[['middle_center1']].to_numpy()\r\n",
        "\r\n",
        "# Using only middle_center2\r\n",
        "#band_2 = sat[['middle_center2', 'Class']].astype('int')\r\n",
        "band_02 = sat_band2.to_numpy() #band_2[['middle_center2']].to_numpy()\r\n",
        "\r\n",
        "# Using only middle_center3\r\n",
        "#band_3 = sat[['middle_center3', 'Class']].astype('int')\r\n",
        "band_03 = sat_band3.to_numpy() #band_3[['middle_center3']].to_numpy()\r\n",
        "\r\n",
        "# Using only middle_center2\r\n",
        "#band_4 = sat[['middle_center4', 'Class']].astype('int')\r\n",
        "band_04 = sat_band4.to_numpy() #band_4[['middle_center4']].to_numpy()\r\n",
        "band_04"
      ],
      "execution_count": null,
      "outputs": [
        {
          "output_type": "execute_result",
          "data": {
            "text/plain": [
              "array([[ 94,  79,  83, ..., 100,  87,   3],\n",
              "       [ 79,  83,  79, ...,  87,  79,   3],\n",
              "       [ 83,  79,  79, ...,  79,  79,   3],\n",
              "       ...,\n",
              "       [ 96,  88,  81, ...,  89,  85,   4],\n",
              "       [ 88,  81,  88, ...,  85,  85,   4],\n",
              "       [ 81,  88,  85, ...,  85,  81,   4]])"
            ]
          },
          "metadata": {
            "tags": []
          },
          "execution_count": 22
        }
      ]
    },
    {
      "cell_type": "code",
      "metadata": {
        "colab": {
          "base_uri": "https://localhost:8080/"
        },
        "id": "c_LbHtQsqxrF",
        "outputId": "6b6bb16a-23e8-4239-c133-36c49e724971"
      },
      "source": [
        "#Change the Class. Some classes are better seen\r\n",
        "yband1_5 = (sat_band1['Class'] == 7) # True for all 5s. False for others.\r\n",
        "yband2_5 = (sat_band2['Class'] == 7)\r\n",
        "yband3_5 = (sat_band3['Class'] == 7)\r\n",
        "yband4_5 = (sat_band4['Class'] == 7)\r\n",
        "yband4_5"
      ],
      "execution_count": null,
      "outputs": [
        {
          "output_type": "execute_result",
          "data": {
            "text/plain": [
              "0       False\n",
              "1       False\n",
              "2       False\n",
              "3       False\n",
              "4       False\n",
              "        ...  \n",
              "4430    False\n",
              "4431    False\n",
              "4432    False\n",
              "4433    False\n",
              "4434    False\n",
              "Name: Class, Length: 4435, dtype: bool"
            ]
          },
          "metadata": {
            "tags": []
          },
          "execution_count": 23
        }
      ]
    },
    {
      "cell_type": "code",
      "metadata": {
        "colab": {
          "base_uri": "https://localhost:8080/"
        },
        "id": "I02aelCuqzVO",
        "outputId": "142a8978-65fa-4d96-a8ae-d98b98546c49"
      },
      "source": [
        "from sklearn.linear_model import SGDClassifier # Stochastic Gradient Descent Classifier\r\n",
        "sgd_clf1 = SGDClassifier(random_state=42, eta0=1, learning_rate='adaptive')\r\n",
        "sgd_clf2 = SGDClassifier(random_state=42, eta0=1, learning_rate='adaptive')\r\n",
        "sgd_clf3 = SGDClassifier(random_state=42, eta0=1, learning_rate='adaptive')\r\n",
        "sgd_clf4 = SGDClassifier(random_state=42, eta0=1, learning_rate='adaptive')\r\n",
        "sgd_clf1.fit(band_01, yband1_5)\r\n",
        "sgd_clf2.fit(band_02, yband2_5)\r\n",
        "sgd_clf3.fit(band_03, yband3_5)\r\n",
        "sgd_clf4.fit(band_04, yband4_5)"
      ],
      "execution_count": null,
      "outputs": [
        {
          "output_type": "execute_result",
          "data": {
            "text/plain": [
              "SGDClassifier(alpha=0.0001, average=False, class_weight=None,\n",
              "              early_stopping=False, epsilon=0.1, eta0=1, fit_intercept=True,\n",
              "              l1_ratio=0.15, learning_rate='adaptive', loss='hinge',\n",
              "              max_iter=1000, n_iter_no_change=5, n_jobs=None, penalty='l2',\n",
              "              power_t=0.5, random_state=42, shuffle=True, tol=0.001,\n",
              "              validation_fraction=0.1, verbose=0, warm_start=False)"
            ]
          },
          "metadata": {
            "tags": []
          },
          "execution_count": 24
        }
      ]
    },
    {
      "cell_type": "code",
      "metadata": {
        "colab": {
          "base_uri": "https://localhost:8080/"
        },
        "id": "Q9NtYRNKVN06",
        "outputId": "1db31695-ddd3-4d0a-8067-0e99a228e192"
      },
      "source": [
        "print(sgd_clf1.coef_)\r\n",
        "print(sgd_clf2.coef_)\r\n",
        "print(sgd_clf3.coef_)\r\n",
        "print(sgd_clf4.coef_)"
      ],
      "execution_count": null,
      "outputs": [
        {
          "output_type": "stream",
          "text": [
            "[[ -20.488392      9.35953732  -32.08611561  -13.44510743    6.51966991\n",
            "   -33.03399729  -38.88856311   -3.90521181   -7.01158931 1551.52475039]]\n",
            "[[ -28.38032684   19.68267597  -27.8683429     5.49599152   -5.11565531\n",
            "   -10.10899701  -29.87247867    3.04487039   -4.57194929 1064.90339016]]\n",
            "[[ -31.84726937    4.70936639  -31.48248275  -31.61812349   -3.00307657\n",
            "     3.63209946  -57.36988163   55.13340638  -76.06028387 2176.2685544 ]]\n",
            "[[ -32.69944063   14.72351036  -33.13508479   -9.02716484    7.15601615\n",
            "   -14.69090729  -45.70919668   28.14581936  -41.40862195 1345.63163694]]\n"
          ],
          "name": "stdout"
        }
      ]
    },
    {
      "cell_type": "code",
      "metadata": {
        "colab": {
          "base_uri": "https://localhost:8080/"
        },
        "id": "BIFyMcwQ0L5f",
        "outputId": "746fa4ec-4727-4007-8b4d-0311dadce1a6"
      },
      "source": [
        "band_01[0]"
      ],
      "execution_count": null,
      "outputs": [
        {
          "output_type": "execute_result",
          "data": {
            "text/plain": [
              "array([ 92,  84,  84, 101,  92,  84, 102,  88,  84,   3])"
            ]
          },
          "metadata": {
            "tags": []
          },
          "execution_count": 26
        }
      ]
    },
    {
      "cell_type": "code",
      "metadata": {
        "id": "1f_Gbc5txNqH"
      },
      "source": [
        "detect1, detect2, detect3, detect4 = [],[],[],[]\r\n",
        "\r\n",
        "for i in range(0,len(band_01)):\r\n",
        "  pred1 = sgd_clf1.predict([band_01[i]])\r\n",
        "  pred2 = sgd_clf2.predict([band_02[i]])\r\n",
        "  pred3 = sgd_clf3.predict([band_03[i]])\r\n",
        "  pred4 = sgd_clf4.predict([band_04[i]])\r\n",
        "  detect1.append(pred1)\r\n",
        "  detect2.append(pred2)\r\n",
        "  detect3.append(pred3)\r\n",
        "  detect4.append(pred4)"
      ],
      "execution_count": null,
      "outputs": []
    },
    {
      "cell_type": "code",
      "metadata": {
        "colab": {
          "base_uri": "https://localhost:8080/"
        },
        "id": "K8eTq6mt7Nyy",
        "outputId": "6c3d5362-b86f-4d33-bf5e-e832e4484332"
      },
      "source": [
        "unique, counts = np.unique(detect1, return_counts=True)\r\n",
        "dict(zip(unique, counts))"
      ],
      "execution_count": null,
      "outputs": [
        {
          "output_type": "execute_result",
          "data": {
            "text/plain": [
              "{False: 3369, True: 1066}"
            ]
          },
          "metadata": {
            "tags": []
          },
          "execution_count": 28
        }
      ]
    },
    {
      "cell_type": "code",
      "metadata": {
        "colab": {
          "base_uri": "https://localhost:8080/"
        },
        "id": "pX5dHptR7uvz",
        "outputId": "d0102be4-2feb-42f2-ad93-350bce6c630b"
      },
      "source": [
        "sat['Class'].value_counts() # True positives"
      ],
      "execution_count": null,
      "outputs": [
        {
          "output_type": "execute_result",
          "data": {
            "text/plain": [
              "1    1072\n",
              "7    1038\n",
              "3     961\n",
              "2     479\n",
              "5     470\n",
              "4     415\n",
              "Name: Class, dtype: int64"
            ]
          },
          "metadata": {
            "tags": []
          },
          "execution_count": 29
        }
      ]
    },
    {
      "cell_type": "code",
      "metadata": {
        "colab": {
          "base_uri": "https://localhost:8080/"
        },
        "id": "mDB1o9rtDFJv",
        "outputId": "cfd82518-19b2-46ad-c8cc-adc85d2d579e"
      },
      "source": [
        "detect1[0]"
      ],
      "execution_count": null,
      "outputs": [
        {
          "output_type": "execute_result",
          "data": {
            "text/plain": [
              "array([False])"
            ]
          },
          "metadata": {
            "tags": []
          },
          "execution_count": 30
        }
      ]
    },
    {
      "cell_type": "code",
      "metadata": {
        "colab": {
          "base_uri": "https://localhost:8080/"
        },
        "id": "ryxde1LLC6iP",
        "outputId": "a316ffd3-2d6d-4cf1-9c94-fbd13b470858"
      },
      "source": [
        "from sklearn.model_selection import cross_val_score\r\n",
        "cross_val_score(sgd_clf1, band_01, yband1_5, cv=3, scoring=\"accuracy\")"
      ],
      "execution_count": null,
      "outputs": [
        {
          "output_type": "execute_result",
          "data": {
            "text/plain": [
              "array([0.96822177, 0.94857916, 0.95196211])"
            ]
          },
          "metadata": {
            "tags": []
          },
          "execution_count": 31
        }
      ]
    },
    {
      "cell_type": "code",
      "metadata": {
        "colab": {
          "base_uri": "https://localhost:8080/"
        },
        "id": "8JxH0f2cgMCl",
        "outputId": "1e2871b3-9b66-4e25-ecc1-de361811aa31"
      },
      "source": [
        "cross_val_score(sgd_clf2, band_02, yband2_5, cv=3, scoring=\"accuracy\")"
      ],
      "execution_count": null,
      "outputs": [
        {
          "output_type": "execute_result",
          "data": {
            "text/plain": [
              "array([0.90872211, 0.90054127, 0.91069012])"
            ]
          },
          "metadata": {
            "tags": []
          },
          "execution_count": 32
        }
      ]
    },
    {
      "cell_type": "code",
      "metadata": {
        "colab": {
          "base_uri": "https://localhost:8080/"
        },
        "id": "gltOBwF1gN99",
        "outputId": "5bb437c6-c459-4930-e749-539b6d69b7a7"
      },
      "source": [
        "cross_val_score(sgd_clf3, band_03, yband3_5, cv=3, scoring=\"accuracy\")"
      ],
      "execution_count": null,
      "outputs": [
        {
          "output_type": "execute_result",
          "data": {
            "text/plain": [
              "array([0.95605139, 0.99052774, 0.96549391])"
            ]
          },
          "metadata": {
            "tags": []
          },
          "execution_count": 33
        }
      ]
    },
    {
      "cell_type": "code",
      "metadata": {
        "colab": {
          "base_uri": "https://localhost:8080/"
        },
        "id": "-IE4K3IsgORP",
        "outputId": "456ce767-301e-41f3-f956-96bd1538165d"
      },
      "source": [
        "cross_val_score(sgd_clf4, band_04, yband4_5, cv=3, scoring=\"accuracy\")"
      ],
      "execution_count": null,
      "outputs": [
        {
          "output_type": "execute_result",
          "data": {
            "text/plain": [
              "array([0.95740365, 0.98849797, 0.95737483])"
            ]
          },
          "metadata": {
            "tags": []
          },
          "execution_count": 34
        }
      ]
    },
    {
      "cell_type": "markdown",
      "metadata": {
        "id": "ruhqAb4vDg9o"
      },
      "source": [
        "Between 70.52-86.40 % accuracy (ratio of correct predictions)."
      ]
    },
    {
      "cell_type": "code",
      "metadata": {
        "id": "ooqGd9jEDZ1C"
      },
      "source": [
        "from sklearn.base import BaseEstimator\r\n",
        "class Never5Classifier(BaseEstimator):\r\n",
        "  def fit(self, X, y=None):\r\n",
        "    pass\r\n",
        "  def predict(self, X):\r\n",
        "    return np.zeros((len(X), 1), dtype=bool)"
      ],
      "execution_count": null,
      "outputs": []
    },
    {
      "cell_type": "code",
      "metadata": {
        "colab": {
          "base_uri": "https://localhost:8080/"
        },
        "id": "YHijGfw2DzdR",
        "outputId": "6ca3cf07-e599-4354-b5b0-4699b0f3ba2a"
      },
      "source": [
        "never_5_clf = Never5Classifier()\r\n",
        "cross_val_score(never_5_clf, band_01, yband1_5, cv=3, scoring=\"accuracy\")"
      ],
      "execution_count": null,
      "outputs": [
        {
          "output_type": "execute_result",
          "data": {
            "text/plain": [
              "array([0.81609195, 0.59539919, 0.88633288])"
            ]
          },
          "metadata": {
            "tags": []
          },
          "execution_count": 36
        }
      ]
    },
    {
      "cell_type": "code",
      "metadata": {
        "colab": {
          "base_uri": "https://localhost:8080/"
        },
        "id": "KVTjiE_ogYej",
        "outputId": "24a7744d-1d1a-4c52-c033-00614084f62a"
      },
      "source": [
        "cross_val_score(never_5_clf, band_02, yband2_5, cv=3, scoring=\"accuracy\")"
      ],
      "execution_count": null,
      "outputs": [
        {
          "output_type": "execute_result",
          "data": {
            "text/plain": [
              "array([0.81609195, 0.59539919, 0.88633288])"
            ]
          },
          "metadata": {
            "tags": []
          },
          "execution_count": 37
        }
      ]
    },
    {
      "cell_type": "code",
      "metadata": {
        "colab": {
          "base_uri": "https://localhost:8080/"
        },
        "id": "wSQMY0UjgcLQ",
        "outputId": "7dc2ff9c-085e-4ad8-f0f3-8b93d870d47c"
      },
      "source": [
        "cross_val_score(never_5_clf, band_03, yband3_5, cv=3, scoring=\"accuracy\")"
      ],
      "execution_count": null,
      "outputs": [
        {
          "output_type": "execute_result",
          "data": {
            "text/plain": [
              "array([0.81609195, 0.59539919, 0.88633288])"
            ]
          },
          "metadata": {
            "tags": []
          },
          "execution_count": 38
        }
      ]
    },
    {
      "cell_type": "code",
      "metadata": {
        "colab": {
          "base_uri": "https://localhost:8080/"
        },
        "id": "F1ymv5Rkgc3L",
        "outputId": "9285fc80-e9a2-412b-8136-db63291cc2d2"
      },
      "source": [
        "cross_val_score(never_5_clf, band_04, yband4_5, cv=3, scoring=\"accuracy\")"
      ],
      "execution_count": null,
      "outputs": [
        {
          "output_type": "execute_result",
          "data": {
            "text/plain": [
              "array([0.81609195, 0.59539919, 0.88633288])"
            ]
          },
          "metadata": {
            "tags": []
          },
          "execution_count": 39
        }
      ]
    },
    {
      "cell_type": "markdown",
      "metadata": {
        "id": "TcS5oVr5EUvp"
      },
      "source": [
        "Between 86.67-91.74 % accuracy (ratio of correct predictions)."
      ]
    },
    {
      "cell_type": "code",
      "metadata": {
        "id": "nS7q2BsREfvx"
      },
      "source": [
        "from sklearn.model_selection import cross_val_predict\r\n",
        "y_train_pred1 = cross_val_predict(sgd_clf1, band_01, yband1_5, cv=3)\r\n",
        "y_train_pred2 = cross_val_predict(sgd_clf2, band_02, yband2_5, cv=3)\r\n",
        "y_train_pred3 = cross_val_predict(sgd_clf3, band_03, yband3_5, cv=3)\r\n",
        "y_train_pred4 = cross_val_predict(sgd_clf4, band_04, yband4_5, cv=3)"
      ],
      "execution_count": null,
      "outputs": []
    },
    {
      "cell_type": "code",
      "metadata": {
        "colab": {
          "base_uri": "https://localhost:8080/"
        },
        "id": "Fx7VTJVwEzBd",
        "outputId": "eef7ce85-bdee-4899-e4c5-adb0b07cde67"
      },
      "source": [
        "from sklearn.metrics import confusion_matrix\r\n",
        "confusion_matrix(yband1_5, y_train_pred1)"
      ],
      "execution_count": null,
      "outputs": [
        {
          "output_type": "execute_result",
          "data": {
            "text/plain": [
              "array([[3304,   93],\n",
              "       [ 101,  937]])"
            ]
          },
          "metadata": {
            "tags": []
          },
          "execution_count": 41
        }
      ]
    },
    {
      "cell_type": "markdown",
      "metadata": {
        "id": "LkXas7blGle1"
      },
      "source": [
        "## Precision and Recall\r\n",
        "\r\n",
        "$Precision = \\frac{True Positive}{True Positive + False Positive} = \\frac{True Positive}{Total Predicted Positive} $\r\n",
        "\r\n",
        "$Recall = \\frac{True Positive}{True Positive + False Negative} = \\frac{True Positive}{Total Actual Positive}$\r\n",
        "\r\n",
        "$F1 = 2\\times\\frac{Precision\\times Recall}{Precision + Recall}$\r\n",
        "\r\n",
        "True positive = `yband1_5`"
      ]
    },
    {
      "cell_type": "code",
      "metadata": {
        "colab": {
          "base_uri": "https://localhost:8080/"
        },
        "id": "W-QCLHy9mY0G",
        "outputId": "d69f057d-9d34-46ac-e1c0-cd9f4eba77c5"
      },
      "source": [
        " #These are the true positives (= 470), since they are taken directly from the original dataset.\r\n",
        "print(yband1_5.value_counts())"
      ],
      "execution_count": null,
      "outputs": [
        {
          "output_type": "stream",
          "text": [
            "False    3397\n",
            "True     1038\n",
            "Name: Class, dtype: int64\n"
          ],
          "name": "stdout"
        }
      ]
    },
    {
      "cell_type": "code",
      "metadata": {
        "colab": {
          "base_uri": "https://localhost:8080/"
        },
        "id": "TBnk1VBjqXRP",
        "outputId": "64dfd225-1263-4cbc-a292-f577346f55ee"
      },
      "source": [
        "detect1 = pd.DataFrame(detect1) #These are the False positives (taken from the SGDClassifier)\r\n",
        "detect2 = pd.DataFrame(detect2)\r\n",
        "detect3 = pd.DataFrame(detect3)\r\n",
        "detect4 = pd.DataFrame(detect4)\r\n",
        "\r\n",
        "print(detect1.value_counts(), '\\n')\r\n",
        "print(detect2.value_counts(), '\\n')\r\n",
        "print(detect3.value_counts(), '\\n')\r\n",
        "print(detect4.value_counts(), '\\n')"
      ],
      "execution_count": null,
      "outputs": [
        {
          "output_type": "stream",
          "text": [
            "False    3369\n",
            "True     1066\n",
            "dtype: int64 \n",
            "\n",
            "False    3311\n",
            "True     1124\n",
            "dtype: int64 \n",
            "\n",
            "False    3377\n",
            "True     1058\n",
            "dtype: int64 \n",
            "\n",
            "False    3375\n",
            "True     1060\n",
            "dtype: int64 \n",
            "\n"
          ],
          "name": "stdout"
        }
      ]
    },
    {
      "cell_type": "code",
      "metadata": {
        "colab": {
          "base_uri": "https://localhost:8080/"
        },
        "id": "PAlT5w1aFCTV",
        "outputId": "e312d162-d73f-456a-b847-cb622eeac6c2"
      },
      "source": [
        "from sklearn.metrics import precision_score\r\n",
        "precision_score(yband1_5, detect1) # = 470 / (470 + 334)"
      ],
      "execution_count": null,
      "outputs": [
        {
          "output_type": "execute_result",
          "data": {
            "text/plain": [
              "0.9193245778611632"
            ]
          },
          "metadata": {
            "tags": []
          },
          "execution_count": 44
        }
      ]
    },
    {
      "cell_type": "code",
      "metadata": {
        "colab": {
          "base_uri": "https://localhost:8080/"
        },
        "id": "mZc_8RNljRpX",
        "outputId": "fd47dc78-56e0-477e-9951-ca3352e91d82"
      },
      "source": [
        "precision_score(yband2_5, detect2)"
      ],
      "execution_count": null,
      "outputs": [
        {
          "output_type": "execute_result",
          "data": {
            "text/plain": [
              "0.8096085409252669"
            ]
          },
          "metadata": {
            "tags": []
          },
          "execution_count": 45
        }
      ]
    },
    {
      "cell_type": "code",
      "metadata": {
        "colab": {
          "base_uri": "https://localhost:8080/"
        },
        "id": "r6DEArIojTCY",
        "outputId": "510a6257-b0f4-4e5d-bb24-4a51ab15254b"
      },
      "source": [
        "precision_score(yband3_5, detect3)"
      ],
      "execution_count": null,
      "outputs": [
        {
          "output_type": "execute_result",
          "data": {
            "text/plain": [
              "0.941398865784499"
            ]
          },
          "metadata": {
            "tags": []
          },
          "execution_count": 46
        }
      ]
    },
    {
      "cell_type": "code",
      "metadata": {
        "colab": {
          "base_uri": "https://localhost:8080/"
        },
        "id": "rwb89eJ6jTPh",
        "outputId": "e4236a0a-f271-4dd0-dc4b-80c87ad47934"
      },
      "source": [
        "precision_score(yband4_5, detect4)"
      ],
      "execution_count": null,
      "outputs": [
        {
          "output_type": "execute_result",
          "data": {
            "text/plain": [
              "0.9424528301886792"
            ]
          },
          "metadata": {
            "tags": []
          },
          "execution_count": 47
        }
      ]
    },
    {
      "cell_type": "code",
      "metadata": {
        "colab": {
          "base_uri": "https://localhost:8080/"
        },
        "id": "vQpkkUQHtMHk",
        "outputId": "3f464ead-a619-4e50-e03d-78e206ed23ff"
      },
      "source": [
        "from sklearn.metrics import recall_score\r\n",
        "recall_score(yband1_5, y_train_pred1) # = 470 / (470 + [4101 - 3965])"
      ],
      "execution_count": null,
      "outputs": [
        {
          "output_type": "execute_result",
          "data": {
            "text/plain": [
              "0.9026974951830443"
            ]
          },
          "metadata": {
            "tags": []
          },
          "execution_count": 48
        }
      ]
    },
    {
      "cell_type": "code",
      "metadata": {
        "colab": {
          "base_uri": "https://localhost:8080/"
        },
        "id": "-U2X1E4bjvlj",
        "outputId": "8f6b2dff-971c-4c32-a82f-e558088a4db9"
      },
      "source": [
        "recall_score(yband2_5, y_train_pred2) "
      ],
      "execution_count": null,
      "outputs": [
        {
          "output_type": "execute_result",
          "data": {
            "text/plain": [
              "0.8265895953757225"
            ]
          },
          "metadata": {
            "tags": []
          },
          "execution_count": 49
        }
      ]
    },
    {
      "cell_type": "code",
      "metadata": {
        "colab": {
          "base_uri": "https://localhost:8080/"
        },
        "id": "5-qvX-7qjvx6",
        "outputId": "cf7c7c69-cb8f-4170-b18a-e6d89b6eb492"
      },
      "source": [
        "recall_score(yband3_5, y_train_pred3) "
      ],
      "execution_count": null,
      "outputs": [
        {
          "output_type": "execute_result",
          "data": {
            "text/plain": [
              "0.9383429672447013"
            ]
          },
          "metadata": {
            "tags": []
          },
          "execution_count": 50
        }
      ]
    },
    {
      "cell_type": "code",
      "metadata": {
        "colab": {
          "base_uri": "https://localhost:8080/"
        },
        "id": "8C6qItW5jv7L",
        "outputId": "a4bd86fa-541e-4772-85f8-23f10ba74e8f"
      },
      "source": [
        "recall_score(yband4_5, y_train_pred4) "
      ],
      "execution_count": null,
      "outputs": [
        {
          "output_type": "execute_result",
          "data": {
            "text/plain": [
              "0.9373795761078998"
            ]
          },
          "metadata": {
            "tags": []
          },
          "execution_count": 51
        }
      ]
    },
    {
      "cell_type": "code",
      "metadata": {
        "colab": {
          "base_uri": "https://localhost:8080/"
        },
        "id": "ZYe_JI74vuz7",
        "outputId": "246ad7fa-b044-4608-90af-af18d1d00f0f"
      },
      "source": [
        "from sklearn.metrics import f1_score\r\n",
        "f1_score(yband1_5, detect1)"
      ],
      "execution_count": null,
      "outputs": [
        {
          "output_type": "execute_result",
          "data": {
            "text/plain": [
              "0.9315589353612168"
            ]
          },
          "metadata": {
            "tags": []
          },
          "execution_count": 52
        }
      ]
    },
    {
      "cell_type": "code",
      "metadata": {
        "colab": {
          "base_uri": "https://localhost:8080/"
        },
        "id": "_dYfA03CkDKf",
        "outputId": "1a04031f-a703-4119-c40f-4eec77d8d941"
      },
      "source": [
        "f1_score(yband2_5, detect2)"
      ],
      "execution_count": null,
      "outputs": [
        {
          "output_type": "execute_result",
          "data": {
            "text/plain": [
              "0.8418131359851989"
            ]
          },
          "metadata": {
            "tags": []
          },
          "execution_count": 53
        }
      ]
    },
    {
      "cell_type": "code",
      "metadata": {
        "colab": {
          "base_uri": "https://localhost:8080/"
        },
        "id": "pUDRSGXukDvI",
        "outputId": "e33f805a-6e3a-4d3b-a8a4-6e56685593ab"
      },
      "source": [
        "f1_score(yband3_5, detect3)"
      ],
      "execution_count": null,
      "outputs": [
        {
          "output_type": "execute_result",
          "data": {
            "text/plain": [
              "0.950381679389313"
            ]
          },
          "metadata": {
            "tags": []
          },
          "execution_count": 54
        }
      ]
    },
    {
      "cell_type": "code",
      "metadata": {
        "colab": {
          "base_uri": "https://localhost:8080/"
        },
        "id": "9wx05MfqkD8x",
        "outputId": "ccd424fb-5606-45e2-ae4c-3c07ede3c3ca"
      },
      "source": [
        "f1_score(yband4_5, detect4)"
      ],
      "execution_count": null,
      "outputs": [
        {
          "output_type": "execute_result",
          "data": {
            "text/plain": [
              "0.9523355576739752"
            ]
          },
          "metadata": {
            "tags": []
          },
          "execution_count": 55
        }
      ]
    },
    {
      "cell_type": "code",
      "metadata": {
        "id": "9u84DK1jJ_NI"
      },
      "source": [
        "y_scores1 = cross_val_predict(sgd_clf1, band_01, yband1_5, cv=3, method=\"decision_function\")\r\n",
        "y_scores2 = cross_val_predict(sgd_clf2, band_02, yband2_5, cv=3, method=\"decision_function\")\r\n",
        "y_scores3 = cross_val_predict(sgd_clf3, band_03, yband3_5, cv=3, method=\"decision_function\")\r\n",
        "y_scores4 = cross_val_predict(sgd_clf4, band_04, yband4_5, cv=3, method=\"decision_function\")"
      ],
      "execution_count": null,
      "outputs": []
    },
    {
      "cell_type": "code",
      "metadata": {
        "id": "SoE8-fY6KfjR"
      },
      "source": [
        "from sklearn.metrics import precision_recall_curve\r\n",
        "precisions1, recalls1, thresholds1 = precision_recall_curve(yband1_5, y_scores1)\r\n",
        "precisions2, recalls2, thresholds2 = precision_recall_curve(yband2_5, y_scores2)\r\n",
        "precisions3, recalls3, thresholds3 = precision_recall_curve(yband3_5, y_scores3)\r\n",
        "precisions4, recalls4, thresholds4 = precision_recall_curve(yband4_5, y_scores4)"
      ],
      "execution_count": null,
      "outputs": []
    },
    {
      "cell_type": "code",
      "metadata": {
        "id": "FtlSYZq9K8xQ"
      },
      "source": [
        "def plot_precision_recall_vs_threshold(precisions, recalls, thresholds):\r\n",
        "  plt.plot(thresholds, precisions[:-1], \"b--\", label='Precision')\r\n",
        "  plt.plot(thresholds, recalls[:-1], 'g-', label='Recall')\r\n",
        "  plt.xlabel('Threshold')\r\n",
        "  plt.legend(loc='upper left')\r\n",
        "  plt.ylim([0,1])"
      ],
      "execution_count": null,
      "outputs": []
    },
    {
      "cell_type": "code",
      "metadata": {
        "colab": {
          "base_uri": "https://localhost:8080/",
          "height": 1000
        },
        "id": "prlV9p0HNg74",
        "outputId": "50c7ec61-ba7c-4c42-e45f-bc1317e6a801"
      },
      "source": [
        "plot_precision_recall_vs_threshold(precisions1, recalls1, thresholds1)\r\n",
        "plt.show()\r\n",
        "plot_precision_recall_vs_threshold(precisions2, recalls2, thresholds2)\r\n",
        "plt.show()\r\n",
        "plot_precision_recall_vs_threshold(precisions3, recalls3, thresholds3)\r\n",
        "plt.show()\r\n",
        "plot_precision_recall_vs_threshold(precisions4, recalls4, thresholds4)\r\n",
        "plt.show()"
      ],
      "execution_count": null,
      "outputs": [
        {
          "output_type": "display_data",
          "data": {
            "image/png": "[encoded data removed]",
            "text/plain": [
              "<Figure size 432x288 with 1 Axes>"
            ]
          },
          "metadata": {
            "tags": []
          }
        },
        {
          "output_type": "display_data",
          "data": {
            "image/png": "[encoded data removed]",
            "text/plain": [
              "<Figure size 432x288 with 1 Axes>"
            ]
          },
          "metadata": {
            "tags": []
          }
        },
        {
          "output_type": "display_data",
          "data": {
            "image/png": "[encoded data removed]",
            "text/plain": [
              "<Figure size 432x288 with 1 Axes>"
            ]
          },
          "metadata": {
            "tags": []
          }
        },
        {
          "output_type": "display_data",
          "data": {
            "image/png": "[encoded data removed]",
            "text/plain": [
              "<Figure size 432x288 with 1 Axes>"
            ]
          },
          "metadata": {
            "tags": []
          }
        }
      ]
    },
    {
      "cell_type": "code",
      "metadata": {
        "id": "cC-lVUS2a1A2"
      },
      "source": [
        "def plot_precision_vs_recall(precisions, recalls):\r\n",
        "  plt.plot(recalls[:-1], precisions[:-1], \"b-\")\r\n",
        "  plt.xlabel('Recall')\r\n",
        "  plt.ylabel('Precision')\r\n",
        "  plt.ylim([0,1])"
      ],
      "execution_count": null,
      "outputs": []
    },
    {
      "cell_type": "code",
      "metadata": {
        "colab": {
          "base_uri": "https://localhost:8080/",
          "height": 1000
        },
        "id": "xokgZRupbgFs",
        "outputId": "00bb0a06-417d-4d44-a650-7522b9250fe7"
      },
      "source": [
        "plot_precision_vs_recall(precisions1, recalls1)\r\n",
        "plt.show()\r\n",
        "plot_precision_vs_recall(precisions2, recalls2)\r\n",
        "plt.show()\r\n",
        "plot_precision_vs_recall(precisions3, recalls3)\r\n",
        "plt.show()\r\n",
        "plot_precision_vs_recall(precisions4, recalls4)\r\n",
        "plt.show()"
      ],
      "execution_count": null,
      "outputs": [
        {
          "output_type": "display_data",
          "data": {
            "image/png": "[encoded data removed]",
            "text/plain": [
              "<Figure size 432x288 with 1 Axes>"
            ]
          },
          "metadata": {
            "tags": []
          }
        },
        {
          "output_type": "display_data",
          "data": {
            "image/png": "[encoded data removed]",
            "text/plain": [
              "<Figure size 432x288 with 1 Axes>"
            ]
          },
          "metadata": {
            "tags": []
          }
        },
        {
          "output_type": "display_data",
          "data": {
            "image/png": "[encoded data removed]",
            "text/plain": [
              "<Figure size 432x288 with 1 Axes>"
            ]
          },
          "metadata": {
            "tags": []
          }
        },
        {
          "output_type": "display_data",
          "data": {
            "image/png": "[encoded data removed]",
            "text/plain": [
              "<Figure size 432x288 with 1 Axes>"
            ]
          },
          "metadata": {
            "tags": []
          }
        }
      ]
    },
    {
      "cell_type": "markdown",
      "metadata": {
        "id": "zsc16fbXl9Wd"
      },
      "source": [
        "This is very bad precision and recall. A 0.20 precision and recall is pure randomness, considering that we are sarching for one class among five (that is 0.2/1.0)"
      ]
    },
    {
      "cell_type": "markdown",
      "metadata": {
        "id": "hKtt9WyY_NSp"
      },
      "source": [
        "## The ROC Curve"
      ]
    },
    {
      "cell_type": "code",
      "metadata": {
        "id": "58efi959_MiI"
      },
      "source": [
        "from sklearn.metrics import roc_curve\r\n",
        "\r\n",
        "fpr1, tpr1, thresholds1 = roc_curve(yband1_5, y_scores1)\r\n",
        "fpr2, tpr2, thresholds2 = roc_curve(yband2_5, y_scores2)\r\n",
        "fpr3, tpr3, thresholds3 = roc_curve(yband3_5, y_scores3)\r\n",
        "fpr4, tpr4, thresholds4 = roc_curve(yband4_5, y_scores4)"
      ],
      "execution_count": null,
      "outputs": []
    },
    {
      "cell_type": "code",
      "metadata": {
        "id": "PP5f9dFm_-Wk"
      },
      "source": [
        "def plot_roc_curve(fpr, tpr, label=None):\r\n",
        "  plt.plot(fpr, tpr, linewidth=2, label=label)\r\n",
        "  plt.plot([0,1],[0,1], 'k--')\r\n",
        "  plt.axis([0, 1, 0, 1])\r\n",
        "  plt.xlabel('False Positive Rate')\r\n",
        "  plt.ylabel('True Positive Rate')"
      ],
      "execution_count": null,
      "outputs": []
    },
    {
      "cell_type": "code",
      "metadata": {
        "colab": {
          "base_uri": "https://localhost:8080/",
          "height": 1000
        },
        "id": "cIIRLOt0BSGY",
        "outputId": "0358c044-09bf-4513-e3f9-c0b3bb5c96ff"
      },
      "source": [
        "plot_roc_curve(fpr1, tpr1)\r\n",
        "plt.show()\r\n",
        "plot_roc_curve(fpr2, tpr2)\r\n",
        "plt.show()\r\n",
        "plot_roc_curve(fpr3, tpr3)\r\n",
        "plt.show()\r\n",
        "plot_roc_curve(fpr4, tpr4)\r\n",
        "plt.show()"
      ],
      "execution_count": null,
      "outputs": [
        {
          "output_type": "display_data",
          "data": {
            "image/png": "[encoded data removed]",
            "text/plain": [
              "<Figure size 432x288 with 1 Axes>"
            ]
          },
          "metadata": {
            "tags": []
          }
        },
        {
          "output_type": "display_data",
          "data": {
            "image/png": "[encoded data removed]",
            "text/plain": [
              "<Figure size 432x288 with 1 Axes>"
            ]
          },
          "metadata": {
            "tags": []
          }
        },
        {
          "output_type": "display_data",
          "data": {
            "image/png": "[encoded data removed]",
            "text/plain": [
              "<Figure size 432x288 with 1 Axes>"
            ]
          },
          "metadata": {
            "tags": []
          }
        },
        {
          "output_type": "display_data",
          "data": {
            "image/png": "[encoded data removed]",
            "text/plain": [
              "<Figure size 432x288 with 1 Axes>"
            ]
          },
          "metadata": {
            "tags": []
          }
        }
      ]
    },
    {
      "cell_type": "markdown",
      "metadata": {
        "id": "0jBXBtGaDPeF"
      },
      "source": [
        "To evaluate the ROC curve, we measure the area under the curve (AUC). If it is 1.0, it is perfect; if it is 0.5 it is purely random."
      ]
    },
    {
      "cell_type": "code",
      "metadata": {
        "colab": {
          "base_uri": "https://localhost:8080/"
        },
        "id": "8Q68fUC7C3wX",
        "outputId": "eb6c8a52-b961-447e-f115-b8c42fb81ad0"
      },
      "source": [
        "from sklearn.metrics import roc_auc_score\r\n",
        "roc_auc_score(yband1_5, y_scores1)"
      ],
      "execution_count": null,
      "outputs": [
        {
          "output_type": "execute_result",
          "data": {
            "text/plain": [
              "0.992794276713614"
            ]
          },
          "metadata": {
            "tags": []
          },
          "execution_count": 65
        }
      ]
    },
    {
      "cell_type": "code",
      "metadata": {
        "colab": {
          "base_uri": "https://localhost:8080/"
        },
        "id": "8-UqBMGpDhQU",
        "outputId": "d19f954c-fc2e-40ce-9370-4c373977fd16"
      },
      "source": [
        "roc_auc_score(yband2_5, y_scores2)"
      ],
      "execution_count": null,
      "outputs": [
        {
          "output_type": "execute_result",
          "data": {
            "text/plain": [
              "0.9675251823126265"
            ]
          },
          "metadata": {
            "tags": []
          },
          "execution_count": 66
        }
      ]
    },
    {
      "cell_type": "code",
      "metadata": {
        "colab": {
          "base_uri": "https://localhost:8080/"
        },
        "id": "NwtHRFHnDkVO",
        "outputId": "44bbad0c-240d-417e-cb09-d42c827fe68d"
      },
      "source": [
        "roc_auc_score(yband3_5, y_scores3)"
      ],
      "execution_count": null,
      "outputs": [
        {
          "output_type": "execute_result",
          "data": {
            "text/plain": [
              "0.9962794441201944"
            ]
          },
          "metadata": {
            "tags": []
          },
          "execution_count": 67
        }
      ]
    },
    {
      "cell_type": "code",
      "metadata": {
        "colab": {
          "base_uri": "https://localhost:8080/"
        },
        "id": "jN-BaxM_Do8C",
        "outputId": "03780fda-e171-4e5f-9815-1034e5f204bd"
      },
      "source": [
        "roc_auc_score(yband4_5, y_scores4)"
      ],
      "execution_count": null,
      "outputs": [
        {
          "output_type": "execute_result",
          "data": {
            "text/plain": [
              "0.9949649554775465"
            ]
          },
          "metadata": {
            "tags": []
          },
          "execution_count": 68
        }
      ]
    },
    {
      "cell_type": "code",
      "metadata": {
        "id": "RQgqSvwJHLer"
      },
      "source": [
        "from sklearn.ensemble import RandomForestClassifier\r\n",
        "\r\n",
        "forest_clf = RandomForestClassifier(random_state=42)\r\n",
        "y_probas_forest1 = cross_val_predict(forest_clf, band_01, yband1_5, cv=3, method='predict_proba')\r\n",
        "y_probas_forest2 = cross_val_predict(forest_clf, band_02, yband2_5, cv=3, method='predict_proba')\r\n",
        "y_probas_forest3 = cross_val_predict(forest_clf, band_03, yband3_5, cv=3, method='predict_proba')\r\n",
        "y_probas_forest4 = cross_val_predict(forest_clf, band_04, yband4_5, cv=3, method='predict_proba')"
      ],
      "execution_count": null,
      "outputs": []
    },
    {
      "cell_type": "code",
      "metadata": {
        "id": "Swu66JY4IPnE"
      },
      "source": [
        "y_scores_forest1 = y_probas_forest1[:, 1] # score = proba of positive class\r\n",
        "y_scores_forest2 = y_probas_forest2[:, 1]\r\n",
        "y_scores_forest3 = y_probas_forest3[:, 1]\r\n",
        "y_scores_forest4 = y_probas_forest4[:, 1]"
      ],
      "execution_count": null,
      "outputs": []
    },
    {
      "cell_type": "code",
      "metadata": {
        "colab": {
          "base_uri": "https://localhost:8080/"
        },
        "id": "OzJZeJUsJ75k",
        "outputId": "ccd69b10-1049-4ebb-d8a7-36f0a861a09d"
      },
      "source": [
        "y_scores_forest1"
      ],
      "execution_count": null,
      "outputs": [
        {
          "output_type": "execute_result",
          "data": {
            "text/plain": [
              "array([0.  , 0.  , 0.  , ..., 0.  , 0.  , 0.02])"
            ]
          },
          "metadata": {
            "tags": []
          },
          "execution_count": 71
        }
      ]
    },
    {
      "cell_type": "code",
      "metadata": {
        "id": "DA6FdPgzJtKs"
      },
      "source": [
        "fpr_forest1, tpr_forest1, thresholds_forest1 = roc_curve(yband1_5, y_scores_forest1)\r\n",
        "fpr_forest2, tpr_forest2, thresholds_forest2 = roc_curve(yband2_5, y_scores_forest2)\r\n",
        "fpr_forest3, tpr_forest3, thresholds_forest3 = roc_curve(yband3_5, y_scores_forest3)\r\n",
        "fpr_forest4, tpr_forest4, thresholds_forest4 = roc_curve(yband4_5, y_scores_forest4)"
      ],
      "execution_count": null,
      "outputs": []
    },
    {
      "cell_type": "code",
      "metadata": {
        "colab": {
          "base_uri": "https://localhost:8080/",
          "height": 1000
        },
        "id": "59mJ9h8-Op3A",
        "outputId": "8abeb3c4-c3e8-436a-ed8a-f771022c5b15"
      },
      "source": [
        "plt.plot(fpr1, tpr1, 'b:', label='SGD')\r\n",
        "plot_roc_curve(fpr_forest1, tpr_forest1, 'Random Forest')\r\n",
        "plt.legend(loc='lower right')\r\n",
        "plt.show()\r\n",
        "\r\n",
        "plt.plot(fpr2, tpr2, 'b:', label='SGD')\r\n",
        "plot_roc_curve(fpr_forest2, tpr_forest2, 'Random Forest')\r\n",
        "plt.legend(loc='lower right')\r\n",
        "plt.show()\r\n",
        "\r\n",
        "plt.plot(fpr3, tpr3, 'b:', label='SGD')\r\n",
        "plot_roc_curve(fpr_forest3, tpr_forest3, 'Random Forest')\r\n",
        "plt.legend(loc='lower right')\r\n",
        "plt.show()\r\n",
        "\r\n",
        "plt.plot(fpr4, tpr4, 'b:', label='SGD')\r\n",
        "plot_roc_curve(fpr_forest4, tpr_forest4, 'Random Forest')\r\n",
        "plt.legend(loc='lower right')\r\n",
        "plt.show()"
      ],
      "execution_count": null,
      "outputs": [
        {
          "output_type": "display_data",
          "data": {
            "image/png": "[encoded data removed]",
            "text/plain": [
              "<Figure size 432x288 with 1 Axes>"
            ]
          },
          "metadata": {
            "tags": []
          }
        },
        {
          "output_type": "display_data",
          "data": {
            "image/png": "[encoded data removed]",
            "text/plain": [
              "<Figure size 432x288 with 1 Axes>"
            ]
          },
          "metadata": {
            "tags": []
          }
        },
        {
          "output_type": "display_data",
          "data": {
            "image/png": "[encoded data removed]",
            "text/plain": [
              "<Figure size 432x288 with 1 Axes>"
            ]
          },
          "metadata": {
            "tags": []
          }
        },
        {
          "output_type": "display_data",
          "data": {
            "image/png": "[encoded data removed]",
            "text/plain": [
              "<Figure size 432x288 with 1 Axes>"
            ]
          },
          "metadata": {
            "tags": []
          }
        }
      ]
    },
    {
      "cell_type": "markdown",
      "metadata": {
        "id": "B7jcESzjhjl7"
      },
      "source": [
        "## Multiclass Classification"
      ]
    },
    {
      "cell_type": "code",
      "metadata": {
        "id": "WvzwQ27dmkHx"
      },
      "source": [
        "y_train = band_01[:,-1]"
      ],
      "execution_count": null,
      "outputs": []
    },
    {
      "cell_type": "code",
      "metadata": {
        "colab": {
          "base_uri": "https://localhost:8080/"
        },
        "id": "lzxCHbPCsSCB",
        "outputId": "c573d0e8-8131-4519-d794-2cfb9420236b"
      },
      "source": [
        "band_01"
      ],
      "execution_count": null,
      "outputs": [
        {
          "output_type": "execute_result",
          "data": {
            "text/plain": [
              "array([[92, 84, 84, ..., 88, 84,  3],\n",
              "       [84, 84, 80, ..., 84, 84,  3],\n",
              "       [84, 80, 84, ..., 84, 84,  3],\n",
              "       ...,\n",
              "       [68, 71, 71, ..., 63, 70,  4],\n",
              "       [71, 71, 76, ..., 70, 70,  4],\n",
              "       [71, 76, 80, ..., 70, 63,  4]])"
            ]
          },
          "metadata": {
            "tags": []
          },
          "execution_count": 125
        }
      ]
    },
    {
      "cell_type": "code",
      "metadata": {
        "id": "V026Iq0fq89N"
      },
      "source": [
        "sat_band1 = sat[['top_left1', 'top_center1', 'top_right1', \r\n",
        "                 'middle_left1', 'middle_center1', 'middle_right1',\r\n",
        "                 'bottom_left1', 'bottom_center1', 'bottom_right1']].astype('int')\r\n",
        "sat_band2 = sat[['top_left2', 'top_center2', 'top_right2', \r\n",
        "                 'middle_left2', 'middle_center2', 'middle_right2', \r\n",
        "                 'bottom_left2', 'bottom_center2', 'bottom_right2']].astype('int')\r\n",
        "sat_band3 = sat[['top_left3', 'top_center3', 'top_right3', \r\n",
        "                 'middle_left3', 'middle_center3', 'middle_right3', \r\n",
        "                 'bottom_left3', 'bottom_center3', 'bottom_right3']].astype('int')\r\n",
        "sat_band4 = sat[['top_left4', 'top_center4', 'top_right4', \r\n",
        "                 'middle_left4', 'middle_center4', 'middle_right4', \r\n",
        "                 'bottom_left4', 'bottom_center4', 'bottom_right4']].astype('int')"
      ],
      "execution_count": null,
      "outputs": []
    },
    {
      "cell_type": "code",
      "metadata": {
        "colab": {
          "base_uri": "https://localhost:8080/",
          "height": 80
        },
        "id": "28MvD2HhqgGL",
        "outputId": "1883567c-89a7-4ae1-ba54-3d3155a76321"
      },
      "source": [
        "sat_band1[0:1]"
      ],
      "execution_count": null,
      "outputs": [
        {
          "output_type": "execute_result",
          "data": {
            "text/html": [
              "<div>\n",
              "<style scoped>\n",
              "    .dataframe tbody tr th:only-of-type {\n",
              "        vertical-align: middle;\n",
              "    }\n",
              "\n",
              "    .dataframe tbody tr th {\n",
              "        vertical-align: top;\n",
              "    }\n",
              "\n",
              "    .dataframe thead th {\n",
              "        text-align: right;\n",
              "    }\n",
              "</style>\n",
              "<table border=\"1\" class=\"dataframe\">\n",
              "  <thead>\n",
              "    <tr style=\"text-align: right;\">\n",
              "      <th></th>\n",
              "      <th>top_left1</th>\n",
              "      <th>top_center1</th>\n",
              "      <th>top_right1</th>\n",
              "      <th>middle_left1</th>\n",
              "      <th>middle_center1</th>\n",
              "      <th>middle_right1</th>\n",
              "      <th>bottom_left1</th>\n",
              "      <th>bottom_center1</th>\n",
              "      <th>bottom_right1</th>\n",
              "    </tr>\n",
              "  </thead>\n",
              "  <tbody>\n",
              "    <tr>\n",
              "      <th>0</th>\n",
              "      <td>92</td>\n",
              "      <td>84</td>\n",
              "      <td>84</td>\n",
              "      <td>101</td>\n",
              "      <td>92</td>\n",
              "      <td>84</td>\n",
              "      <td>102</td>\n",
              "      <td>88</td>\n",
              "      <td>84</td>\n",
              "    </tr>\n",
              "  </tbody>\n",
              "</table>\n",
              "</div>"
            ],
            "text/plain": [
              "   top_left1  top_center1  ...  bottom_center1  bottom_right1\n",
              "0         92           84  ...              88             84\n",
              "\n",
              "[1 rows x 9 columns]"
            ]
          },
          "metadata": {
            "tags": []
          },
          "execution_count": 113
        }
      ]
    },
    {
      "cell_type": "code",
      "metadata": {
        "colab": {
          "base_uri": "https://localhost:8080/"
        },
        "id": "ekb-1c2RpDWH",
        "outputId": "809cbcce-01d9-42c6-f716-30d5953f3fa6"
      },
      "source": [
        "dfs1 = []\r\n",
        "for i in range(0,len(sat_band1)):\r\n",
        "  line = sat_band1.iloc[i:i+1].to_numpy()\r\n",
        "  dfs1.append(line)\r\n",
        "dfs1[0]"
      ],
      "execution_count": null,
      "outputs": [
        {
          "output_type": "execute_result",
          "data": {
            "text/plain": [
              "array([[ 92,  84,  84, 101,  92,  84, 102,  88,  84]])"
            ]
          },
          "metadata": {
            "tags": []
          },
          "execution_count": 135
        }
      ]
    },
    {
      "cell_type": "code",
      "metadata": {
        "colab": {
          "base_uri": "https://localhost:8080/"
        },
        "id": "L_h1Dow3pnxn",
        "outputId": "a21fefa5-92e9-4fc5-9168-2eace89eaaff"
      },
      "source": [
        "band_01[0,-1]"
      ],
      "execution_count": null,
      "outputs": [
        {
          "output_type": "execute_result",
          "data": {
            "text/plain": [
              "3"
            ]
          },
          "metadata": {
            "tags": []
          },
          "execution_count": 143
        }
      ]
    },
    {
      "cell_type": "code",
      "metadata": {
        "colab": {
          "base_uri": "https://localhost:8080/"
        },
        "id": "unQ5c_8dhphu",
        "outputId": "ac7c681a-7dae-47e3-c5e9-45281fba0cea"
      },
      "source": [
        "sgd_clf1.fit(sat_band1, y_train)\r\n",
        "sgd_clf1.predict(dfs1[0])"
      ],
      "execution_count": null,
      "outputs": [
        {
          "output_type": "execute_result",
          "data": {
            "text/plain": [
              "array([3])"
            ]
          },
          "metadata": {
            "tags": []
          },
          "execution_count": 141
        }
      ]
    },
    {
      "cell_type": "code",
      "metadata": {
        "colab": {
          "base_uri": "https://localhost:8080/"
        },
        "id": "mujaCaf39OVC",
        "outputId": "7cc8d094-cad6-4371-8944-4f593e290077"
      },
      "source": [
        "dfs1_scores = sgd_clf1.decision_function(dfs1[0])\r\n",
        "dfs1_scores #it displays all 6 classes"
      ],
      "execution_count": null,
      "outputs": [
        {
          "output_type": "execute_result",
          "data": {
            "text/plain": [
              "array([[-6.30831673e+02, -1.31824073e+03,  2.32212678e+02,\n",
              "         7.81336926e+00, -3.21478975e+02,  4.87605510e-01]])"
            ]
          },
          "metadata": {
            "tags": []
          },
          "execution_count": 154
        }
      ]
    },
    {
      "cell_type": "code",
      "metadata": {
        "colab": {
          "base_uri": "https://localhost:8080/"
        },
        "id": "O6QYCez49vs3",
        "outputId": "73826d49-4b6e-4856-aecd-e48479a52c12"
      },
      "source": [
        "np.argmax(dfs1_scores) # Not really accurate"
      ],
      "execution_count": null,
      "outputs": [
        {
          "output_type": "execute_result",
          "data": {
            "text/plain": [
              "2"
            ]
          },
          "metadata": {
            "tags": []
          },
          "execution_count": 155
        }
      ]
    },
    {
      "cell_type": "code",
      "metadata": {
        "colab": {
          "base_uri": "https://localhost:8080/"
        },
        "id": "d4VDkoD6-sw2",
        "outputId": "fc278d68-8d91-4f9a-c67a-8f503d59e2e2"
      },
      "source": [
        "sgd_clf1.classes_"
      ],
      "execution_count": null,
      "outputs": [
        {
          "output_type": "execute_result",
          "data": {
            "text/plain": [
              "array([1, 2, 3, 4, 5, 7])"
            ]
          },
          "metadata": {
            "tags": []
          },
          "execution_count": 160
        }
      ]
    },
    {
      "cell_type": "code",
      "metadata": {
        "colab": {
          "base_uri": "https://localhost:8080/"
        },
        "id": "ImKlkHBnBAWo",
        "outputId": "ff87603f-cfec-4231-e069-419560ccf02d"
      },
      "source": [
        "sgd_clf1.classes_[5]"
      ],
      "execution_count": null,
      "outputs": [
        {
          "output_type": "execute_result",
          "data": {
            "text/plain": [
              "7"
            ]
          },
          "metadata": {
            "tags": []
          },
          "execution_count": 166
        }
      ]
    },
    {
      "cell_type": "code",
      "metadata": {
        "colab": {
          "base_uri": "https://localhost:8080/"
        },
        "id": "Swkt8SE4ACxl",
        "outputId": "ee240fb2-f8ea-4792-86c3-ce124c66f1aa"
      },
      "source": [
        "from sklearn.multiclass import OneVsOneClassifier\r\n",
        "ovo_clf = OneVsOneClassifier(SGDClassifier(random_state=42)) # Trains a binary classifier for every pair of digits:\r\n",
        "ovo_clf.fit(sat_band1, y_train)\r\n",
        "ovo_clf.predict(dfs1[0]) # Way better"
      ],
      "execution_count": null,
      "outputs": [
        {
          "output_type": "execute_result",
          "data": {
            "text/plain": [
              "array([3])"
            ]
          },
          "metadata": {
            "tags": []
          },
          "execution_count": 157
        }
      ]
    },
    {
      "cell_type": "code",
      "metadata": {
        "colab": {
          "base_uri": "https://localhost:8080/"
        },
        "id": "oQXdzInSA542",
        "outputId": "21ae4b58-5cf9-4768-99f1-9ab43251e3ab"
      },
      "source": [
        "len(ovo_clf.estimators_)"
      ],
      "execution_count": null,
      "outputs": [
        {
          "output_type": "execute_result",
          "data": {
            "text/plain": [
              "15"
            ]
          },
          "metadata": {
            "tags": []
          },
          "execution_count": 167
        }
      ]
    },
    {
      "cell_type": "code",
      "metadata": {
        "colab": {
          "base_uri": "https://localhost:8080/"
        },
        "id": "Ibz1Ge84Dwdm",
        "outputId": "9abc1d8e-fd38-4ef4-e462-f3edd1321f2a"
      },
      "source": [
        "forest_clf.fit(sat_band1, y_train)\r\n",
        "forest_clf.predict(dfs1[0])"
      ],
      "execution_count": null,
      "outputs": [
        {
          "output_type": "execute_result",
          "data": {
            "text/plain": [
              "array([3])"
            ]
          },
          "metadata": {
            "tags": []
          },
          "execution_count": 168
        }
      ]
    },
    {
      "cell_type": "code",
      "metadata": {
        "colab": {
          "base_uri": "https://localhost:8080/"
        },
        "id": "NOBoeYnjDwzn",
        "outputId": "e702c7ad-2078-4cc9-e947-1f1f93b7d441"
      },
      "source": [
        "forest_clf.predict_proba(dfs1[0])"
      ],
      "execution_count": null,
      "outputs": [
        {
          "output_type": "execute_result",
          "data": {
            "text/plain": [
              "array([[0.  , 0.  , 0.92, 0.08, 0.  , 0.  ]])"
            ]
          },
          "metadata": {
            "tags": []
          },
          "execution_count": 169
        }
      ]
    },
    {
      "cell_type": "code",
      "metadata": {
        "colab": {
          "base_uri": "https://localhost:8080/"
        },
        "id": "c8Gseb4DDyIi",
        "outputId": "2402d266-2099-4763-8daf-e75bf69fea7c"
      },
      "source": [
        "cross_val_score(sgd_clf1, sat_band1, y_train, cv=3, scoring=\"accuracy\")"
      ],
      "execution_count": null,
      "outputs": [
        {
          "output_type": "execute_result",
          "data": {
            "text/plain": [
              "array([0.43407708, 0.63125846, 0.54939107])"
            ]
          },
          "metadata": {
            "tags": []
          },
          "execution_count": 171
        }
      ]
    },
    {
      "cell_type": "markdown",
      "metadata": {
        "id": "oRyZdAnQFhE9"
      },
      "source": [
        "Not pretty. Between 43-63 %."
      ]
    },
    {
      "cell_type": "code",
      "metadata": {
        "colab": {
          "base_uri": "https://localhost:8080/"
        },
        "id": "xyj4cjPzFPYQ",
        "outputId": "a194daee-86d5-4d36-abaf-a87c1ba2ddff"
      },
      "source": [
        "from sklearn.preprocessing import StandardScaler\r\n",
        "scaler = StandardScaler()\r\n",
        "X_train_scaled = scaler.fit_transform(sat_band1.astype(np.float64))\r\n",
        "cross_val_score(sgd_clf1, X_train_scaled, y_train, cv=3, scoring=\"accuracy\")"
      ],
      "execution_count": null,
      "outputs": [
        {
          "output_type": "execute_result",
          "data": {
            "text/plain": [
              "array([0.57944557, 0.49188092, 0.49458728])"
            ]
          },
          "metadata": {
            "tags": []
          },
          "execution_count": 173
        }
      ]
    },
    {
      "cell_type": "markdown",
      "metadata": {
        "id": "LFfNRsx3GBV7"
      },
      "source": [
        "Increases accuracy (49-57 %) once the scaling is done."
      ]
    },
    {
      "cell_type": "markdown",
      "metadata": {
        "id": "NSsdInxBNfwz"
      },
      "source": [
        "## Error Analysis"
      ]
    },
    {
      "cell_type": "code",
      "metadata": {
        "colab": {
          "base_uri": "https://localhost:8080/"
        },
        "id": "DTqwdUorGAjB",
        "outputId": "1d44195b-a6af-480b-b3c3-27376b77a247"
      },
      "source": [
        "y_train_pred = cross_val_predict(sgd_clf1, X_train_scaled, y_train, cv=3)\r\n",
        "conf_mx = confusion_matrix(y_train, y_train_pred)\r\n",
        "conf_mx\r\n"
      ],
      "execution_count": null,
      "outputs": [
        {
          "output_type": "execute_result",
          "data": {
            "text/plain": [
              "array([[622, 208,  19,  18,  13, 192],\n",
              "       [ 67, 373,   0,  10,   6,  23],\n",
              "       [ 11,   0, 912,  14,  16,   8],\n",
              "       [111,   0, 158,  41,  31,  74],\n",
              "       [282,  71,   0,  16,   8,  93],\n",
              "       [519,   0,  66,  48,  46, 359]])"
            ]
          },
          "metadata": {
            "tags": []
          },
          "execution_count": 178
        }
      ]
    },
    {
      "cell_type": "code",
      "metadata": {
        "colab": {
          "base_uri": "https://localhost:8080/",
          "height": 275
        },
        "id": "T_2Z8kbSGsKV",
        "outputId": "e081c428-ea11-4562-9382-ccb69ef6bd04"
      },
      "source": [
        "plt.matshow(conf_mx, cmap=plt.cm.gray)\r\n",
        "plt.show() # Not pretty"
      ],
      "execution_count": null,
      "outputs": [
        {
          "output_type": "display_data",
          "data": {
            "image/png": "[encoded data removed]",
            "text/plain": [
              "<Figure size 288x288 with 1 Axes>"
            ]
          },
          "metadata": {
            "tags": []
          }
        }
      ]
    },
    {
      "cell_type": "code",
      "metadata": {
        "colab": {
          "base_uri": "https://localhost:8080/",
          "height": 275
        },
        "id": "tnuPiU_aOA9L",
        "outputId": "69d4d823-f7e3-4e6f-b09a-effcd0cb8c38"
      },
      "source": [
        "row_sums = conf_mx.sum(axis=1, keepdims=True)\r\n",
        "norm_conf_mx = conf_mx / row_sums # divide each value in the confusion matrix by the number of images in the corresponding class,\r\n",
        "\r\n",
        "np.fill_diagonal(norm_conf_mx, 0)\r\n",
        "plt.matshow(norm_conf_mx, cmap=plt.cm.gray)\r\n",
        "plt.show()"
      ],
      "execution_count": null,
      "outputs": [
        {
          "output_type": "display_data",
          "data": {
            "image/png": "[encoded data removed]",
            "text/plain": [
              "<Figure size 288x288 with 1 Axes>"
            ]
          },
          "metadata": {
            "tags": []
          }
        }
      ]
    },
    {
      "cell_type": "code",
      "metadata": {
        "colab": {
          "base_uri": "https://localhost:8080/"
        },
        "id": "JiX2ZfPeZNcX",
        "outputId": "72de0cb5-e0a3-441f-e3bd-e02c450fbfc0"
      },
      "source": [
        "from sklearn.neighbors import KNeighborsClassifier\r\n",
        "y_train_large = (y_train >= 7)\r\n",
        "y_train_odd = (y_train % 2 == 1)\r\n",
        "y_multilabel = np.c_[y_train_large, y_train_odd]\r\n",
        "knn_clf = KNeighborsClassifier()\r\n",
        "knn_clf.fit(sat_band1, y_multilabel)"
      ],
      "execution_count": null,
      "outputs": [
        {
          "output_type": "execute_result",
          "data": {
            "text/plain": [
              "KNeighborsClassifier(algorithm='auto', leaf_size=30, metric='minkowski',\n",
              "                     metric_params=None, n_jobs=None, n_neighbors=5, p=2,\n",
              "                     weights='uniform')"
            ]
          },
          "metadata": {
            "tags": []
          },
          "execution_count": 188
        }
      ]
    },
    {
      "cell_type": "code",
      "metadata": {
        "colab": {
          "base_uri": "https://localhost:8080/"
        },
        "id": "k86ld_YBcMVK",
        "outputId": "57c59541-d6f8-49ff-f9ce-a62befd68f98"
      },
      "source": [
        "knn_clf.predict(dfs1[0]) # Indeed, 3 is not large (False) but it is odd (True)"
      ],
      "execution_count": 195,
      "outputs": [
        {
          "output_type": "execute_result",
          "data": {
            "text/plain": [
              "array([[False,  True]])"
            ]
          },
          "metadata": {
            "tags": []
          },
          "execution_count": 195
        }
      ]
    }
  ]
}