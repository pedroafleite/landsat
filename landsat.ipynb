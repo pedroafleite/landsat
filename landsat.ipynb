{
  "nbformat": 4,
  "nbformat_minor": 0,
  "metadata": {
    "colab": {
      "name": "landsat.ipynb",
      "provenance": [],
      "collapsed_sections": [],
      "authorship_tag": "ABX9TyPxAITq4YaLQNdp81AQOguI",
      "include_colab_link": true
    },
    "kernelspec": {
      "name": "python3",
      "display_name": "Python 3"
    }
  },
  "cells": [
    {
      "cell_type": "markdown",
      "metadata": {
        "id": "view-in-github",
        "colab_type": "text"
      },
      "source": [
        "<a href=\"https://colab.research.google.com/github/pedroafleite/landsat/blob/main/landsat.ipynb\" target=\"_parent\"><img src=\"https://colab.research.google.com/assets/colab-badge.svg\" alt=\"Open In Colab\"/></a>"
      ]
    },
    {
      "cell_type": "code",
      "metadata": {
        "colab": {
          "base_uri": "https://localhost:8080/"
        },
        "id": "Ybh5aTsYihz5",
        "outputId": "72cf7581-5565-4671-97cd-a6e92c231bb5"
      },
      "source": [
        "import numpy as np\r\n",
        "import pandas as pd\r\n",
        "import matplotlib.pyplot as plt\r\n",
        "%matplotlib inline\r\n",
        "\r\n",
        "from google.colab import drive\r\n",
        "drive.mount('/content/drive')"
      ],
      "execution_count": 532,
      "outputs": [
        {
          "output_type": "stream",
          "text": [
            "Drive already mounted at /content/drive; to attempt to forcibly remount, call drive.mount(\"/content/drive\", force_remount=True).\n"
          ],
          "name": "stdout"
        }
      ]
    },
    {
      "cell_type": "code",
      "metadata": {
        "colab": {
          "base_uri": "https://localhost:8080/"
        },
        "id": "kLtzHDdKvLCP",
        "outputId": "64764d21-76b6-4fcd-ef0e-ff054ce88d9e"
      },
      "source": [
        "sat = pd.read_csv(\"/content/drive/MyDrive/Colab Notebooks/landsat/sat.trn\", sep=' ', header=None)\r\n",
        "print(sat.shape)\r\n",
        "sat_test = pd.read_csv(\"/content/drive/MyDrive/Colab Notebooks/landsat/sat.tst\", sep=' ', header=None)\r\n",
        "print(sat_test.shape)"
      ],
      "execution_count": 533,
      "outputs": [
        {
          "output_type": "stream",
          "text": [
            "(4435, 37)\n",
            "(2000, 37)\n"
          ],
          "name": "stdout"
        }
      ]
    },
    {
      "cell_type": "code",
      "metadata": {
        "id": "IaPaV3-TxUvT"
      },
      "source": [
        "sat.rename(columns={36: 'Class'}, inplace=True)"
      ],
      "execution_count": 534,
      "outputs": []
    },
    {
      "cell_type": "code",
      "metadata": {
        "colab": {
          "base_uri": "https://localhost:8080/",
          "height": 224
        },
        "id": "PrqLfUYd_wtc",
        "outputId": "aac66a60-5a68-47df-dca8-aec0786667f7"
      },
      "source": [
        "sat.head()"
      ],
      "execution_count": 535,
      "outputs": [
        {
          "output_type": "execute_result",
          "data": {
            "text/html": [
              "<div>\n",
              "<style scoped>\n",
              "    .dataframe tbody tr th:only-of-type {\n",
              "        vertical-align: middle;\n",
              "    }\n",
              "\n",
              "    .dataframe tbody tr th {\n",
              "        vertical-align: top;\n",
              "    }\n",
              "\n",
              "    .dataframe thead th {\n",
              "        text-align: right;\n",
              "    }\n",
              "</style>\n",
              "<table border=\"1\" class=\"dataframe\">\n",
              "  <thead>\n",
              "    <tr style=\"text-align: right;\">\n",
              "      <th></th>\n",
              "      <th>0</th>\n",
              "      <th>1</th>\n",
              "      <th>2</th>\n",
              "      <th>3</th>\n",
              "      <th>4</th>\n",
              "      <th>5</th>\n",
              "      <th>6</th>\n",
              "      <th>7</th>\n",
              "      <th>8</th>\n",
              "      <th>9</th>\n",
              "      <th>10</th>\n",
              "      <th>11</th>\n",
              "      <th>12</th>\n",
              "      <th>13</th>\n",
              "      <th>14</th>\n",
              "      <th>15</th>\n",
              "      <th>16</th>\n",
              "      <th>17</th>\n",
              "      <th>18</th>\n",
              "      <th>19</th>\n",
              "      <th>20</th>\n",
              "      <th>21</th>\n",
              "      <th>22</th>\n",
              "      <th>23</th>\n",
              "      <th>24</th>\n",
              "      <th>25</th>\n",
              "      <th>26</th>\n",
              "      <th>27</th>\n",
              "      <th>28</th>\n",
              "      <th>29</th>\n",
              "      <th>30</th>\n",
              "      <th>31</th>\n",
              "      <th>32</th>\n",
              "      <th>33</th>\n",
              "      <th>34</th>\n",
              "      <th>35</th>\n",
              "      <th>Class</th>\n",
              "    </tr>\n",
              "  </thead>\n",
              "  <tbody>\n",
              "    <tr>\n",
              "      <th>0</th>\n",
              "      <td>92</td>\n",
              "      <td>115</td>\n",
              "      <td>120</td>\n",
              "      <td>94</td>\n",
              "      <td>84</td>\n",
              "      <td>102</td>\n",
              "      <td>106</td>\n",
              "      <td>79</td>\n",
              "      <td>84</td>\n",
              "      <td>102</td>\n",
              "      <td>102</td>\n",
              "      <td>83</td>\n",
              "      <td>101</td>\n",
              "      <td>126</td>\n",
              "      <td>133</td>\n",
              "      <td>103</td>\n",
              "      <td>92</td>\n",
              "      <td>112</td>\n",
              "      <td>118</td>\n",
              "      <td>85</td>\n",
              "      <td>84</td>\n",
              "      <td>103</td>\n",
              "      <td>104</td>\n",
              "      <td>81</td>\n",
              "      <td>102</td>\n",
              "      <td>126</td>\n",
              "      <td>134</td>\n",
              "      <td>104</td>\n",
              "      <td>88</td>\n",
              "      <td>121</td>\n",
              "      <td>128</td>\n",
              "      <td>100</td>\n",
              "      <td>84</td>\n",
              "      <td>107</td>\n",
              "      <td>113</td>\n",
              "      <td>87</td>\n",
              "      <td>3</td>\n",
              "    </tr>\n",
              "    <tr>\n",
              "      <th>1</th>\n",
              "      <td>84</td>\n",
              "      <td>102</td>\n",
              "      <td>106</td>\n",
              "      <td>79</td>\n",
              "      <td>84</td>\n",
              "      <td>102</td>\n",
              "      <td>102</td>\n",
              "      <td>83</td>\n",
              "      <td>80</td>\n",
              "      <td>102</td>\n",
              "      <td>102</td>\n",
              "      <td>79</td>\n",
              "      <td>92</td>\n",
              "      <td>112</td>\n",
              "      <td>118</td>\n",
              "      <td>85</td>\n",
              "      <td>84</td>\n",
              "      <td>103</td>\n",
              "      <td>104</td>\n",
              "      <td>81</td>\n",
              "      <td>84</td>\n",
              "      <td>99</td>\n",
              "      <td>104</td>\n",
              "      <td>78</td>\n",
              "      <td>88</td>\n",
              "      <td>121</td>\n",
              "      <td>128</td>\n",
              "      <td>100</td>\n",
              "      <td>84</td>\n",
              "      <td>107</td>\n",
              "      <td>113</td>\n",
              "      <td>87</td>\n",
              "      <td>84</td>\n",
              "      <td>99</td>\n",
              "      <td>104</td>\n",
              "      <td>79</td>\n",
              "      <td>3</td>\n",
              "    </tr>\n",
              "    <tr>\n",
              "      <th>2</th>\n",
              "      <td>84</td>\n",
              "      <td>102</td>\n",
              "      <td>102</td>\n",
              "      <td>83</td>\n",
              "      <td>80</td>\n",
              "      <td>102</td>\n",
              "      <td>102</td>\n",
              "      <td>79</td>\n",
              "      <td>84</td>\n",
              "      <td>94</td>\n",
              "      <td>102</td>\n",
              "      <td>79</td>\n",
              "      <td>84</td>\n",
              "      <td>103</td>\n",
              "      <td>104</td>\n",
              "      <td>81</td>\n",
              "      <td>84</td>\n",
              "      <td>99</td>\n",
              "      <td>104</td>\n",
              "      <td>78</td>\n",
              "      <td>84</td>\n",
              "      <td>99</td>\n",
              "      <td>104</td>\n",
              "      <td>81</td>\n",
              "      <td>84</td>\n",
              "      <td>107</td>\n",
              "      <td>113</td>\n",
              "      <td>87</td>\n",
              "      <td>84</td>\n",
              "      <td>99</td>\n",
              "      <td>104</td>\n",
              "      <td>79</td>\n",
              "      <td>84</td>\n",
              "      <td>99</td>\n",
              "      <td>104</td>\n",
              "      <td>79</td>\n",
              "      <td>3</td>\n",
              "    </tr>\n",
              "    <tr>\n",
              "      <th>3</th>\n",
              "      <td>80</td>\n",
              "      <td>102</td>\n",
              "      <td>102</td>\n",
              "      <td>79</td>\n",
              "      <td>84</td>\n",
              "      <td>94</td>\n",
              "      <td>102</td>\n",
              "      <td>79</td>\n",
              "      <td>80</td>\n",
              "      <td>94</td>\n",
              "      <td>98</td>\n",
              "      <td>76</td>\n",
              "      <td>84</td>\n",
              "      <td>99</td>\n",
              "      <td>104</td>\n",
              "      <td>78</td>\n",
              "      <td>84</td>\n",
              "      <td>99</td>\n",
              "      <td>104</td>\n",
              "      <td>81</td>\n",
              "      <td>76</td>\n",
              "      <td>99</td>\n",
              "      <td>104</td>\n",
              "      <td>81</td>\n",
              "      <td>84</td>\n",
              "      <td>99</td>\n",
              "      <td>104</td>\n",
              "      <td>79</td>\n",
              "      <td>84</td>\n",
              "      <td>99</td>\n",
              "      <td>104</td>\n",
              "      <td>79</td>\n",
              "      <td>84</td>\n",
              "      <td>103</td>\n",
              "      <td>104</td>\n",
              "      <td>79</td>\n",
              "      <td>3</td>\n",
              "    </tr>\n",
              "    <tr>\n",
              "      <th>4</th>\n",
              "      <td>84</td>\n",
              "      <td>94</td>\n",
              "      <td>102</td>\n",
              "      <td>79</td>\n",
              "      <td>80</td>\n",
              "      <td>94</td>\n",
              "      <td>98</td>\n",
              "      <td>76</td>\n",
              "      <td>80</td>\n",
              "      <td>102</td>\n",
              "      <td>102</td>\n",
              "      <td>79</td>\n",
              "      <td>84</td>\n",
              "      <td>99</td>\n",
              "      <td>104</td>\n",
              "      <td>81</td>\n",
              "      <td>76</td>\n",
              "      <td>99</td>\n",
              "      <td>104</td>\n",
              "      <td>81</td>\n",
              "      <td>76</td>\n",
              "      <td>99</td>\n",
              "      <td>108</td>\n",
              "      <td>85</td>\n",
              "      <td>84</td>\n",
              "      <td>99</td>\n",
              "      <td>104</td>\n",
              "      <td>79</td>\n",
              "      <td>84</td>\n",
              "      <td>103</td>\n",
              "      <td>104</td>\n",
              "      <td>79</td>\n",
              "      <td>79</td>\n",
              "      <td>107</td>\n",
              "      <td>109</td>\n",
              "      <td>87</td>\n",
              "      <td>3</td>\n",
              "    </tr>\n",
              "  </tbody>\n",
              "</table>\n",
              "</div>"
            ],
            "text/plain": [
              "    0    1    2   3   4    5    6   7  ...   29   30   31  32   33   34  35  Class\n",
              "0  92  115  120  94  84  102  106  79  ...  121  128  100  84  107  113  87      3\n",
              "1  84  102  106  79  84  102  102  83  ...  107  113   87  84   99  104  79      3\n",
              "2  84  102  102  83  80  102  102  79  ...   99  104   79  84   99  104  79      3\n",
              "3  80  102  102  79  84   94  102  79  ...   99  104   79  84  103  104  79      3\n",
              "4  84   94  102  79  80   94   98  76  ...  103  104   79  79  107  109  87      3\n",
              "\n",
              "[5 rows x 37 columns]"
            ]
          },
          "metadata": {
            "tags": []
          },
          "execution_count": 535
        }
      ]
    },
    {
      "cell_type": "code",
      "metadata": {
        "colab": {
          "base_uri": "https://localhost:8080/"
        },
        "id": "pLcsVWRuCBQg",
        "outputId": "d3e9b5c8-4d52-4718-de5c-398f7e754267"
      },
      "source": [
        "sat['Class'].value_counts()"
      ],
      "execution_count": 536,
      "outputs": [
        {
          "output_type": "execute_result",
          "data": {
            "text/plain": [
              "1    1072\n",
              "7    1038\n",
              "3     961\n",
              "2     479\n",
              "5     470\n",
              "4     415\n",
              "Name: Class, dtype: int64"
            ]
          },
          "metadata": {
            "tags": []
          },
          "execution_count": 536
        }
      ]
    },
    {
      "cell_type": "markdown",
      "metadata": {
        "id": "miaVk1OnE7WR"
      },
      "source": [
        "## Binary Classification\r\n",
        "\r\n",
        "One frame of Landsat MSS imagery consists of four digital images of the same scene in different spectral bands. Two of these are in the visible region (corresponding approximately to green and red regions of the visible spectrum) and two are in the (near) infra-red. Each pixel is a 8-bit binary word, with 0 corresponding to black and 255 to white. The spatial resolution of a pixel is about 80m x 80m. Each image contains 2340 x 3380 such pixels.\r\n",
        "\r\n",
        "The database is a (tiny) sub-area of a scene, consisting of 82 x 100 pixels. Each line of data corresponds to a 3x3 square neighbourhood of pixels completely contained within the 82x100 sub-area. Each line contains the pixel values in the four spectral bands (converted to ASCII) of each of the 9 pixels in the 3x3 neighbourhood and a number indicating the classification label of the central pixel. The number is a code for the following classes:\r\n",
        "\r\n",
        "\r\n",
        "Remember that Number Class:\r\n",
        "\r\n",
        "1 red soil\r\n",
        "\r\n",
        "2 cotton crop\r\n",
        "\r\n",
        "3 grey soil\r\n",
        "\r\n",
        "4 damp grey soil\r\n",
        "\r\n",
        "5 soil with vegetation stubble\r\n",
        "\r\n",
        "6 mixture class (all types present)\r\n",
        "\r\n",
        "7 very damp grey soil"
      ]
    },
    {
      "cell_type": "code",
      "metadata": {
        "colab": {
          "base_uri": "https://localhost:8080/",
          "height": 439
        },
        "id": "NYj6foskm-ls",
        "outputId": "d3b9d7f0-ed9a-4ff5-ec1a-bd9071b4f5df"
      },
      "source": [
        "txt = ['top_left1', 'top_left2', 'top_left3', 'top_left4', \r\n",
        "       'top_center1', 'top_center2', 'top_center3', 'top_center4',\r\n",
        "       'top_right1', 'top_right2', 'top_right3', 'top_right4',\r\n",
        "       'middle_left1', 'middle_left2', 'middle_left3', 'middle_left4', \r\n",
        "       'middle_center1', 'middle_center2', 'middle_center3', 'middle_center4',\r\n",
        "       'middle_right1', 'middle_right2', 'middle_right3', 'middle_right4',\r\n",
        "       'bottom_left1', 'bottom_left2', 'bottom_left3', 'bottom_left4', \r\n",
        "       'bottom_center1', 'bottom_center2', 'bottom_center3', 'bottom_center4',\r\n",
        "       'bottom_right1', 'bottom_right2', 'bottom_right3', 'bottom_right4', 'Class']\r\n",
        "sat = pd.read_csv(\"/content/drive/MyDrive/Colab Notebooks/landsat/sat.trn\", sep=' ', dtype=str, names=txt)\r\n",
        "sat"
      ],
      "execution_count": 537,
      "outputs": [
        {
          "output_type": "execute_result",
          "data": {
            "text/html": [
              "<div>\n",
              "<style scoped>\n",
              "    .dataframe tbody tr th:only-of-type {\n",
              "        vertical-align: middle;\n",
              "    }\n",
              "\n",
              "    .dataframe tbody tr th {\n",
              "        vertical-align: top;\n",
              "    }\n",
              "\n",
              "    .dataframe thead th {\n",
              "        text-align: right;\n",
              "    }\n",
              "</style>\n",
              "<table border=\"1\" class=\"dataframe\">\n",
              "  <thead>\n",
              "    <tr style=\"text-align: right;\">\n",
              "      <th></th>\n",
              "      <th>top_left1</th>\n",
              "      <th>top_left2</th>\n",
              "      <th>top_left3</th>\n",
              "      <th>top_left4</th>\n",
              "      <th>top_center1</th>\n",
              "      <th>top_center2</th>\n",
              "      <th>top_center3</th>\n",
              "      <th>top_center4</th>\n",
              "      <th>top_right1</th>\n",
              "      <th>top_right2</th>\n",
              "      <th>top_right3</th>\n",
              "      <th>top_right4</th>\n",
              "      <th>middle_left1</th>\n",
              "      <th>middle_left2</th>\n",
              "      <th>middle_left3</th>\n",
              "      <th>middle_left4</th>\n",
              "      <th>middle_center1</th>\n",
              "      <th>middle_center2</th>\n",
              "      <th>middle_center3</th>\n",
              "      <th>middle_center4</th>\n",
              "      <th>middle_right1</th>\n",
              "      <th>middle_right2</th>\n",
              "      <th>middle_right3</th>\n",
              "      <th>middle_right4</th>\n",
              "      <th>bottom_left1</th>\n",
              "      <th>bottom_left2</th>\n",
              "      <th>bottom_left3</th>\n",
              "      <th>bottom_left4</th>\n",
              "      <th>bottom_center1</th>\n",
              "      <th>bottom_center2</th>\n",
              "      <th>bottom_center3</th>\n",
              "      <th>bottom_center4</th>\n",
              "      <th>bottom_right1</th>\n",
              "      <th>bottom_right2</th>\n",
              "      <th>bottom_right3</th>\n",
              "      <th>bottom_right4</th>\n",
              "      <th>Class</th>\n",
              "    </tr>\n",
              "  </thead>\n",
              "  <tbody>\n",
              "    <tr>\n",
              "      <th>0</th>\n",
              "      <td>92</td>\n",
              "      <td>115</td>\n",
              "      <td>120</td>\n",
              "      <td>94</td>\n",
              "      <td>84</td>\n",
              "      <td>102</td>\n",
              "      <td>106</td>\n",
              "      <td>79</td>\n",
              "      <td>84</td>\n",
              "      <td>102</td>\n",
              "      <td>102</td>\n",
              "      <td>83</td>\n",
              "      <td>101</td>\n",
              "      <td>126</td>\n",
              "      <td>133</td>\n",
              "      <td>103</td>\n",
              "      <td>92</td>\n",
              "      <td>112</td>\n",
              "      <td>118</td>\n",
              "      <td>85</td>\n",
              "      <td>84</td>\n",
              "      <td>103</td>\n",
              "      <td>104</td>\n",
              "      <td>81</td>\n",
              "      <td>102</td>\n",
              "      <td>126</td>\n",
              "      <td>134</td>\n",
              "      <td>104</td>\n",
              "      <td>88</td>\n",
              "      <td>121</td>\n",
              "      <td>128</td>\n",
              "      <td>100</td>\n",
              "      <td>84</td>\n",
              "      <td>107</td>\n",
              "      <td>113</td>\n",
              "      <td>87</td>\n",
              "      <td>3</td>\n",
              "    </tr>\n",
              "    <tr>\n",
              "      <th>1</th>\n",
              "      <td>84</td>\n",
              "      <td>102</td>\n",
              "      <td>106</td>\n",
              "      <td>79</td>\n",
              "      <td>84</td>\n",
              "      <td>102</td>\n",
              "      <td>102</td>\n",
              "      <td>83</td>\n",
              "      <td>80</td>\n",
              "      <td>102</td>\n",
              "      <td>102</td>\n",
              "      <td>79</td>\n",
              "      <td>92</td>\n",
              "      <td>112</td>\n",
              "      <td>118</td>\n",
              "      <td>85</td>\n",
              "      <td>84</td>\n",
              "      <td>103</td>\n",
              "      <td>104</td>\n",
              "      <td>81</td>\n",
              "      <td>84</td>\n",
              "      <td>99</td>\n",
              "      <td>104</td>\n",
              "      <td>78</td>\n",
              "      <td>88</td>\n",
              "      <td>121</td>\n",
              "      <td>128</td>\n",
              "      <td>100</td>\n",
              "      <td>84</td>\n",
              "      <td>107</td>\n",
              "      <td>113</td>\n",
              "      <td>87</td>\n",
              "      <td>84</td>\n",
              "      <td>99</td>\n",
              "      <td>104</td>\n",
              "      <td>79</td>\n",
              "      <td>3</td>\n",
              "    </tr>\n",
              "    <tr>\n",
              "      <th>2</th>\n",
              "      <td>84</td>\n",
              "      <td>102</td>\n",
              "      <td>102</td>\n",
              "      <td>83</td>\n",
              "      <td>80</td>\n",
              "      <td>102</td>\n",
              "      <td>102</td>\n",
              "      <td>79</td>\n",
              "      <td>84</td>\n",
              "      <td>94</td>\n",
              "      <td>102</td>\n",
              "      <td>79</td>\n",
              "      <td>84</td>\n",
              "      <td>103</td>\n",
              "      <td>104</td>\n",
              "      <td>81</td>\n",
              "      <td>84</td>\n",
              "      <td>99</td>\n",
              "      <td>104</td>\n",
              "      <td>78</td>\n",
              "      <td>84</td>\n",
              "      <td>99</td>\n",
              "      <td>104</td>\n",
              "      <td>81</td>\n",
              "      <td>84</td>\n",
              "      <td>107</td>\n",
              "      <td>113</td>\n",
              "      <td>87</td>\n",
              "      <td>84</td>\n",
              "      <td>99</td>\n",
              "      <td>104</td>\n",
              "      <td>79</td>\n",
              "      <td>84</td>\n",
              "      <td>99</td>\n",
              "      <td>104</td>\n",
              "      <td>79</td>\n",
              "      <td>3</td>\n",
              "    </tr>\n",
              "    <tr>\n",
              "      <th>3</th>\n",
              "      <td>80</td>\n",
              "      <td>102</td>\n",
              "      <td>102</td>\n",
              "      <td>79</td>\n",
              "      <td>84</td>\n",
              "      <td>94</td>\n",
              "      <td>102</td>\n",
              "      <td>79</td>\n",
              "      <td>80</td>\n",
              "      <td>94</td>\n",
              "      <td>98</td>\n",
              "      <td>76</td>\n",
              "      <td>84</td>\n",
              "      <td>99</td>\n",
              "      <td>104</td>\n",
              "      <td>78</td>\n",
              "      <td>84</td>\n",
              "      <td>99</td>\n",
              "      <td>104</td>\n",
              "      <td>81</td>\n",
              "      <td>76</td>\n",
              "      <td>99</td>\n",
              "      <td>104</td>\n",
              "      <td>81</td>\n",
              "      <td>84</td>\n",
              "      <td>99</td>\n",
              "      <td>104</td>\n",
              "      <td>79</td>\n",
              "      <td>84</td>\n",
              "      <td>99</td>\n",
              "      <td>104</td>\n",
              "      <td>79</td>\n",
              "      <td>84</td>\n",
              "      <td>103</td>\n",
              "      <td>104</td>\n",
              "      <td>79</td>\n",
              "      <td>3</td>\n",
              "    </tr>\n",
              "    <tr>\n",
              "      <th>4</th>\n",
              "      <td>84</td>\n",
              "      <td>94</td>\n",
              "      <td>102</td>\n",
              "      <td>79</td>\n",
              "      <td>80</td>\n",
              "      <td>94</td>\n",
              "      <td>98</td>\n",
              "      <td>76</td>\n",
              "      <td>80</td>\n",
              "      <td>102</td>\n",
              "      <td>102</td>\n",
              "      <td>79</td>\n",
              "      <td>84</td>\n",
              "      <td>99</td>\n",
              "      <td>104</td>\n",
              "      <td>81</td>\n",
              "      <td>76</td>\n",
              "      <td>99</td>\n",
              "      <td>104</td>\n",
              "      <td>81</td>\n",
              "      <td>76</td>\n",
              "      <td>99</td>\n",
              "      <td>108</td>\n",
              "      <td>85</td>\n",
              "      <td>84</td>\n",
              "      <td>99</td>\n",
              "      <td>104</td>\n",
              "      <td>79</td>\n",
              "      <td>84</td>\n",
              "      <td>103</td>\n",
              "      <td>104</td>\n",
              "      <td>79</td>\n",
              "      <td>79</td>\n",
              "      <td>107</td>\n",
              "      <td>109</td>\n",
              "      <td>87</td>\n",
              "      <td>3</td>\n",
              "    </tr>\n",
              "    <tr>\n",
              "      <th>...</th>\n",
              "      <td>...</td>\n",
              "      <td>...</td>\n",
              "      <td>...</td>\n",
              "      <td>...</td>\n",
              "      <td>...</td>\n",
              "      <td>...</td>\n",
              "      <td>...</td>\n",
              "      <td>...</td>\n",
              "      <td>...</td>\n",
              "      <td>...</td>\n",
              "      <td>...</td>\n",
              "      <td>...</td>\n",
              "      <td>...</td>\n",
              "      <td>...</td>\n",
              "      <td>...</td>\n",
              "      <td>...</td>\n",
              "      <td>...</td>\n",
              "      <td>...</td>\n",
              "      <td>...</td>\n",
              "      <td>...</td>\n",
              "      <td>...</td>\n",
              "      <td>...</td>\n",
              "      <td>...</td>\n",
              "      <td>...</td>\n",
              "      <td>...</td>\n",
              "      <td>...</td>\n",
              "      <td>...</td>\n",
              "      <td>...</td>\n",
              "      <td>...</td>\n",
              "      <td>...</td>\n",
              "      <td>...</td>\n",
              "      <td>...</td>\n",
              "      <td>...</td>\n",
              "      <td>...</td>\n",
              "      <td>...</td>\n",
              "      <td>...</td>\n",
              "      <td>...</td>\n",
              "    </tr>\n",
              "    <tr>\n",
              "      <th>4430</th>\n",
              "      <td>56</td>\n",
              "      <td>64</td>\n",
              "      <td>108</td>\n",
              "      <td>96</td>\n",
              "      <td>64</td>\n",
              "      <td>71</td>\n",
              "      <td>108</td>\n",
              "      <td>96</td>\n",
              "      <td>68</td>\n",
              "      <td>75</td>\n",
              "      <td>108</td>\n",
              "      <td>96</td>\n",
              "      <td>59</td>\n",
              "      <td>75</td>\n",
              "      <td>109</td>\n",
              "      <td>96</td>\n",
              "      <td>67</td>\n",
              "      <td>87</td>\n",
              "      <td>113</td>\n",
              "      <td>96</td>\n",
              "      <td>67</td>\n",
              "      <td>95</td>\n",
              "      <td>109</td>\n",
              "      <td>92</td>\n",
              "      <td>63</td>\n",
              "      <td>79</td>\n",
              "      <td>108</td>\n",
              "      <td>92</td>\n",
              "      <td>66</td>\n",
              "      <td>83</td>\n",
              "      <td>108</td>\n",
              "      <td>96</td>\n",
              "      <td>66</td>\n",
              "      <td>87</td>\n",
              "      <td>104</td>\n",
              "      <td>89</td>\n",
              "      <td>5</td>\n",
              "    </tr>\n",
              "    <tr>\n",
              "      <th>4431</th>\n",
              "      <td>64</td>\n",
              "      <td>71</td>\n",
              "      <td>108</td>\n",
              "      <td>96</td>\n",
              "      <td>68</td>\n",
              "      <td>75</td>\n",
              "      <td>108</td>\n",
              "      <td>96</td>\n",
              "      <td>71</td>\n",
              "      <td>87</td>\n",
              "      <td>108</td>\n",
              "      <td>88</td>\n",
              "      <td>67</td>\n",
              "      <td>87</td>\n",
              "      <td>113</td>\n",
              "      <td>96</td>\n",
              "      <td>67</td>\n",
              "      <td>95</td>\n",
              "      <td>109</td>\n",
              "      <td>92</td>\n",
              "      <td>75</td>\n",
              "      <td>99</td>\n",
              "      <td>104</td>\n",
              "      <td>83</td>\n",
              "      <td>66</td>\n",
              "      <td>83</td>\n",
              "      <td>108</td>\n",
              "      <td>96</td>\n",
              "      <td>66</td>\n",
              "      <td>87</td>\n",
              "      <td>104</td>\n",
              "      <td>89</td>\n",
              "      <td>63</td>\n",
              "      <td>87</td>\n",
              "      <td>104</td>\n",
              "      <td>89</td>\n",
              "      <td>5</td>\n",
              "    </tr>\n",
              "    <tr>\n",
              "      <th>4432</th>\n",
              "      <td>68</td>\n",
              "      <td>75</td>\n",
              "      <td>108</td>\n",
              "      <td>96</td>\n",
              "      <td>71</td>\n",
              "      <td>87</td>\n",
              "      <td>108</td>\n",
              "      <td>88</td>\n",
              "      <td>71</td>\n",
              "      <td>91</td>\n",
              "      <td>100</td>\n",
              "      <td>81</td>\n",
              "      <td>67</td>\n",
              "      <td>95</td>\n",
              "      <td>109</td>\n",
              "      <td>92</td>\n",
              "      <td>75</td>\n",
              "      <td>99</td>\n",
              "      <td>104</td>\n",
              "      <td>83</td>\n",
              "      <td>75</td>\n",
              "      <td>95</td>\n",
              "      <td>100</td>\n",
              "      <td>79</td>\n",
              "      <td>66</td>\n",
              "      <td>87</td>\n",
              "      <td>104</td>\n",
              "      <td>89</td>\n",
              "      <td>63</td>\n",
              "      <td>87</td>\n",
              "      <td>104</td>\n",
              "      <td>89</td>\n",
              "      <td>70</td>\n",
              "      <td>100</td>\n",
              "      <td>104</td>\n",
              "      <td>85</td>\n",
              "      <td>4</td>\n",
              "    </tr>\n",
              "    <tr>\n",
              "      <th>4433</th>\n",
              "      <td>71</td>\n",
              "      <td>87</td>\n",
              "      <td>108</td>\n",
              "      <td>88</td>\n",
              "      <td>71</td>\n",
              "      <td>91</td>\n",
              "      <td>100</td>\n",
              "      <td>81</td>\n",
              "      <td>76</td>\n",
              "      <td>95</td>\n",
              "      <td>108</td>\n",
              "      <td>88</td>\n",
              "      <td>75</td>\n",
              "      <td>99</td>\n",
              "      <td>104</td>\n",
              "      <td>83</td>\n",
              "      <td>75</td>\n",
              "      <td>95</td>\n",
              "      <td>100</td>\n",
              "      <td>79</td>\n",
              "      <td>71</td>\n",
              "      <td>91</td>\n",
              "      <td>100</td>\n",
              "      <td>83</td>\n",
              "      <td>63</td>\n",
              "      <td>87</td>\n",
              "      <td>104</td>\n",
              "      <td>89</td>\n",
              "      <td>70</td>\n",
              "      <td>100</td>\n",
              "      <td>104</td>\n",
              "      <td>85</td>\n",
              "      <td>70</td>\n",
              "      <td>91</td>\n",
              "      <td>104</td>\n",
              "      <td>85</td>\n",
              "      <td>4</td>\n",
              "    </tr>\n",
              "    <tr>\n",
              "      <th>4434</th>\n",
              "      <td>71</td>\n",
              "      <td>91</td>\n",
              "      <td>100</td>\n",
              "      <td>81</td>\n",
              "      <td>76</td>\n",
              "      <td>95</td>\n",
              "      <td>108</td>\n",
              "      <td>88</td>\n",
              "      <td>80</td>\n",
              "      <td>95</td>\n",
              "      <td>104</td>\n",
              "      <td>85</td>\n",
              "      <td>75</td>\n",
              "      <td>95</td>\n",
              "      <td>100</td>\n",
              "      <td>79</td>\n",
              "      <td>71</td>\n",
              "      <td>91</td>\n",
              "      <td>100</td>\n",
              "      <td>83</td>\n",
              "      <td>71</td>\n",
              "      <td>95</td>\n",
              "      <td>104</td>\n",
              "      <td>87</td>\n",
              "      <td>70</td>\n",
              "      <td>100</td>\n",
              "      <td>104</td>\n",
              "      <td>85</td>\n",
              "      <td>70</td>\n",
              "      <td>91</td>\n",
              "      <td>104</td>\n",
              "      <td>85</td>\n",
              "      <td>63</td>\n",
              "      <td>91</td>\n",
              "      <td>100</td>\n",
              "      <td>81</td>\n",
              "      <td>4</td>\n",
              "    </tr>\n",
              "  </tbody>\n",
              "</table>\n",
              "<p>4435 rows × 37 columns</p>\n",
              "</div>"
            ],
            "text/plain": [
              "     top_left1 top_left2 top_left3  ... bottom_right3 bottom_right4 Class\n",
              "0           92       115       120  ...           113            87     3\n",
              "1           84       102       106  ...           104            79     3\n",
              "2           84       102       102  ...           104            79     3\n",
              "3           80       102       102  ...           104            79     3\n",
              "4           84        94       102  ...           109            87     3\n",
              "...        ...       ...       ...  ...           ...           ...   ...\n",
              "4430        56        64       108  ...           104            89     5\n",
              "4431        64        71       108  ...           104            89     5\n",
              "4432        68        75       108  ...           104            85     4\n",
              "4433        71        87       108  ...           104            85     4\n",
              "4434        71        91       100  ...           100            81     4\n",
              "\n",
              "[4435 rows x 37 columns]"
            ]
          },
          "metadata": {
            "tags": []
          },
          "execution_count": 537
        }
      ]
    },
    {
      "cell_type": "markdown",
      "metadata": {
        "id": "NB543PAUm_Yc"
      },
      "source": [
        "In each line of data the four spectral values for the top-left pixel are given first followed by the four spectral values for the top-middle pixel and then those for the top-right pixel, and so on with the pixels read out in sequence left-to-right and top-to-bottom. \r\n",
        "\r\n",
        " Thus, the four spectral values for the central pixel are given by attributes 17,18,19 and 20 (which would be 'middle_center1', 'middle_center2', 'middle_center3', 'middle_center4'). If you like you can use only these four attributes, while ignoring the others. This avoids the problem which arises when a 3x3 neighbourhood straddles a boundary."
      ]
    },
    {
      "cell_type": "code",
      "metadata": {
        "id": "MQwGgBX65akV"
      },
      "source": [
        "sat_band1 = sat[['top_left1', 'top_center1', 'top_right1', \r\n",
        "                 'middle_left1', 'middle_center1', 'middle_right1',\r\n",
        "                 'bottom_left1', 'bottom_center1', 'bottom_right1']].astype('int')\r\n",
        "sat_band2 = sat[['top_left2', 'top_center2', 'top_right2', \r\n",
        "                 'middle_left2', 'middle_center2', 'middle_right2', \r\n",
        "                 'bottom_left2', 'bottom_center2', 'bottom_right2']].astype('int')\r\n",
        "sat_band3 = sat[['top_left3', 'top_center3', 'top_right3', \r\n",
        "                 'middle_left3', 'middle_center3', 'middle_right3', \r\n",
        "                 'bottom_left3', 'bottom_center3', 'bottom_right3']].astype('int')\r\n",
        "sat_band4 = sat[['top_left4', 'top_center4', 'top_right4', \r\n",
        "                 'middle_left4', 'middle_center4', 'middle_right4', \r\n",
        "                 'bottom_left4', 'bottom_center4', 'bottom_right4']].astype('int')"
      ],
      "execution_count": 538,
      "outputs": []
    },
    {
      "cell_type": "code",
      "metadata": {
        "colab": {
          "base_uri": "https://localhost:8080/"
        },
        "id": "_b3NX6YaAocy",
        "outputId": "3f57807e-caa5-4546-fa04-1ea2ad3a4a20"
      },
      "source": [
        "sat_band1.values"
      ],
      "execution_count": 539,
      "outputs": [
        {
          "output_type": "execute_result",
          "data": {
            "text/plain": [
              "array([[ 92,  84,  84, ..., 102,  88,  84],\n",
              "       [ 84,  84,  80, ...,  88,  84,  84],\n",
              "       [ 84,  80,  84, ...,  84,  84,  84],\n",
              "       ...,\n",
              "       [ 68,  71,  71, ...,  66,  63,  70],\n",
              "       [ 71,  71,  76, ...,  63,  70,  70],\n",
              "       [ 71,  76,  80, ...,  70,  70,  63]])"
            ]
          },
          "metadata": {
            "tags": []
          },
          "execution_count": 539
        }
      ]
    },
    {
      "cell_type": "code",
      "metadata": {
        "colab": {
          "base_uri": "https://localhost:8080/",
          "height": 80
        },
        "id": "mJOwvbCLTa2u",
        "outputId": "f16b3e8f-e8f5-4768-beaa-c9003510d69b"
      },
      "source": [
        "sat_band1.iloc[3000:3001]"
      ],
      "execution_count": 540,
      "outputs": [
        {
          "output_type": "execute_result",
          "data": {
            "text/html": [
              "<div>\n",
              "<style scoped>\n",
              "    .dataframe tbody tr th:only-of-type {\n",
              "        vertical-align: middle;\n",
              "    }\n",
              "\n",
              "    .dataframe tbody tr th {\n",
              "        vertical-align: top;\n",
              "    }\n",
              "\n",
              "    .dataframe thead th {\n",
              "        text-align: right;\n",
              "    }\n",
              "</style>\n",
              "<table border=\"1\" class=\"dataframe\">\n",
              "  <thead>\n",
              "    <tr style=\"text-align: right;\">\n",
              "      <th></th>\n",
              "      <th>top_left1</th>\n",
              "      <th>top_center1</th>\n",
              "      <th>top_right1</th>\n",
              "      <th>middle_left1</th>\n",
              "      <th>middle_center1</th>\n",
              "      <th>middle_right1</th>\n",
              "      <th>bottom_left1</th>\n",
              "      <th>bottom_center1</th>\n",
              "      <th>bottom_right1</th>\n",
              "    </tr>\n",
              "  </thead>\n",
              "  <tbody>\n",
              "    <tr>\n",
              "      <th>3000</th>\n",
              "      <td>60</td>\n",
              "      <td>53</td>\n",
              "      <td>64</td>\n",
              "      <td>64</td>\n",
              "      <td>60</td>\n",
              "      <td>71</td>\n",
              "      <td>63</td>\n",
              "      <td>59</td>\n",
              "      <td>71</td>\n",
              "    </tr>\n",
              "  </tbody>\n",
              "</table>\n",
              "</div>"
            ],
            "text/plain": [
              "      top_left1  top_center1  ...  bottom_center1  bottom_right1\n",
              "3000         60           53  ...              59             71\n",
              "\n",
              "[1 rows x 9 columns]"
            ]
          },
          "metadata": {
            "tags": []
          },
          "execution_count": 540
        }
      ]
    },
    {
      "cell_type": "code",
      "metadata": {
        "colab": {
          "base_uri": "https://localhost:8080/"
        },
        "id": "61UBoROqE3l3",
        "outputId": "c61bb278-047d-4b2a-d107-01b1f86f78e0"
      },
      "source": [
        "# soil with vegetation stubble\r\n",
        "dfs = sat_band1.iloc[3000:3001].to_numpy()\r\n",
        "dfs"
      ],
      "execution_count": 541,
      "outputs": [
        {
          "output_type": "execute_result",
          "data": {
            "text/plain": [
              "array([[60, 53, 64, 64, 60, 71, 63, 59, 71]])"
            ]
          },
          "metadata": {
            "tags": []
          },
          "execution_count": 541
        }
      ]
    },
    {
      "cell_type": "code",
      "metadata": {
        "colab": {
          "base_uri": "https://localhost:8080/"
        },
        "id": "j4aFMjoyRbOK",
        "outputId": "bf2d2739-bae7-43ea-c5b2-648eb31df4e6"
      },
      "source": [
        "dfs = np.reshape(dfs, (3,3))\r\n",
        "dfs"
      ],
      "execution_count": 542,
      "outputs": [
        {
          "output_type": "execute_result",
          "data": {
            "text/plain": [
              "array([[60, 53, 64],\n",
              "       [64, 60, 71],\n",
              "       [63, 59, 71]])"
            ]
          },
          "metadata": {
            "tags": []
          },
          "execution_count": 542
        }
      ]
    },
    {
      "cell_type": "code",
      "metadata": {
        "colab": {
          "base_uri": "https://localhost:8080/",
          "height": 286
        },
        "id": "HXetevJ5I6-v",
        "outputId": "ed216210-c35a-4be2-94ca-089108038740"
      },
      "source": [
        "import matplotlib\r\n",
        "\r\n",
        "plt.imshow(dfs, cmap = matplotlib.cm.binary, interpolation='nearest')"
      ],
      "execution_count": 543,
      "outputs": [
        {
          "output_type": "execute_result",
          "data": {
            "text/plain": [
              "<matplotlib.image.AxesImage at 0x7f54eed97b38>"
            ]
          },
          "metadata": {
            "tags": []
          },
          "execution_count": 543
        },
        {
          "output_type": "display_data",
          "data": {
            "image/png": "[encoded data removed]",
            "text/plain": [
              "<Figure size 432x288 with 1 Axes>"
            ]
          },
          "metadata": {
            "tags": [],
            "needs_background": "light"
          }
        }
      ]
    },
    {
      "cell_type": "markdown",
      "metadata": {
        "id": "v2xIAvsfTilO"
      },
      "source": [
        "However, that is somewhat fruitless, since as said in the documentation: \"the data is given in random order and certain lines of data have been removed so you cannot reconstruct the original image from this dataset.\" Therefore, the machine learning algorithm would have to work without the image, since we cannot arrange the whole image in any consistant way.\r\n",
        "\r\n",
        "# Binary Classification\r\n",
        "\r\n",
        "Let's make a Binary Classification in which we find class of 5 (soil with vegetation stubble) among classes of non-5 (non-soil with vegetation stubble).\r\n",
        "\r\n",
        "First thing, it might be interesting to divide the 4 Bands all through, instead of line by line."
      ]
    },
    {
      "cell_type": "code",
      "metadata": {
        "colab": {
          "base_uri": "https://localhost:8080/",
          "height": 204
        },
        "id": "1hnd91BeU38W",
        "outputId": "32f6a99e-0242-42a2-87e1-d0e514786316"
      },
      "source": [
        "sat_band1.head()"
      ],
      "execution_count": 544,
      "outputs": [
        {
          "output_type": "execute_result",
          "data": {
            "text/html": [
              "<div>\n",
              "<style scoped>\n",
              "    .dataframe tbody tr th:only-of-type {\n",
              "        vertical-align: middle;\n",
              "    }\n",
              "\n",
              "    .dataframe tbody tr th {\n",
              "        vertical-align: top;\n",
              "    }\n",
              "\n",
              "    .dataframe thead th {\n",
              "        text-align: right;\n",
              "    }\n",
              "</style>\n",
              "<table border=\"1\" class=\"dataframe\">\n",
              "  <thead>\n",
              "    <tr style=\"text-align: right;\">\n",
              "      <th></th>\n",
              "      <th>top_left1</th>\n",
              "      <th>top_center1</th>\n",
              "      <th>top_right1</th>\n",
              "      <th>middle_left1</th>\n",
              "      <th>middle_center1</th>\n",
              "      <th>middle_right1</th>\n",
              "      <th>bottom_left1</th>\n",
              "      <th>bottom_center1</th>\n",
              "      <th>bottom_right1</th>\n",
              "    </tr>\n",
              "  </thead>\n",
              "  <tbody>\n",
              "    <tr>\n",
              "      <th>0</th>\n",
              "      <td>92</td>\n",
              "      <td>84</td>\n",
              "      <td>84</td>\n",
              "      <td>101</td>\n",
              "      <td>92</td>\n",
              "      <td>84</td>\n",
              "      <td>102</td>\n",
              "      <td>88</td>\n",
              "      <td>84</td>\n",
              "    </tr>\n",
              "    <tr>\n",
              "      <th>1</th>\n",
              "      <td>84</td>\n",
              "      <td>84</td>\n",
              "      <td>80</td>\n",
              "      <td>92</td>\n",
              "      <td>84</td>\n",
              "      <td>84</td>\n",
              "      <td>88</td>\n",
              "      <td>84</td>\n",
              "      <td>84</td>\n",
              "    </tr>\n",
              "    <tr>\n",
              "      <th>2</th>\n",
              "      <td>84</td>\n",
              "      <td>80</td>\n",
              "      <td>84</td>\n",
              "      <td>84</td>\n",
              "      <td>84</td>\n",
              "      <td>84</td>\n",
              "      <td>84</td>\n",
              "      <td>84</td>\n",
              "      <td>84</td>\n",
              "    </tr>\n",
              "    <tr>\n",
              "      <th>3</th>\n",
              "      <td>80</td>\n",
              "      <td>84</td>\n",
              "      <td>80</td>\n",
              "      <td>84</td>\n",
              "      <td>84</td>\n",
              "      <td>76</td>\n",
              "      <td>84</td>\n",
              "      <td>84</td>\n",
              "      <td>84</td>\n",
              "    </tr>\n",
              "    <tr>\n",
              "      <th>4</th>\n",
              "      <td>84</td>\n",
              "      <td>80</td>\n",
              "      <td>80</td>\n",
              "      <td>84</td>\n",
              "      <td>76</td>\n",
              "      <td>76</td>\n",
              "      <td>84</td>\n",
              "      <td>84</td>\n",
              "      <td>79</td>\n",
              "    </tr>\n",
              "  </tbody>\n",
              "</table>\n",
              "</div>"
            ],
            "text/plain": [
              "   top_left1  top_center1  ...  bottom_center1  bottom_right1\n",
              "0         92           84  ...              88             84\n",
              "1         84           84  ...              84             84\n",
              "2         84           80  ...              84             84\n",
              "3         80           84  ...              84             84\n",
              "4         84           80  ...              84             79\n",
              "\n",
              "[5 rows x 9 columns]"
            ]
          },
          "metadata": {
            "tags": []
          },
          "execution_count": 544
        }
      ]
    },
    {
      "cell_type": "code",
      "metadata": {
        "id": "8NLr1f01VgSa"
      },
      "source": [
        "sat_band1 = sat_band1.to_numpy()\r\n",
        "sat_band2 = sat_band2.to_numpy()\r\n",
        "sat_band3 = sat_band3.to_numpy()\r\n",
        "sat_band4 = sat_band4.to_numpy()"
      ],
      "execution_count": 545,
      "outputs": []
    },
    {
      "cell_type": "code",
      "metadata": {
        "colab": {
          "base_uri": "https://localhost:8080/"
        },
        "id": "ovx1X3WeZhfH",
        "outputId": "5b4a89cb-8f66-4c4e-e2d8-823d021e66d1"
      },
      "source": [
        "sat_band1[0]"
      ],
      "execution_count": 546,
      "outputs": [
        {
          "output_type": "execute_result",
          "data": {
            "text/plain": [
              "array([ 92,  84,  84, 101,  92,  84, 102,  88,  84])"
            ]
          },
          "metadata": {
            "tags": []
          },
          "execution_count": 546
        }
      ]
    },
    {
      "cell_type": "code",
      "metadata": {
        "id": "lHFG55tgWF2g"
      },
      "source": [
        "band1, band2, band3, band4 = [], [], [], []\r\n",
        "\r\n",
        "for i in range(0,len(sat_band1)):\r\n",
        "  array = sat_band1[i]\r\n",
        "  array = np.reshape(array, (3,3))\r\n",
        "  band1.append(array)\r\n",
        "\r\n",
        "for i in range(0,len(sat_band2)):\r\n",
        "  array = sat_band2[i]\r\n",
        "  array = np.reshape(array, (3,3))\r\n",
        "  band2.append(array)\r\n",
        "\r\n",
        "for i in range(0,len(sat_band3)):\r\n",
        "  array = sat_band3[i]\r\n",
        "  array = np.reshape(array, (3,3))\r\n",
        "  band3.append(array)\r\n",
        "\r\n",
        "for i in range(0,len(sat_band4)):\r\n",
        "  array = sat_band4[i]\r\n",
        "  array = np.reshape(array, (3,3))\r\n",
        "  band4.append(array)"
      ],
      "execution_count": 547,
      "outputs": []
    },
    {
      "cell_type": "code",
      "metadata": {
        "colab": {
          "base_uri": "https://localhost:8080/"
        },
        "id": "8uefghxZWtsk",
        "outputId": "0ca754be-dea0-483c-88c1-4043520a89c9"
      },
      "source": [
        "band1[0]"
      ],
      "execution_count": 548,
      "outputs": [
        {
          "output_type": "execute_result",
          "data": {
            "text/plain": [
              "array([[ 92,  84,  84],\n",
              "       [101,  92,  84],\n",
              "       [102,  88,  84]])"
            ]
          },
          "metadata": {
            "tags": []
          },
          "execution_count": 548
        }
      ]
    },
    {
      "cell_type": "code",
      "metadata": {
        "colab": {
          "base_uri": "https://localhost:8080/"
        },
        "id": "6-j_Z49Chs_t",
        "outputId": "ff1feb18-5ecf-431a-f1ac-598fd4d7558c"
      },
      "source": [
        "len(band1)"
      ],
      "execution_count": 549,
      "outputs": [
        {
          "output_type": "execute_result",
          "data": {
            "text/plain": [
              "4435"
            ]
          },
          "metadata": {
            "tags": []
          },
          "execution_count": 549
        }
      ]
    },
    {
      "cell_type": "code",
      "metadata": {
        "colab": {
          "base_uri": "https://localhost:8080/",
          "height": 286
        },
        "id": "L4k81S_8T1Td",
        "outputId": "c0cf7eb4-ea49-4f70-d6f9-27d80c8521f2"
      },
      "source": [
        "plt.imshow(band1[0], cmap = matplotlib.cm.binary, interpolation='nearest')"
      ],
      "execution_count": 550,
      "outputs": [
        {
          "output_type": "execute_result",
          "data": {
            "text/plain": [
              "<matplotlib.image.AxesImage at 0x7f54ee9ed978>"
            ]
          },
          "metadata": {
            "tags": []
          },
          "execution_count": 550
        },
        {
          "output_type": "display_data",
          "data": {
            "image/png": "[encoded data removed]",
            "text/plain": [
              "<Figure size 432x288 with 1 Axes>"
            ]
          },
          "metadata": {
            "tags": [],
            "needs_background": "light"
          }
        }
      ]
    },
    {
      "cell_type": "code",
      "metadata": {
        "colab": {
          "base_uri": "https://localhost:8080/"
        },
        "id": "P5D2jRzPrKra",
        "outputId": "a39b5a47-c095-438b-a11b-03d5113d3b4c"
      },
      "source": [
        "sat.columns"
      ],
      "execution_count": 551,
      "outputs": [
        {
          "output_type": "execute_result",
          "data": {
            "text/plain": [
              "Index(['top_left1', 'top_left2', 'top_left3', 'top_left4', 'top_center1',\n",
              "       'top_center2', 'top_center3', 'top_center4', 'top_right1', 'top_right2',\n",
              "       'top_right3', 'top_right4', 'middle_left1', 'middle_left2',\n",
              "       'middle_left3', 'middle_left4', 'middle_center1', 'middle_center2',\n",
              "       'middle_center3', 'middle_center4', 'middle_right1', 'middle_right2',\n",
              "       'middle_right3', 'middle_right4', 'bottom_left1', 'bottom_left2',\n",
              "       'bottom_left3', 'bottom_left4', 'bottom_center1', 'bottom_center2',\n",
              "       'bottom_center3', 'bottom_center4', 'bottom_right1', 'bottom_right2',\n",
              "       'bottom_right3', 'bottom_right4', 'Class'],\n",
              "      dtype='object')"
            ]
          },
          "metadata": {
            "tags": []
          },
          "execution_count": 551
        }
      ]
    },
    {
      "cell_type": "code",
      "metadata": {
        "id": "pt24ek5GqwvD"
      },
      "source": [
        "sat_band1 = sat[['top_left1', 'top_center1', 'top_right1', \r\n",
        "                 'middle_left1', 'middle_center1', 'middle_right1',\r\n",
        "                 'bottom_left1', 'bottom_center1', 'bottom_right1', 'Class']].astype('int')\r\n",
        "sat_band2 = sat[['top_left2', 'top_center2', 'top_right2', \r\n",
        "                 'middle_left2', 'middle_center2', 'middle_right2', \r\n",
        "                 'bottom_left2', 'bottom_center2', 'bottom_right2', 'Class']].astype('int')\r\n",
        "sat_band3 = sat[['top_left3', 'top_center3', 'top_right3', \r\n",
        "                 'middle_left3', 'middle_center3', 'middle_right3', \r\n",
        "                 'bottom_left3', 'bottom_center3', 'bottom_right3', 'Class']].astype('int')\r\n",
        "sat_band4 = sat[['top_left4', 'top_center4', 'top_right4', \r\n",
        "                 'middle_left4', 'middle_center4', 'middle_right4', \r\n",
        "                 'bottom_left4', 'bottom_center4', 'bottom_right4', 'Class']].astype('int')"
      ],
      "execution_count": 552,
      "outputs": []
    },
    {
      "cell_type": "code",
      "metadata": {
        "colab": {
          "base_uri": "https://localhost:8080/"
        },
        "id": "sxyc86fnx1Qi",
        "outputId": "03d272fb-16cf-49b7-d6c9-3ccc1640a639"
      },
      "source": [
        "# Using only middle_center1\r\n",
        "#band_1 = sat[['middle_center1', 'Class']].astype('int')\r\n",
        "band_01 = sat_band1.to_numpy() #band_1[['middle_center1']].to_numpy()\r\n",
        "\r\n",
        "# Using only middle_center2\r\n",
        "#band_2 = sat[['middle_center2', 'Class']].astype('int')\r\n",
        "band_02 = sat_band2.to_numpy() #band_2[['middle_center2']].to_numpy()\r\n",
        "\r\n",
        "# Using only middle_center3\r\n",
        "#band_3 = sat[['middle_center3', 'Class']].astype('int')\r\n",
        "band_03 = sat_band3.to_numpy() #band_3[['middle_center3']].to_numpy()\r\n",
        "\r\n",
        "# Using only middle_center2\r\n",
        "#band_4 = sat[['middle_center4', 'Class']].astype('int')\r\n",
        "band_04 = sat_band4.to_numpy() #band_4[['middle_center4']].to_numpy()\r\n",
        "band_04"
      ],
      "execution_count": 553,
      "outputs": [
        {
          "output_type": "execute_result",
          "data": {
            "text/plain": [
              "array([[ 94,  79,  83, ..., 100,  87,   3],\n",
              "       [ 79,  83,  79, ...,  87,  79,   3],\n",
              "       [ 83,  79,  79, ...,  79,  79,   3],\n",
              "       ...,\n",
              "       [ 96,  88,  81, ...,  89,  85,   4],\n",
              "       [ 88,  81,  88, ...,  85,  85,   4],\n",
              "       [ 81,  88,  85, ...,  85,  81,   4]])"
            ]
          },
          "metadata": {
            "tags": []
          },
          "execution_count": 553
        }
      ]
    },
    {
      "cell_type": "code",
      "metadata": {
        "colab": {
          "base_uri": "https://localhost:8080/"
        },
        "id": "c_LbHtQsqxrF",
        "outputId": "0d524466-9bff-4509-da10-c19cc35f231d"
      },
      "source": [
        "#Change the Class. Some classes are better seen\r\n",
        "yband1_5 = (sat_band1['Class'] == 3) # True for all 5s. False for others.\r\n",
        "yband2_5 = (sat_band2['Class'] == 3)\r\n",
        "yband3_5 = (sat_band3['Class'] == 3)\r\n",
        "yband4_5 = (sat_band4['Class'] == 3)\r\n",
        "yband4_5"
      ],
      "execution_count": 554,
      "outputs": [
        {
          "output_type": "execute_result",
          "data": {
            "text/plain": [
              "0        True\n",
              "1        True\n",
              "2        True\n",
              "3        True\n",
              "4        True\n",
              "        ...  \n",
              "4430    False\n",
              "4431    False\n",
              "4432    False\n",
              "4433    False\n",
              "4434    False\n",
              "Name: Class, Length: 4435, dtype: bool"
            ]
          },
          "metadata": {
            "tags": []
          },
          "execution_count": 554
        }
      ]
    },
    {
      "cell_type": "code",
      "metadata": {
        "colab": {
          "base_uri": "https://localhost:8080/"
        },
        "id": "I02aelCuqzVO",
        "outputId": "71cfa0f9-92a4-45ef-af72-845b9f465b84"
      },
      "source": [
        "from sklearn.linear_model import SGDClassifier # Stochastic Gradient Descent Classifier\r\n",
        "sgd_clf1 = SGDClassifier(random_state=42, eta0=1, learning_rate='adaptive')\r\n",
        "sgd_clf2 = SGDClassifier(random_state=42, eta0=1, learning_rate='adaptive')\r\n",
        "sgd_clf3 = SGDClassifier(random_state=42, eta0=1, learning_rate='adaptive')\r\n",
        "sgd_clf4 = SGDClassifier(random_state=42, eta0=1, learning_rate='adaptive')\r\n",
        "sgd_clf1.fit(band_01, yband1_5)\r\n",
        "sgd_clf2.fit(band_02, yband2_5)\r\n",
        "sgd_clf3.fit(band_03, yband3_5)\r\n",
        "sgd_clf4.fit(band_04, yband4_5)"
      ],
      "execution_count": 555,
      "outputs": [
        {
          "output_type": "execute_result",
          "data": {
            "text/plain": [
              "SGDClassifier(alpha=0.0001, average=False, class_weight=None,\n",
              "              early_stopping=False, epsilon=0.1, eta0=1, fit_intercept=True,\n",
              "              l1_ratio=0.15, learning_rate='adaptive', loss='hinge',\n",
              "              max_iter=1000, n_iter_no_change=5, n_jobs=None, penalty='l2',\n",
              "              power_t=0.5, random_state=42, shuffle=True, tol=0.001,\n",
              "              validation_fraction=0.1, verbose=0, warm_start=False)"
            ]
          },
          "metadata": {
            "tags": []
          },
          "execution_count": 555
        }
      ]
    },
    {
      "cell_type": "code",
      "metadata": {
        "colab": {
          "base_uri": "https://localhost:8080/"
        },
        "id": "Q9NtYRNKVN06",
        "outputId": "faaad380-657e-4327-d3fb-b0c17417eb1c"
      },
      "source": [
        "print(sgd_clf1.coef_)\r\n",
        "print(sgd_clf2.coef_)\r\n",
        "print(sgd_clf3.coef_)\r\n",
        "print(sgd_clf4.coef_)"
      ],
      "execution_count": 556,
      "outputs": [
        {
          "output_type": "stream",
          "text": [
            "[[   0.49124521    6.9226923    -0.58528748    5.53213937    8.83307529\n",
            "     8.8668251     2.56241046    4.0000086     5.50178378 -165.82837576]]\n",
            "[[ 2.10112851  0.75882311  1.04397052  5.62026876  8.28228251  6.45714005\n",
            "   0.99263974  5.61882357  2.0968551  73.13775571]]\n",
            "[[ 1.441788    0.27236499  2.41045144  1.2669628   1.65782111  0.74390833\n",
            "   4.67478354 -1.35349917  1.63259581 50.55778891]]\n",
            "[[ 0.72270851  0.14165144  0.45441613 -0.04484194 -0.20262059  0.24448549\n",
            "   1.27241926 -0.44459822  0.4420663  12.01271083]]\n"
          ],
          "name": "stdout"
        }
      ]
    },
    {
      "cell_type": "code",
      "metadata": {
        "colab": {
          "base_uri": "https://localhost:8080/"
        },
        "id": "BIFyMcwQ0L5f",
        "outputId": "3dc78a0b-4b68-4d2c-c20b-7ee05f2a1286"
      },
      "source": [
        "band_01[0]"
      ],
      "execution_count": 557,
      "outputs": [
        {
          "output_type": "execute_result",
          "data": {
            "text/plain": [
              "array([ 92,  84,  84, 101,  92,  84, 102,  88,  84,   3])"
            ]
          },
          "metadata": {
            "tags": []
          },
          "execution_count": 557
        }
      ]
    },
    {
      "cell_type": "code",
      "metadata": {
        "id": "1f_Gbc5txNqH"
      },
      "source": [
        "detect1, detect2, detect3, detect4 = [],[],[],[]\r\n",
        "\r\n",
        "for i in range(0,len(band_01)):\r\n",
        "  pred1 = sgd_clf1.predict([band_01[i]])\r\n",
        "  pred2 = sgd_clf2.predict([band_02[i]])\r\n",
        "  pred3 = sgd_clf3.predict([band_03[i]])\r\n",
        "  pred4 = sgd_clf4.predict([band_04[i]])\r\n",
        "  detect1.append(pred1)\r\n",
        "  detect2.append(pred2)\r\n",
        "  detect3.append(pred3)\r\n",
        "  detect4.append(pred4)"
      ],
      "execution_count": 558,
      "outputs": []
    },
    {
      "cell_type": "code",
      "metadata": {
        "colab": {
          "base_uri": "https://localhost:8080/"
        },
        "id": "K8eTq6mt7Nyy",
        "outputId": "23d37d27-e95e-4356-f854-4a5756496386"
      },
      "source": [
        "unique, counts = np.unique(detect1, return_counts=True)\r\n",
        "dict(zip(unique, counts))"
      ],
      "execution_count": 559,
      "outputs": [
        {
          "output_type": "execute_result",
          "data": {
            "text/plain": [
              "{False: 3477, True: 958}"
            ]
          },
          "metadata": {
            "tags": []
          },
          "execution_count": 559
        }
      ]
    },
    {
      "cell_type": "code",
      "metadata": {
        "colab": {
          "base_uri": "https://localhost:8080/"
        },
        "id": "pX5dHptR7uvz",
        "outputId": "965f0863-32e8-4ee0-f14e-d1bcecc7791b"
      },
      "source": [
        "sat['Class'].value_counts() # True positives"
      ],
      "execution_count": 560,
      "outputs": [
        {
          "output_type": "execute_result",
          "data": {
            "text/plain": [
              "1    1072\n",
              "7    1038\n",
              "3     961\n",
              "2     479\n",
              "5     470\n",
              "4     415\n",
              "Name: Class, dtype: int64"
            ]
          },
          "metadata": {
            "tags": []
          },
          "execution_count": 560
        }
      ]
    },
    {
      "cell_type": "code",
      "metadata": {
        "colab": {
          "base_uri": "https://localhost:8080/"
        },
        "id": "mDB1o9rtDFJv",
        "outputId": "4b24ebf9-b987-4297-c3bc-2ed0c26dab09"
      },
      "source": [
        "detect1[0]"
      ],
      "execution_count": 561,
      "outputs": [
        {
          "output_type": "execute_result",
          "data": {
            "text/plain": [
              "array([ True])"
            ]
          },
          "metadata": {
            "tags": []
          },
          "execution_count": 561
        }
      ]
    },
    {
      "cell_type": "code",
      "metadata": {
        "colab": {
          "base_uri": "https://localhost:8080/"
        },
        "id": "ryxde1LLC6iP",
        "outputId": "c165a7e3-7cf6-45f1-b54d-8ad38e2af941"
      },
      "source": [
        "from sklearn.model_selection import cross_val_score\r\n",
        "cross_val_score(sgd_clf1, band_01, yband1_5, cv=3, scoring=\"accuracy\")"
      ],
      "execution_count": 562,
      "outputs": [
        {
          "output_type": "execute_result",
          "data": {
            "text/plain": [
              "array([0.97227857, 0.94384303, 0.80311231])"
            ]
          },
          "metadata": {
            "tags": []
          },
          "execution_count": 562
        }
      ]
    },
    {
      "cell_type": "code",
      "metadata": {
        "colab": {
          "base_uri": "https://localhost:8080/"
        },
        "id": "8JxH0f2cgMCl",
        "outputId": "100eb997-869c-4b99-821a-5ddd65be225a"
      },
      "source": [
        "cross_val_score(sgd_clf2, band_02, yband2_5, cv=3, scoring=\"accuracy\")"
      ],
      "execution_count": 563,
      "outputs": [
        {
          "output_type": "execute_result",
          "data": {
            "text/plain": [
              "array([0.89993239, 0.76860622, 0.33626522])"
            ]
          },
          "metadata": {
            "tags": []
          },
          "execution_count": 563
        }
      ]
    },
    {
      "cell_type": "code",
      "metadata": {
        "colab": {
          "base_uri": "https://localhost:8080/"
        },
        "id": "gltOBwF1gN99",
        "outputId": "9c7b6518-52b4-45f8-c83e-ddf239b58103"
      },
      "source": [
        "cross_val_score(sgd_clf3, band_03, yband3_5, cv=3, scoring=\"accuracy\")"
      ],
      "execution_count": 564,
      "outputs": [
        {
          "output_type": "execute_result",
          "data": {
            "text/plain": [
              "array([0.70453009, 0.71515562, 0.23951286])"
            ]
          },
          "metadata": {
            "tags": []
          },
          "execution_count": 564
        }
      ]
    },
    {
      "cell_type": "code",
      "metadata": {
        "colab": {
          "base_uri": "https://localhost:8080/"
        },
        "id": "-IE4K3IsgORP",
        "outputId": "a185516f-8cc1-4902-adcf-119ec5140388"
      },
      "source": [
        "cross_val_score(sgd_clf4, band_04, yband4_5, cv=3, scoring=\"accuracy\")"
      ],
      "execution_count": 565,
      "outputs": [
        {
          "output_type": "execute_result",
          "data": {
            "text/plain": [
              "array([0.54901961, 0.76928281, 0.7165088 ])"
            ]
          },
          "metadata": {
            "tags": []
          },
          "execution_count": 565
        }
      ]
    },
    {
      "cell_type": "markdown",
      "metadata": {
        "id": "ruhqAb4vDg9o"
      },
      "source": [
        "Between 70.52-86.40 % accuracy (ratio of correct predictions)."
      ]
    },
    {
      "cell_type": "code",
      "metadata": {
        "id": "ooqGd9jEDZ1C"
      },
      "source": [
        "from sklearn.base import BaseEstimator\r\n",
        "class Never5Classifier(BaseEstimator):\r\n",
        "  def fit(self, X, y=None):\r\n",
        "    pass\r\n",
        "  def predict(self, X):\r\n",
        "    return np.zeros((len(X), 1), dtype=bool)"
      ],
      "execution_count": 566,
      "outputs": []
    },
    {
      "cell_type": "code",
      "metadata": {
        "colab": {
          "base_uri": "https://localhost:8080/"
        },
        "id": "YHijGfw2DzdR",
        "outputId": "73da1e57-72a6-4336-bdc9-a96c0bd9971a"
      },
      "source": [
        "never_5_clf = Never5Classifier()\r\n",
        "cross_val_score(never_5_clf, band_01, yband1_5, cv=3, scoring=\"accuracy\")"
      ],
      "execution_count": 567,
      "outputs": [
        {
          "output_type": "execute_result",
          "data": {
            "text/plain": [
              "array([0.60784314, 0.91474966, 0.82746955])"
            ]
          },
          "metadata": {
            "tags": []
          },
          "execution_count": 567
        }
      ]
    },
    {
      "cell_type": "code",
      "metadata": {
        "colab": {
          "base_uri": "https://localhost:8080/"
        },
        "id": "KVTjiE_ogYej",
        "outputId": "a0ac68b0-befa-4c3e-9494-fda09a5d7eb6"
      },
      "source": [
        "cross_val_score(never_5_clf, band_02, yband2_5, cv=3, scoring=\"accuracy\")"
      ],
      "execution_count": 568,
      "outputs": [
        {
          "output_type": "execute_result",
          "data": {
            "text/plain": [
              "array([0.60784314, 0.91474966, 0.82746955])"
            ]
          },
          "metadata": {
            "tags": []
          },
          "execution_count": 568
        }
      ]
    },
    {
      "cell_type": "code",
      "metadata": {
        "colab": {
          "base_uri": "https://localhost:8080/"
        },
        "id": "wSQMY0UjgcLQ",
        "outputId": "5b416efc-9195-4b4d-add7-673be3638373"
      },
      "source": [
        "cross_val_score(never_5_clf, band_03, yband3_5, cv=3, scoring=\"accuracy\")"
      ],
      "execution_count": 569,
      "outputs": [
        {
          "output_type": "execute_result",
          "data": {
            "text/plain": [
              "array([0.60784314, 0.91474966, 0.82746955])"
            ]
          },
          "metadata": {
            "tags": []
          },
          "execution_count": 569
        }
      ]
    },
    {
      "cell_type": "code",
      "metadata": {
        "colab": {
          "base_uri": "https://localhost:8080/"
        },
        "id": "F1ymv5Rkgc3L",
        "outputId": "73eddc3c-9713-45c7-fcd9-38e4ace01bf4"
      },
      "source": [
        "cross_val_score(never_5_clf, band_04, yband4_5, cv=3, scoring=\"accuracy\")"
      ],
      "execution_count": 570,
      "outputs": [
        {
          "output_type": "execute_result",
          "data": {
            "text/plain": [
              "array([0.60784314, 0.91474966, 0.82746955])"
            ]
          },
          "metadata": {
            "tags": []
          },
          "execution_count": 570
        }
      ]
    },
    {
      "cell_type": "markdown",
      "metadata": {
        "id": "TcS5oVr5EUvp"
      },
      "source": [
        "Between 86.67-91.74 % accuracy (ratio of correct predictions)."
      ]
    },
    {
      "cell_type": "code",
      "metadata": {
        "id": "nS7q2BsREfvx"
      },
      "source": [
        "from sklearn.model_selection import cross_val_predict\r\n",
        "y_train_pred1 = cross_val_predict(sgd_clf1, band_01, yband1_5, cv=3)\r\n",
        "y_train_pred2 = cross_val_predict(sgd_clf2, band_02, yband2_5, cv=3)\r\n",
        "y_train_pred3 = cross_val_predict(sgd_clf3, band_03, yband3_5, cv=3)\r\n",
        "y_train_pred4 = cross_val_predict(sgd_clf4, band_04, yband4_5, cv=3)"
      ],
      "execution_count": 571,
      "outputs": []
    },
    {
      "cell_type": "code",
      "metadata": {
        "colab": {
          "base_uri": "https://localhost:8080/"
        },
        "id": "Fx7VTJVwEzBd",
        "outputId": "82fa3a58-2a90-4b1d-ee66-192dd1200584"
      },
      "source": [
        "from sklearn.metrics import confusion_matrix\r\n",
        "confusion_matrix(yband1_5, y_train_pred1)"
      ],
      "execution_count": 572,
      "outputs": [
        {
          "output_type": "execute_result",
          "data": {
            "text/plain": [
              "array([[3224,  250],\n",
              "       [ 165,  796]])"
            ]
          },
          "metadata": {
            "tags": []
          },
          "execution_count": 572
        }
      ]
    },
    {
      "cell_type": "markdown",
      "metadata": {
        "id": "LkXas7blGle1"
      },
      "source": [
        "## Precision and Recall\r\n",
        "\r\n",
        "$Precision = \\frac{True Positive}{True Positive + False Positive} = \\frac{True Positive}{Total Predicted Positive} $\r\n",
        "\r\n",
        "$Recall = \\frac{True Positive}{True Positive + False Negative} = \\frac{True Positive}{Total Actual Positive}$\r\n",
        "\r\n",
        "$F1 = 2\\times\\frac{Precision\\times Recall}{Precision + Recall}$\r\n",
        "\r\n",
        "True positive = `yband1_5`"
      ]
    },
    {
      "cell_type": "code",
      "metadata": {
        "colab": {
          "base_uri": "https://localhost:8080/"
        },
        "id": "W-QCLHy9mY0G",
        "outputId": "9f83d401-1392-4303-fc8a-245286c05ff5"
      },
      "source": [
        " #These are the true positives (= 470), since they are taken directly from the original dataset.\r\n",
        "print(yband1_5.value_counts())"
      ],
      "execution_count": 573,
      "outputs": [
        {
          "output_type": "stream",
          "text": [
            "False    3474\n",
            "True      961\n",
            "Name: Class, dtype: int64\n"
          ],
          "name": "stdout"
        }
      ]
    },
    {
      "cell_type": "code",
      "metadata": {
        "colab": {
          "base_uri": "https://localhost:8080/"
        },
        "id": "TBnk1VBjqXRP",
        "outputId": "16501b69-bcb5-4e7b-c208-cd0645fde497"
      },
      "source": [
        "detect1 = pd.DataFrame(detect1) #These are the False positives (taken from the SGDClassifier)\r\n",
        "detect2 = pd.DataFrame(detect2)\r\n",
        "detect3 = pd.DataFrame(detect3)\r\n",
        "detect4 = pd.DataFrame(detect4)\r\n",
        "\r\n",
        "print(detect1.value_counts(), '\\n')\r\n",
        "print(detect2.value_counts(), '\\n')\r\n",
        "print(detect3.value_counts(), '\\n')\r\n",
        "print(detect4.value_counts(), '\\n')"
      ],
      "execution_count": 574,
      "outputs": [
        {
          "output_type": "stream",
          "text": [
            "False    3477\n",
            "True      958\n",
            "dtype: int64 \n",
            "\n",
            "False    3509\n",
            "True      926\n",
            "dtype: int64 \n",
            "\n",
            "False    3536\n",
            "True      899\n",
            "dtype: int64 \n",
            "\n",
            "False    3639\n",
            "True      796\n",
            "dtype: int64 \n",
            "\n"
          ],
          "name": "stdout"
        }
      ]
    },
    {
      "cell_type": "code",
      "metadata": {
        "colab": {
          "base_uri": "https://localhost:8080/"
        },
        "id": "PAlT5w1aFCTV",
        "outputId": "98c3c411-f341-401b-8b02-1f44f22eee48"
      },
      "source": [
        "from sklearn.metrics import precision_score\r\n",
        "precision_score(yband1_5, detect1) # = 470 / (470 + 334)"
      ],
      "execution_count": 575,
      "outputs": [
        {
          "output_type": "execute_result",
          "data": {
            "text/plain": [
              "0.9029227557411273"
            ]
          },
          "metadata": {
            "tags": []
          },
          "execution_count": 575
        }
      ]
    },
    {
      "cell_type": "code",
      "metadata": {
        "colab": {
          "base_uri": "https://localhost:8080/"
        },
        "id": "mZc_8RNljRpX",
        "outputId": "76104dbf-a228-4938-c567-9d423877e4c6"
      },
      "source": [
        "precision_score(yband2_5, detect2)"
      ],
      "execution_count": 576,
      "outputs": [
        {
          "output_type": "execute_result",
          "data": {
            "text/plain": [
              "0.6295896328293736"
            ]
          },
          "metadata": {
            "tags": []
          },
          "execution_count": 576
        }
      ]
    },
    {
      "cell_type": "code",
      "metadata": {
        "colab": {
          "base_uri": "https://localhost:8080/"
        },
        "id": "r6DEArIojTCY",
        "outputId": "05d0bfff-d2f6-4e3a-cf52-a989493e6be7"
      },
      "source": [
        "precision_score(yband3_5, detect3)"
      ],
      "execution_count": 577,
      "outputs": [
        {
          "output_type": "execute_result",
          "data": {
            "text/plain": [
              "0.41379310344827586"
            ]
          },
          "metadata": {
            "tags": []
          },
          "execution_count": 577
        }
      ]
    },
    {
      "cell_type": "code",
      "metadata": {
        "colab": {
          "base_uri": "https://localhost:8080/"
        },
        "id": "rwb89eJ6jTPh",
        "outputId": "036d2b84-e576-408f-ca78-e9f9ab27e3d6"
      },
      "source": [
        "precision_score(yband4_5, detect4)"
      ],
      "execution_count": 578,
      "outputs": [
        {
          "output_type": "execute_result",
          "data": {
            "text/plain": [
              "0.17964824120603015"
            ]
          },
          "metadata": {
            "tags": []
          },
          "execution_count": 578
        }
      ]
    },
    {
      "cell_type": "code",
      "metadata": {
        "colab": {
          "base_uri": "https://localhost:8080/"
        },
        "id": "vQpkkUQHtMHk",
        "outputId": "3f5c9827-6e33-418b-beaa-e54b76f9bccc"
      },
      "source": [
        "from sklearn.metrics import recall_score\r\n",
        "recall_score(yband1_5, y_train_pred1) # = 470 / (470 + [4101 - 3965])"
      ],
      "execution_count": 579,
      "outputs": [
        {
          "output_type": "execute_result",
          "data": {
            "text/plain": [
              "0.8283038501560874"
            ]
          },
          "metadata": {
            "tags": []
          },
          "execution_count": 579
        }
      ]
    },
    {
      "cell_type": "code",
      "metadata": {
        "colab": {
          "base_uri": "https://localhost:8080/"
        },
        "id": "-U2X1E4bjvlj",
        "outputId": "cd8d9bbf-5b68-4d9a-8316-a663cee35342"
      },
      "source": [
        "recall_score(yband2_5, y_train_pred2) "
      ],
      "execution_count": 580,
      "outputs": [
        {
          "output_type": "execute_result",
          "data": {
            "text/plain": [
              "0.5296566077003122"
            ]
          },
          "metadata": {
            "tags": []
          },
          "execution_count": 580
        }
      ]
    },
    {
      "cell_type": "code",
      "metadata": {
        "colab": {
          "base_uri": "https://localhost:8080/"
        },
        "id": "5-qvX-7qjvx6",
        "outputId": "36225629-1f99-40a6-9ad8-9e2ecc541379"
      },
      "source": [
        "recall_score(yband3_5, y_train_pred3) "
      ],
      "execution_count": 581,
      "outputs": [
        {
          "output_type": "execute_result",
          "data": {
            "text/plain": [
              "0.27055150884495316"
            ]
          },
          "metadata": {
            "tags": []
          },
          "execution_count": 581
        }
      ]
    },
    {
      "cell_type": "code",
      "metadata": {
        "colab": {
          "base_uri": "https://localhost:8080/"
        },
        "id": "8C6qItW5jv7L",
        "outputId": "0ae9ad60-3efa-4598-c5d2-1eef5cfb6283"
      },
      "source": [
        "recall_score(yband4_5, y_train_pred4) "
      ],
      "execution_count": 582,
      "outputs": [
        {
          "output_type": "execute_result",
          "data": {
            "text/plain": [
              "0.07492195629552549"
            ]
          },
          "metadata": {
            "tags": []
          },
          "execution_count": 582
        }
      ]
    },
    {
      "cell_type": "code",
      "metadata": {
        "colab": {
          "base_uri": "https://localhost:8080/"
        },
        "id": "ZYe_JI74vuz7",
        "outputId": "b44c5655-ca2b-4b5b-fb8b-62c1aaf39c74"
      },
      "source": [
        "from sklearn.metrics import f1_score\r\n",
        "f1_score(yband1_5, detect1)"
      ],
      "execution_count": 583,
      "outputs": [
        {
          "output_type": "execute_result",
          "data": {
            "text/plain": [
              "0.9015112037519541"
            ]
          },
          "metadata": {
            "tags": []
          },
          "execution_count": 583
        }
      ]
    },
    {
      "cell_type": "code",
      "metadata": {
        "colab": {
          "base_uri": "https://localhost:8080/"
        },
        "id": "_dYfA03CkDKf",
        "outputId": "972d7f09-a21c-4f4f-8932-9744bac16ff2"
      },
      "source": [
        "f1_score(yband2_5, detect2)"
      ],
      "execution_count": 584,
      "outputs": [
        {
          "output_type": "execute_result",
          "data": {
            "text/plain": [
              "0.6179120296767355"
            ]
          },
          "metadata": {
            "tags": []
          },
          "execution_count": 584
        }
      ]
    },
    {
      "cell_type": "code",
      "metadata": {
        "colab": {
          "base_uri": "https://localhost:8080/"
        },
        "id": "pUDRSGXukDvI",
        "outputId": "6dd57682-558c-4228-d0c6-447a4f3fb126"
      },
      "source": [
        "f1_score(yband3_5, detect3)"
      ],
      "execution_count": 585,
      "outputs": [
        {
          "output_type": "execute_result",
          "data": {
            "text/plain": [
              "0.39999999999999997"
            ]
          },
          "metadata": {
            "tags": []
          },
          "execution_count": 585
        }
      ]
    },
    {
      "cell_type": "code",
      "metadata": {
        "colab": {
          "base_uri": "https://localhost:8080/"
        },
        "id": "9wx05MfqkD8x",
        "outputId": "0e68bdea-def1-4e36-cb0e-85be1df228ac"
      },
      "source": [
        "f1_score(yband4_5, detect4)"
      ],
      "execution_count": 586,
      "outputs": [
        {
          "output_type": "execute_result",
          "data": {
            "text/plain": [
              "0.16277746158224246"
            ]
          },
          "metadata": {
            "tags": []
          },
          "execution_count": 586
        }
      ]
    },
    {
      "cell_type": "code",
      "metadata": {
        "id": "9u84DK1jJ_NI"
      },
      "source": [
        "y_scores1 = cross_val_predict(sgd_clf1, band_01, yband1_5, cv=3, method=\"decision_function\")\r\n",
        "y_scores2 = cross_val_predict(sgd_clf2, band_02, yband2_5, cv=3, method=\"decision_function\")\r\n",
        "y_scores3 = cross_val_predict(sgd_clf3, band_03, yband3_5, cv=3, method=\"decision_function\")\r\n",
        "y_scores4 = cross_val_predict(sgd_clf4, band_04, yband4_5, cv=3, method=\"decision_function\")"
      ],
      "execution_count": 587,
      "outputs": []
    },
    {
      "cell_type": "code",
      "metadata": {
        "id": "SoE8-fY6KfjR"
      },
      "source": [
        "from sklearn.metrics import precision_recall_curve\r\n",
        "precisions1, recalls1, thresholds1 = precision_recall_curve(yband1_5, y_scores1)\r\n",
        "precisions2, recalls2, thresholds2 = precision_recall_curve(yband2_5, y_scores2)\r\n",
        "precisions3, recalls3, thresholds3 = precision_recall_curve(yband3_5, y_scores3)\r\n",
        "precisions4, recalls4, thresholds4 = precision_recall_curve(yband4_5, y_scores4)"
      ],
      "execution_count": 588,
      "outputs": []
    },
    {
      "cell_type": "code",
      "metadata": {
        "id": "FtlSYZq9K8xQ"
      },
      "source": [
        "def plot_precision_recall_vs_threshold(precisions, recalls, thresholds):\r\n",
        "  plt.plot(thresholds, precisions[:-1], \"b--\", label='Precision')\r\n",
        "  plt.plot(thresholds, recalls[:-1], 'g-', label='Recall')\r\n",
        "  plt.xlabel('Threshold')\r\n",
        "  plt.legend(loc='upper left')\r\n",
        "  plt.ylim([0,1])"
      ],
      "execution_count": 589,
      "outputs": []
    },
    {
      "cell_type": "code",
      "metadata": {
        "colab": {
          "base_uri": "https://localhost:8080/",
          "height": 1000
        },
        "id": "prlV9p0HNg74",
        "outputId": "fefce238-3b71-49ae-dfc6-4f2a7f5ad6a4"
      },
      "source": [
        "plot_precision_recall_vs_threshold(precisions1, recalls1, thresholds1)\r\n",
        "plt.show()\r\n",
        "plot_precision_recall_vs_threshold(precisions2, recalls2, thresholds2)\r\n",
        "plt.show()\r\n",
        "plot_precision_recall_vs_threshold(precisions3, recalls3, thresholds3)\r\n",
        "plt.show()\r\n",
        "plot_precision_recall_vs_threshold(precisions4, recalls4, thresholds4)\r\n",
        "plt.show()"
      ],
      "execution_count": 590,
      "outputs": [
        {
          "output_type": "display_data",
          "data": {
            "image/png": "[encoded data removed]",
            "text/plain": [
              "<Figure size 432x288 with 1 Axes>"
            ]
          },
          "metadata": {
            "tags": [],
            "needs_background": "light"
          }
        },
        {
          "output_type": "display_data",
          "data": {
            "image/png": "[encoded data removed]",
            "text/plain": [
              "<Figure size 432x288 with 1 Axes>"
            ]
          },
          "metadata": {
            "tags": [],
            "needs_background": "light"
          }
        },
        {
          "output_type": "display_data",
          "data": {
            "image/png": "[encoded data removed]",
            "text/plain": [
              "<Figure size 432x288 with 1 Axes>"
            ]
          },
          "metadata": {
            "tags": [],
            "needs_background": "light"
          }
        },
        {
          "output_type": "display_data",
          "data": {
            "image/png": "[encoded data removed]",
            "text/plain": [
              "<Figure size 432x288 with 1 Axes>"
            ]
          },
          "metadata": {
            "tags": [],
            "needs_background": "light"
          }
        }
      ]
    },
    {
      "cell_type": "code",
      "metadata": {
        "id": "cC-lVUS2a1A2"
      },
      "source": [
        "def plot_precision_vs_recall(precisions, recalls):\r\n",
        "  plt.plot(recalls[:-1], precisions[:-1], \"b-\")\r\n",
        "  plt.xlabel('Recall')\r\n",
        "  plt.ylabel('Precision')\r\n",
        "  plt.ylim([0,1])"
      ],
      "execution_count": 591,
      "outputs": []
    },
    {
      "cell_type": "code",
      "metadata": {
        "colab": {
          "base_uri": "https://localhost:8080/",
          "height": 1000
        },
        "id": "xokgZRupbgFs",
        "outputId": "50561a3b-b940-496a-997e-8c05e58c49e3"
      },
      "source": [
        "plot_precision_vs_recall(precisions1, recalls1)\r\n",
        "plt.show()\r\n",
        "plot_precision_vs_recall(precisions2, recalls2)\r\n",
        "plt.show()\r\n",
        "plot_precision_vs_recall(precisions3, recalls3)\r\n",
        "plt.show()\r\n",
        "plot_precision_vs_recall(precisions4, recalls4)\r\n",
        "plt.show()"
      ],
      "execution_count": 592,
      "outputs": [
        {
          "output_type": "display_data",
          "data": {
            "image/png": "[encoded data removed]",
            "text/plain": [
              "<Figure size 432x288 with 1 Axes>"
            ]
          },
          "metadata": {
            "tags": [],
            "needs_background": "light"
          }
        },
        {
          "output_type": "display_data",
          "data": {
            "image/png": "[encoded data removed]",
            "text/plain": [
              "<Figure size 432x288 with 1 Axes>"
            ]
          },
          "metadata": {
            "tags": [],
            "needs_background": "light"
          }
        },
        {
          "output_type": "display_data",
          "data": {
            "image/png": "[encoded data removed]",
            "text/plain": [
              "<Figure size 432x288 with 1 Axes>"
            ]
          },
          "metadata": {
            "tags": [],
            "needs_background": "light"
          }
        },
        {
          "output_type": "display_data",
          "data": {
            "image/png": "[encoded data removed]",
            "text/plain": [
              "<Figure size 432x288 with 1 Axes>"
            ]
          },
          "metadata": {
            "tags": [],
            "needs_background": "light"
          }
        }
      ]
    },
    {
      "cell_type": "markdown",
      "metadata": {
        "id": "zsc16fbXl9Wd"
      },
      "source": [
        "This is very bad precision and recall. A 0.20 precision and recall is pure randomness, considering that we are sarching for one class among five (that is 0.2/1.0)"
      ]
    }
  ]
}