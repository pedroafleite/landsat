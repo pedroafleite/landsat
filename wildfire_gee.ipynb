{
  "nbformat": 4,
  "nbformat_minor": 0,
  "metadata": {
    "colab": {
      "name": "wildfire_gee.ipynb",
      "provenance": [],
      "collapsed_sections": [],
      "authorship_tag": "ABX9TyO8F6XPLv+6GfgRelX0zzE3",
      "include_colab_link": true
    },
    "kernelspec": {
      "name": "python3",
      "display_name": "Python 3"
    }
  },
  "cells": [
    {
      "cell_type": "markdown",
      "metadata": {
        "id": "view-in-github",
        "colab_type": "text"
      },
      "source": [
        "<a href=\"https://colab.research.google.com/github/pedroafleite/landsat/blob/main/wildfire_gee.ipynb\" target=\"_parent\"><img src=\"https://colab.research.google.com/assets/colab-badge.svg\" alt=\"Open In Colab\"/></a>"
      ]
    },
    {
      "cell_type": "markdown",
      "metadata": {
        "id": "pylYXa-VFsFb"
      },
      "source": [
        "References: https://medium.com/google-earth/how-to-generate-wildfire-boundary-maps-with-earth-engine-b38eadc97a38"
      ]
    },
    {
      "cell_type": "markdown",
      "metadata": {
        "id": "TZuXF8fs8Yne"
      },
      "source": [
        "## Keeping an eye on earth from geostationary orbit\r\n",
        "\r\n",
        "- [GOES](https://www.goes-r.gov/) 16 and 17 satellites\r\n",
        "  - [GOES ABI imager](https://www.goes-r.gov/spacesegment/abi.html)\r\n",
        "  - [FDC fire detection algorithm](https://www.star.nesdis.noaa.gov/goesr/docs/ATBD/Fire.pdf)\r\n",
        "    - It provides a \"[fire mask code](https://developers.google.com/earth-engine/datasets/catalog/NOAA_GOES_16_FDCF#bands)\" for each pixel.\r\n",
        "\r\n",
        "Data provided as:\r\n",
        "\r\n",
        "    ee.ImageCollection(\"NOAA/GOES/16/FDCF\")\r\n",
        "and\r\n",
        "\r\n",
        "    ee.ImageCollection(\"NOAA/GOES/17/FDCF\")\r\n"
      ]
    },
    {
      "cell_type": "markdown",
      "metadata": {
        "id": "mFZRJivLEoiK"
      },
      "source": [
        "\r\n",
        "## Detecting wildfire signals from polar-orbiting satellites\r\n",
        "\r\n",
        "- [Suomi NPP satellite](https://www.nasa.gov/mission_pages/NPP/mission_overview)\r\n",
        "  - Polar-orbiting satellites that fly at a lower altitude\r\n",
        "  - Higher spatial resolution\r\n",
        "  - Covers the entire Earth surface\r\n",
        "- [VIIRS](https://www.jpss.noaa.gov/viirs.html): Visible Infrared Imaging Radiometer Suite. Contained in the Suomi NPP satellite. Collects wildfire-related signals at 375m resolution.\r\n",
        "    - AVHRR: Advanced Very High Resolution Radiometer\r\n",
        "    - OLS: Operational Linescan System\r\n",
        "    - [MODIS](https://modis.gsfc.nasa.gov/about/): Moderate Resolution Imaging Spectroradiometer. This is the instrument responsible for collecting [wildfire-related signals](http://modis-fire.umd.edu/). MODIS is also aboard the [Aqua](https://aqua.nasa.gov/) and [Terra](https://terra.nasa.gov/) satellites.\r\n",
        "\r\n",
        "\r\n",
        "[Thermal Anomalies and Fire Daily Global 1km](https://doi.org/10.5067/MODIS/MOD14A1.006) dataset from the MODIS sensor available as:\r\n",
        "\r\n",
        "        ee.ImageCollection(\"MODIS/006/MOD14A1\")"
      ]
    },
    {
      "cell_type": "markdown",
      "metadata": {
        "id": "t3IXwG-uF9DT"
      },
      "source": [
        "## Processing wildfire imagery data\r\n",
        "\r\n",
        "Sources:\r\n",
        "- [NASA Fire Information for Resource Management System (FIRMS)](https://firms.modaps.eosdis.nasa.gov/)\r\n",
        "- [EC Global Wildfire Information System (GWIS)](https://gwis.jrc.ec.europa.eu/static/gwis_current_situation/public)\r\n",
        "- [US National Wildfire Coordinating Group (NWCG) InciWeb](https://inciweb.nwcg.gov/)\r\n",
        "\r\n",
        "Let's analyse the [California Kincade fire](https://www.fire.ca.gov/incidents/2019/10/23/kincade-fire/)"
      ]
    },
    {
      "cell_type": "markdown",
      "metadata": {
        "id": "2u2utbuEOcHo"
      },
      "source": [
        "### Using a single satellite\r\n",
        "\r\n",
        "- Processed fire pixel (value 10)\r\n",
        "- Saturated fire pixel (11)\r\n",
        "- Cloud contaminated fire pixel (12)\r\n",
        "- High probability fire pixel (13)\r\n",
        "- Medium probability fire pixel (14)\r\n",
        "- Low probability fire pixel (15)\r\n",
        "- “Temporally filtered” values:\r\n",
        "  - Temporally filtered process fire pixel (30)\r\n",
        "  - Temporally filtered saturated fire pixel (31)\r\n",
        "  - Cloud contaminated fire (32)\r\n",
        "  - High probability fire (33)\r\n",
        "  - Medium probability fire (34)\r\n",
        "  - Low probability fire (35)\r\n",
        "\r\n",
        "Now, let's start by [filtering the image](https://developers.google.com/earth-engine/guides/ic_filtering) by [date](https://developers.google.com/earth-engine/api_docs#ee.imagecollection.filterdate) and [bounds](https://developers.google.com/earth-engine/api_docs#ee.imagecollection.filterbounds)."
      ]
    }
  ]
}